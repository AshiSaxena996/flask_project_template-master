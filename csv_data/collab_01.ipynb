{
 "cells": [
  {
   "cell_type": "code",
   "execution_count": 95,
   "metadata": {},
   "outputs": [],
   "source": [
    "import pandas as pd\n",
    "import numpy as np\n",
    "from matplotlib import pyplot as plt\n",
    "from sklearn.metrics.pairwise import cosine_similarity\n",
    "from sklearn.metrics import pairwise_distances"
   ]
  },
  {
   "cell_type": "code",
   "execution_count": 96,
   "metadata": {},
   "outputs": [],
   "source": [
    "user= pd.read_csv('user_ratings.csv', encoding=\"latin1\")"
   ]
  },
  {
   "cell_type": "code",
   "execution_count": 97,
   "metadata": {
    "collapsed": true,
    "jupyter": {
     "outputs_hidden": true
    }
   },
   "outputs": [
    {
     "output_type": "stream",
     "name": "stdout",
     "text": "<class 'pandas.core.frame.DataFrame'>\nRangeIndex: 1500 entries, 0 to 1499\nData columns (total 5 columns):\n #   Column      Non-Null Count  Dtype  \n---  ------      --------------  -----  \n 0   Unnamed: 0  1500 non-null   int64  \n 1   USERNAME    1500 non-null   object \n 2   REST_ID     1500 non-null   int64  \n 3   RESTAURANT  1500 non-null   object \n 4   RATING      1500 non-null   float64\ndtypes: float64(1), int64(2), object(2)\nmemory usage: 58.7+ KB\n"
    }
   ],
   "source": [
    "user.info()"
   ]
  },
  {
   "cell_type": "code",
   "execution_count": 98,
   "metadata": {},
   "outputs": [
    {
     "output_type": "execute_result",
     "data": {
      "text/plain": "    Unnamed: 0     USERNAME  REST_ID                           RESTAURANT  \\\n10          10  user_02_abc    97099                     Milan Restaurant   \n11          11  user_02_abc    79267  Gale Regale - The Metropolitan Club   \n12          12  user_02_abc    84842                        Punjabi Tadka   \n13          13  user_02_abc    96251                  Republic Of Chicken   \n14          14  user_02_abc   100022                        Alamgir Hotel   \n15          15  user_02_abc   100800          Panditji Ke Dehati Rasgulle   \n16          16  user_02_abc    82949                           Globe Cafe   \n17          17  user_02_abc    77188       Dhindhora Fine Dine Restaurant   \n18          18  user_02_abc    77290                   Tanisha Restaurant   \n19          19  user_02_abc    98172     Branche Bar - Hotel Golden Tulip   \n\n    RATING  \n10     2.6  \n11     3.3  \n12     5.0  \n13     4.9  \n14     5.0  \n15     3.9  \n16     3.1  \n17     4.3  \n18     3.0  \n19     4.1  ",
      "text/html": "<div>\n<style scoped>\n    .dataframe tbody tr th:only-of-type {\n        vertical-align: middle;\n    }\n\n    .dataframe tbody tr th {\n        vertical-align: top;\n    }\n\n    .dataframe thead th {\n        text-align: right;\n    }\n</style>\n<table border=\"1\" class=\"dataframe\">\n  <thead>\n    <tr style=\"text-align: right;\">\n      <th></th>\n      <th>Unnamed: 0</th>\n      <th>USERNAME</th>\n      <th>REST_ID</th>\n      <th>RESTAURANT</th>\n      <th>RATING</th>\n    </tr>\n  </thead>\n  <tbody>\n    <tr>\n      <th>10</th>\n      <td>10</td>\n      <td>user_02_abc</td>\n      <td>97099</td>\n      <td>Milan Restaurant</td>\n      <td>2.6</td>\n    </tr>\n    <tr>\n      <th>11</th>\n      <td>11</td>\n      <td>user_02_abc</td>\n      <td>79267</td>\n      <td>Gale Regale - The Metropolitan Club</td>\n      <td>3.3</td>\n    </tr>\n    <tr>\n      <th>12</th>\n      <td>12</td>\n      <td>user_02_abc</td>\n      <td>84842</td>\n      <td>Punjabi Tadka</td>\n      <td>5.0</td>\n    </tr>\n    <tr>\n      <th>13</th>\n      <td>13</td>\n      <td>user_02_abc</td>\n      <td>96251</td>\n      <td>Republic Of Chicken</td>\n      <td>4.9</td>\n    </tr>\n    <tr>\n      <th>14</th>\n      <td>14</td>\n      <td>user_02_abc</td>\n      <td>100022</td>\n      <td>Alamgir Hotel</td>\n      <td>5.0</td>\n    </tr>\n    <tr>\n      <th>15</th>\n      <td>15</td>\n      <td>user_02_abc</td>\n      <td>100800</td>\n      <td>Panditji Ke Dehati Rasgulle</td>\n      <td>3.9</td>\n    </tr>\n    <tr>\n      <th>16</th>\n      <td>16</td>\n      <td>user_02_abc</td>\n      <td>82949</td>\n      <td>Globe Cafe</td>\n      <td>3.1</td>\n    </tr>\n    <tr>\n      <th>17</th>\n      <td>17</td>\n      <td>user_02_abc</td>\n      <td>77188</td>\n      <td>Dhindhora Fine Dine Restaurant</td>\n      <td>4.3</td>\n    </tr>\n    <tr>\n      <th>18</th>\n      <td>18</td>\n      <td>user_02_abc</td>\n      <td>77290</td>\n      <td>Tanisha Restaurant</td>\n      <td>3.0</td>\n    </tr>\n    <tr>\n      <th>19</th>\n      <td>19</td>\n      <td>user_02_abc</td>\n      <td>98172</td>\n      <td>Branche Bar - Hotel Golden Tulip</td>\n      <td>4.1</td>\n    </tr>\n  </tbody>\n</table>\n</div>"
     },
     "metadata": {},
     "execution_count": 98
    }
   ],
   "source": [
    "user[user[\"USERNAME\"]=='user_02_abc']"
   ]
  },
  {
   "cell_type": "code",
   "execution_count": 99,
   "metadata": {},
   "outputs": [
    {
     "output_type": "execute_result",
     "data": {
      "text/plain": "[2.6, 3.3, 5.0, 4.9, 5.0, 3.9, 3.1, 4.3, 3.0, 4.1]"
     },
     "metadata": {},
     "execution_count": 99
    }
   ],
   "source": [
    "a= user[user[\"USERNAME\"]=='user_02_abc']\n",
    "b= a[\"RATING\"]\n",
    "b.tolist()"
   ]
  },
  {
   "cell_type": "code",
   "execution_count": 100,
   "metadata": {},
   "outputs": [],
   "source": [
    "df = user.set_index(\"Unnamed: 0\", drop = True)"
   ]
  },
  {
   "cell_type": "code",
   "execution_count": 101,
   "metadata": {
    "collapsed": true,
    "jupyter": {
     "outputs_hidden": true
    }
   },
   "outputs": [
    {
     "output_type": "execute_result",
     "data": {
      "text/plain": "                 USERNAME  REST_ID  \\\nUnnamed: 0                           \n0             user_01_abc    82057   \n1             user_01_abc    83657   \n2             user_01_abc    89626   \n3             user_01_abc    91276   \n4             user_01_abc    93829   \n...                   ...      ...   \n1495        user_0150_abc    89641   \n1496        user_0150_abc    77653   \n1497        user_0150_abc    88911   \n1498        user_0150_abc    93115   \n1499        user_0150_abc    90424   \n\n                                            RESTAURANT  RATING  \nUnnamed: 0                                                      \n0                                     Ritz Continental     4.5  \n1           Coffee & Cakes - Renaissance Lucknow Hotel     4.8  \n2                                        Newly Biryani     3.1  \n3                                    Moti Mahal Sweets     4.1  \n4                                              Lollyss     3.7  \n...                                                ...     ...  \n1495                              Richi Rich Fast Food     5.1  \n1496                                   Vintage Village     3.6  \n1497                                             Poker     4.6  \n1498                        New Baba Family Restaurant     4.9  \n1499                                  Earthen Flavours     4.7  \n\n[1500 rows x 4 columns]",
      "text/html": "<div>\n<style scoped>\n    .dataframe tbody tr th:only-of-type {\n        vertical-align: middle;\n    }\n\n    .dataframe tbody tr th {\n        vertical-align: top;\n    }\n\n    .dataframe thead th {\n        text-align: right;\n    }\n</style>\n<table border=\"1\" class=\"dataframe\">\n  <thead>\n    <tr style=\"text-align: right;\">\n      <th></th>\n      <th>USERNAME</th>\n      <th>REST_ID</th>\n      <th>RESTAURANT</th>\n      <th>RATING</th>\n    </tr>\n    <tr>\n      <th>Unnamed: 0</th>\n      <th></th>\n      <th></th>\n      <th></th>\n      <th></th>\n    </tr>\n  </thead>\n  <tbody>\n    <tr>\n      <th>0</th>\n      <td>user_01_abc</td>\n      <td>82057</td>\n      <td>Ritz Continental</td>\n      <td>4.5</td>\n    </tr>\n    <tr>\n      <th>1</th>\n      <td>user_01_abc</td>\n      <td>83657</td>\n      <td>Coffee &amp; Cakes - Renaissance Lucknow Hotel</td>\n      <td>4.8</td>\n    </tr>\n    <tr>\n      <th>2</th>\n      <td>user_01_abc</td>\n      <td>89626</td>\n      <td>Newly Biryani</td>\n      <td>3.1</td>\n    </tr>\n    <tr>\n      <th>3</th>\n      <td>user_01_abc</td>\n      <td>91276</td>\n      <td>Moti Mahal Sweets</td>\n      <td>4.1</td>\n    </tr>\n    <tr>\n      <th>4</th>\n      <td>user_01_abc</td>\n      <td>93829</td>\n      <td>Lollyss</td>\n      <td>3.7</td>\n    </tr>\n    <tr>\n      <th>...</th>\n      <td>...</td>\n      <td>...</td>\n      <td>...</td>\n      <td>...</td>\n    </tr>\n    <tr>\n      <th>1495</th>\n      <td>user_0150_abc</td>\n      <td>89641</td>\n      <td>Richi Rich Fast Food</td>\n      <td>5.1</td>\n    </tr>\n    <tr>\n      <th>1496</th>\n      <td>user_0150_abc</td>\n      <td>77653</td>\n      <td>Vintage Village</td>\n      <td>3.6</td>\n    </tr>\n    <tr>\n      <th>1497</th>\n      <td>user_0150_abc</td>\n      <td>88911</td>\n      <td>Poker</td>\n      <td>4.6</td>\n    </tr>\n    <tr>\n      <th>1498</th>\n      <td>user_0150_abc</td>\n      <td>93115</td>\n      <td>New Baba Family Restaurant</td>\n      <td>4.9</td>\n    </tr>\n    <tr>\n      <th>1499</th>\n      <td>user_0150_abc</td>\n      <td>90424</td>\n      <td>Earthen Flavours</td>\n      <td>4.7</td>\n    </tr>\n  </tbody>\n</table>\n<p>1500 rows × 4 columns</p>\n</div>"
     },
     "metadata": {},
     "execution_count": 101
    }
   ],
   "source": [
    "df"
   ]
  },
  {
   "cell_type": "code",
   "execution_count": 102,
   "metadata": {},
   "outputs": [],
   "source": [
    "a1= df.loc[10:20,\"RATING\"]\n",
    "a2= list(a1)"
   ]
  },
  {
   "cell_type": "code",
   "execution_count": null,
   "metadata": {},
   "outputs": [],
   "source": []
  },
  {
   "cell_type": "code",
   "execution_count": 103,
   "metadata": {},
   "outputs": [],
   "source": [
    "import pandas as pd"
   ]
  },
  {
   "cell_type": "code",
   "execution_count": 105,
   "metadata": {
    "collapsed": true,
    "jupyter": {
     "outputs_hidden": true
    }
   },
   "outputs": [
    {
     "output_type": "execute_result",
     "data": {
      "text/plain": "       USERNAME  REST_ID                                  RESTAURANT  \\\n0   user_01_abc    82057                            Ritz Continental   \n1   user_01_abc    83657  Coffee & Cakes - Renaissance Lucknow Hotel   \n2   user_01_abc    89626                               Newly Biryani   \n3   user_01_abc    91276                           Moti Mahal Sweets   \n4   user_01_abc    93829                                     Lollyss   \n5   user_01_abc    86930                          The Deli - Novotel   \n6   user_01_abc    79783                                 The Nawab's   \n7   user_01_abc    90944                                  Yo Yo Land   \n8   user_01_abc    78715                                 Snack Shack   \n9   user_01_abc    97146                       Manya's Bakers & Cafe   \n10  user_02_abc    97099                            Milan Restaurant   \n11  user_02_abc    79267         Gale Regale - The Metropolitan Club   \n12  user_02_abc    84842                               Punjabi Tadka   \n13  user_02_abc    96251                         Republic Of Chicken   \n14  user_02_abc   100022                               Alamgir Hotel   \n\n    RATING_x  RATING_y  adg_rating  \n0        4.5      3.91        0.59  \n1        4.8      3.91        0.89  \n2        3.1      3.91       -0.81  \n3        4.1      3.91        0.19  \n4        3.7      3.91       -0.21  \n5        3.6      3.91       -0.31  \n6        4.7      3.91        0.79  \n7        4.3      3.91        0.39  \n8        2.6      3.91       -1.31  \n9        3.7      3.91       -0.21  \n10       2.6      3.92       -1.32  \n11       3.3      3.92       -0.62  \n12       5.0      3.92        1.08  \n13       4.9      3.92        0.98  \n14       5.0      3.92        1.08  ",
      "text/html": "<div>\n<style scoped>\n    .dataframe tbody tr th:only-of-type {\n        vertical-align: middle;\n    }\n\n    .dataframe tbody tr th {\n        vertical-align: top;\n    }\n\n    .dataframe thead th {\n        text-align: right;\n    }\n</style>\n<table border=\"1\" class=\"dataframe\">\n  <thead>\n    <tr style=\"text-align: right;\">\n      <th></th>\n      <th>USERNAME</th>\n      <th>REST_ID</th>\n      <th>RESTAURANT</th>\n      <th>RATING_x</th>\n      <th>RATING_y</th>\n      <th>adg_rating</th>\n    </tr>\n  </thead>\n  <tbody>\n    <tr>\n      <th>0</th>\n      <td>user_01_abc</td>\n      <td>82057</td>\n      <td>Ritz Continental</td>\n      <td>4.5</td>\n      <td>3.91</td>\n      <td>0.59</td>\n    </tr>\n    <tr>\n      <th>1</th>\n      <td>user_01_abc</td>\n      <td>83657</td>\n      <td>Coffee &amp; Cakes - Renaissance Lucknow Hotel</td>\n      <td>4.8</td>\n      <td>3.91</td>\n      <td>0.89</td>\n    </tr>\n    <tr>\n      <th>2</th>\n      <td>user_01_abc</td>\n      <td>89626</td>\n      <td>Newly Biryani</td>\n      <td>3.1</td>\n      <td>3.91</td>\n      <td>-0.81</td>\n    </tr>\n    <tr>\n      <th>3</th>\n      <td>user_01_abc</td>\n      <td>91276</td>\n      <td>Moti Mahal Sweets</td>\n      <td>4.1</td>\n      <td>3.91</td>\n      <td>0.19</td>\n    </tr>\n    <tr>\n      <th>4</th>\n      <td>user_01_abc</td>\n      <td>93829</td>\n      <td>Lollyss</td>\n      <td>3.7</td>\n      <td>3.91</td>\n      <td>-0.21</td>\n    </tr>\n    <tr>\n      <th>5</th>\n      <td>user_01_abc</td>\n      <td>86930</td>\n      <td>The Deli - Novotel</td>\n      <td>3.6</td>\n      <td>3.91</td>\n      <td>-0.31</td>\n    </tr>\n    <tr>\n      <th>6</th>\n      <td>user_01_abc</td>\n      <td>79783</td>\n      <td>The Nawab's</td>\n      <td>4.7</td>\n      <td>3.91</td>\n      <td>0.79</td>\n    </tr>\n    <tr>\n      <th>7</th>\n      <td>user_01_abc</td>\n      <td>90944</td>\n      <td>Yo Yo Land</td>\n      <td>4.3</td>\n      <td>3.91</td>\n      <td>0.39</td>\n    </tr>\n    <tr>\n      <th>8</th>\n      <td>user_01_abc</td>\n      <td>78715</td>\n      <td>Snack Shack</td>\n      <td>2.6</td>\n      <td>3.91</td>\n      <td>-1.31</td>\n    </tr>\n    <tr>\n      <th>9</th>\n      <td>user_01_abc</td>\n      <td>97146</td>\n      <td>Manya's Bakers &amp; Cafe</td>\n      <td>3.7</td>\n      <td>3.91</td>\n      <td>-0.21</td>\n    </tr>\n    <tr>\n      <th>10</th>\n      <td>user_02_abc</td>\n      <td>97099</td>\n      <td>Milan Restaurant</td>\n      <td>2.6</td>\n      <td>3.92</td>\n      <td>-1.32</td>\n    </tr>\n    <tr>\n      <th>11</th>\n      <td>user_02_abc</td>\n      <td>79267</td>\n      <td>Gale Regale - The Metropolitan Club</td>\n      <td>3.3</td>\n      <td>3.92</td>\n      <td>-0.62</td>\n    </tr>\n    <tr>\n      <th>12</th>\n      <td>user_02_abc</td>\n      <td>84842</td>\n      <td>Punjabi Tadka</td>\n      <td>5.0</td>\n      <td>3.92</td>\n      <td>1.08</td>\n    </tr>\n    <tr>\n      <th>13</th>\n      <td>user_02_abc</td>\n      <td>96251</td>\n      <td>Republic Of Chicken</td>\n      <td>4.9</td>\n      <td>3.92</td>\n      <td>0.98</td>\n    </tr>\n    <tr>\n      <th>14</th>\n      <td>user_02_abc</td>\n      <td>100022</td>\n      <td>Alamgir Hotel</td>\n      <td>5.0</td>\n      <td>3.92</td>\n      <td>1.08</td>\n    </tr>\n  </tbody>\n</table>\n</div>"
     },
     "metadata": {},
     "execution_count": 105
    }
   ],
   "source": [
    "hotel = pd.read_csv(\"lko_final_01.csv\",encoding=\"Latin1\",index_col=0)\n",
    "Ratings = pd.read_csv(\"user_ratings.csv\", encoding=\"Latin1\",index_col=0)\n",
    "Mean = Ratings.groupby(by=\"USERNAME\",as_index=False)['RATING'].mean()\n",
    "Rating_avg = pd.merge(Ratings,Mean,on='USERNAME')\n",
    "\n",
    "Rating_avg['adg_rating']=Rating_avg['RATING_x']-Rating_avg['RATING_y']\n",
    "Rating_avg.head(15)"
   ]
  },
  {
   "cell_type": "code",
   "execution_count": 106,
   "metadata": {
    "collapsed": true,
    "jupyter": {
     "outputs_hidden": true
    }
   },
   "outputs": [
    {
     "output_type": "execute_result",
     "data": {
      "text/plain": "                                                zomato_url  \\\nrest_id                                                      \n74366    https://www.zomato.com/lucknow/good-bakery-nis...   \n74385    https://www.zomato.com/lucknow/sepia-renaissan...   \n74403    https://www.zomato.com/lucknow/cake-n-cafe-aas...   \n74420    https://www.zomato.com/lucknow/ram-asrey-hazra...   \n74438    https://www.zomato.com/lucknow/nawabeens-awadh...   \n\n                                      name     city         area  rating  \\\nrest_id                                                                    \n74366                          Good Bakery  Lucknow   Nishatganj     4.0   \n74385    Sepia - Renaissance Lucknow Hotel  Lucknow  Gomti Nagar     4.1   \n74403                        Cake 'n' Cafe  Lucknow     Aashiana     3.8   \n74420                            Ram Asrey  Lucknow   Hazratganj     4.1   \n74438         Nawabeen's Awadhi Restaurant  Lucknow      Lalbagh     3.9   \n\n         rating_count                    telephone  \\\nrest_id                                              \n74366           279.0  0522 4000145 +91 9335912829   \n74385           223.0                 080 45128594   \n74403           270.0  0522 4304555 +91 7991585855   \n74420           207.0  0522 4006000 +91 9454512700   \n74438           296.0                 080 45128621   \n\n                                cusine  cost_for_two  \\\nrest_id                                                \n74366                Bakery, Fast Food         450.0   \n74385                           Awadhi        1500.0   \n74403      Fast Food, Bakery, Desserts         200.0   \n74420      Mithai, Fast Food, Desserts         350.0   \n74438    Awadhi, North Indian, Mughlai        1200.0   \n\n                                                   address  online_order  \\\nrest_id                                                                    \n74366              Near Indira Bridge, Nishatganj, Lucknow          True   \n74385    Renaissance Lucknow Hotel, Vipin Khand, Gomti ...         False   \n74403    M 249, LDA Colony, Sector G, Ashiyana, Near Po...          True   \n74420    43/48, Nawal Kishore Road, Near Leela Theatre,...          True   \n74438    3, Quinton Road, Near Nishat Hospital, Lalbagh...          True   \n\n         table_reservation  delivery_only  \\\nrest_id                                     \n74366                False          False   \n74385                 True          False   \n74403                 True          False   \n74420                False          False   \n74438                 True          False   \n\n                                               famous_food  longitude  \\\nrest_id                                                                 \n74366                         Noodle , Fried Rice , Coffee  80.956512   \n74385    Warqi Parantha , Mutton Biryani , Chicken Tikk...  80.973488   \n74403                                              Waffles  80.908467   \n74420    Malai Paan , Chaat , Aloo Tikki , Dhokla , Ras...  80.943666   \n74438    Biryani , Kulcha Nihari , Fish Tikka , Mutton ...  80.936131   \n\n          latitude  \nrest_id             \n74366    26.870551  \n74385    26.853250  \n74403    26.789445  \n74420    26.850022  \n74438    26.850230  ",
      "text/html": "<div>\n<style scoped>\n    .dataframe tbody tr th:only-of-type {\n        vertical-align: middle;\n    }\n\n    .dataframe tbody tr th {\n        vertical-align: top;\n    }\n\n    .dataframe thead th {\n        text-align: right;\n    }\n</style>\n<table border=\"1\" class=\"dataframe\">\n  <thead>\n    <tr style=\"text-align: right;\">\n      <th></th>\n      <th>zomato_url</th>\n      <th>name</th>\n      <th>city</th>\n      <th>area</th>\n      <th>rating</th>\n      <th>rating_count</th>\n      <th>telephone</th>\n      <th>cusine</th>\n      <th>cost_for_two</th>\n      <th>address</th>\n      <th>online_order</th>\n      <th>table_reservation</th>\n      <th>delivery_only</th>\n      <th>famous_food</th>\n      <th>longitude</th>\n      <th>latitude</th>\n    </tr>\n    <tr>\n      <th>rest_id</th>\n      <th></th>\n      <th></th>\n      <th></th>\n      <th></th>\n      <th></th>\n      <th></th>\n      <th></th>\n      <th></th>\n      <th></th>\n      <th></th>\n      <th></th>\n      <th></th>\n      <th></th>\n      <th></th>\n      <th></th>\n      <th></th>\n    </tr>\n  </thead>\n  <tbody>\n    <tr>\n      <th>74366</th>\n      <td>https://www.zomato.com/lucknow/good-bakery-nis...</td>\n      <td>Good Bakery</td>\n      <td>Lucknow</td>\n      <td>Nishatganj</td>\n      <td>4.0</td>\n      <td>279.0</td>\n      <td>0522 4000145 +91 9335912829</td>\n      <td>Bakery, Fast Food</td>\n      <td>450.0</td>\n      <td>Near Indira Bridge, Nishatganj, Lucknow</td>\n      <td>True</td>\n      <td>False</td>\n      <td>False</td>\n      <td>Noodle , Fried Rice , Coffee</td>\n      <td>80.956512</td>\n      <td>26.870551</td>\n    </tr>\n    <tr>\n      <th>74385</th>\n      <td>https://www.zomato.com/lucknow/sepia-renaissan...</td>\n      <td>Sepia - Renaissance Lucknow Hotel</td>\n      <td>Lucknow</td>\n      <td>Gomti Nagar</td>\n      <td>4.1</td>\n      <td>223.0</td>\n      <td>080 45128594</td>\n      <td>Awadhi</td>\n      <td>1500.0</td>\n      <td>Renaissance Lucknow Hotel, Vipin Khand, Gomti ...</td>\n      <td>False</td>\n      <td>True</td>\n      <td>False</td>\n      <td>Warqi Parantha , Mutton Biryani , Chicken Tikk...</td>\n      <td>80.973488</td>\n      <td>26.853250</td>\n    </tr>\n    <tr>\n      <th>74403</th>\n      <td>https://www.zomato.com/lucknow/cake-n-cafe-aas...</td>\n      <td>Cake 'n' Cafe</td>\n      <td>Lucknow</td>\n      <td>Aashiana</td>\n      <td>3.8</td>\n      <td>270.0</td>\n      <td>0522 4304555 +91 7991585855</td>\n      <td>Fast Food, Bakery, Desserts</td>\n      <td>200.0</td>\n      <td>M 249, LDA Colony, Sector G, Ashiyana, Near Po...</td>\n      <td>True</td>\n      <td>True</td>\n      <td>False</td>\n      <td>Waffles</td>\n      <td>80.908467</td>\n      <td>26.789445</td>\n    </tr>\n    <tr>\n      <th>74420</th>\n      <td>https://www.zomato.com/lucknow/ram-asrey-hazra...</td>\n      <td>Ram Asrey</td>\n      <td>Lucknow</td>\n      <td>Hazratganj</td>\n      <td>4.1</td>\n      <td>207.0</td>\n      <td>0522 4006000 +91 9454512700</td>\n      <td>Mithai, Fast Food, Desserts</td>\n      <td>350.0</td>\n      <td>43/48, Nawal Kishore Road, Near Leela Theatre,...</td>\n      <td>True</td>\n      <td>False</td>\n      <td>False</td>\n      <td>Malai Paan , Chaat , Aloo Tikki , Dhokla , Ras...</td>\n      <td>80.943666</td>\n      <td>26.850022</td>\n    </tr>\n    <tr>\n      <th>74438</th>\n      <td>https://www.zomato.com/lucknow/nawabeens-awadh...</td>\n      <td>Nawabeen's Awadhi Restaurant</td>\n      <td>Lucknow</td>\n      <td>Lalbagh</td>\n      <td>3.9</td>\n      <td>296.0</td>\n      <td>080 45128621</td>\n      <td>Awadhi, North Indian, Mughlai</td>\n      <td>1200.0</td>\n      <td>3, Quinton Road, Near Nishat Hospital, Lalbagh...</td>\n      <td>True</td>\n      <td>True</td>\n      <td>False</td>\n      <td>Biryani , Kulcha Nihari , Fish Tikka , Mutton ...</td>\n      <td>80.936131</td>\n      <td>26.850230</td>\n    </tr>\n  </tbody>\n</table>\n</div>"
     },
     "metadata": {},
     "execution_count": 106
    }
   ],
   "source": [
    "hotel.head()"
   ]
  },
  {
   "cell_type": "code",
   "execution_count": 107,
   "metadata": {
    "collapsed": true,
    "jupyter": {
     "outputs_hidden": true
    }
   },
   "outputs": [
    {
     "output_type": "execute_result",
     "data": {
      "text/plain": "                                                zomato_url  \\\nrest_id                                                      \n74366    https://www.zomato.com/lucknow/good-bakery-nis...   \n74385    https://www.zomato.com/lucknow/sepia-renaissan...   \n74403    https://www.zomato.com/lucknow/cake-n-cafe-aas...   \n74420    https://www.zomato.com/lucknow/ram-asrey-hazra...   \n74438    https://www.zomato.com/lucknow/nawabeens-awadh...   \n\n                                      name     city         area  rating  \\\nrest_id                                                                    \n74366                          Good Bakery  Lucknow   Nishatganj     4.0   \n74385    Sepia - Renaissance Lucknow Hotel  Lucknow  Gomti Nagar     4.1   \n74403                        Cake 'n' Cafe  Lucknow     Aashiana     3.8   \n74420                            Ram Asrey  Lucknow   Hazratganj     4.1   \n74438         Nawabeen's Awadhi Restaurant  Lucknow      Lalbagh     3.9   \n\n         rating_count                    telephone  \\\nrest_id                                              \n74366           279.0  0522 4000145 +91 9335912829   \n74385           223.0                 080 45128594   \n74403           270.0  0522 4304555 +91 7991585855   \n74420           207.0  0522 4006000 +91 9454512700   \n74438           296.0                 080 45128621   \n\n                                cusine  cost_for_two  \\\nrest_id                                                \n74366                Bakery, Fast Food         450.0   \n74385                           Awadhi        1500.0   \n74403      Fast Food, Bakery, Desserts         200.0   \n74420      Mithai, Fast Food, Desserts         350.0   \n74438    Awadhi, North Indian, Mughlai        1200.0   \n\n                                                   address  online_order  \\\nrest_id                                                                    \n74366              Near Indira Bridge, Nishatganj, Lucknow          True   \n74385    Renaissance Lucknow Hotel, Vipin Khand, Gomti ...         False   \n74403    M 249, LDA Colony, Sector G, Ashiyana, Near Po...          True   \n74420    43/48, Nawal Kishore Road, Near Leela Theatre,...          True   \n74438    3, Quinton Road, Near Nishat Hospital, Lalbagh...          True   \n\n         table_reservation  delivery_only  \\\nrest_id                                     \n74366                False          False   \n74385                 True          False   \n74403                 True          False   \n74420                False          False   \n74438                 True          False   \n\n                                               famous_food  longitude  \\\nrest_id                                                                 \n74366                         Noodle , Fried Rice , Coffee  80.956512   \n74385    Warqi Parantha , Mutton Biryani , Chicken Tikk...  80.973488   \n74403                                              Waffles  80.908467   \n74420    Malai Paan , Chaat , Aloo Tikki , Dhokla , Ras...  80.943666   \n74438    Biryani , Kulcha Nihari , Fish Tikka , Mutton ...  80.936131   \n\n          latitude  \nrest_id             \n74366    26.870551  \n74385    26.853250  \n74403    26.789445  \n74420    26.850022  \n74438    26.850230  ",
      "text/html": "<div>\n<style scoped>\n    .dataframe tbody tr th:only-of-type {\n        vertical-align: middle;\n    }\n\n    .dataframe tbody tr th {\n        vertical-align: top;\n    }\n\n    .dataframe thead th {\n        text-align: right;\n    }\n</style>\n<table border=\"1\" class=\"dataframe\">\n  <thead>\n    <tr style=\"text-align: right;\">\n      <th></th>\n      <th>zomato_url</th>\n      <th>name</th>\n      <th>city</th>\n      <th>area</th>\n      <th>rating</th>\n      <th>rating_count</th>\n      <th>telephone</th>\n      <th>cusine</th>\n      <th>cost_for_two</th>\n      <th>address</th>\n      <th>online_order</th>\n      <th>table_reservation</th>\n      <th>delivery_only</th>\n      <th>famous_food</th>\n      <th>longitude</th>\n      <th>latitude</th>\n    </tr>\n    <tr>\n      <th>rest_id</th>\n      <th></th>\n      <th></th>\n      <th></th>\n      <th></th>\n      <th></th>\n      <th></th>\n      <th></th>\n      <th></th>\n      <th></th>\n      <th></th>\n      <th></th>\n      <th></th>\n      <th></th>\n      <th></th>\n      <th></th>\n      <th></th>\n    </tr>\n  </thead>\n  <tbody>\n    <tr>\n      <th>74366</th>\n      <td>https://www.zomato.com/lucknow/good-bakery-nis...</td>\n      <td>Good Bakery</td>\n      <td>Lucknow</td>\n      <td>Nishatganj</td>\n      <td>4.0</td>\n      <td>279.0</td>\n      <td>0522 4000145 +91 9335912829</td>\n      <td>Bakery, Fast Food</td>\n      <td>450.0</td>\n      <td>Near Indira Bridge, Nishatganj, Lucknow</td>\n      <td>True</td>\n      <td>False</td>\n      <td>False</td>\n      <td>Noodle , Fried Rice , Coffee</td>\n      <td>80.956512</td>\n      <td>26.870551</td>\n    </tr>\n    <tr>\n      <th>74385</th>\n      <td>https://www.zomato.com/lucknow/sepia-renaissan...</td>\n      <td>Sepia - Renaissance Lucknow Hotel</td>\n      <td>Lucknow</td>\n      <td>Gomti Nagar</td>\n      <td>4.1</td>\n      <td>223.0</td>\n      <td>080 45128594</td>\n      <td>Awadhi</td>\n      <td>1500.0</td>\n      <td>Renaissance Lucknow Hotel, Vipin Khand, Gomti ...</td>\n      <td>False</td>\n      <td>True</td>\n      <td>False</td>\n      <td>Warqi Parantha , Mutton Biryani , Chicken Tikk...</td>\n      <td>80.973488</td>\n      <td>26.853250</td>\n    </tr>\n    <tr>\n      <th>74403</th>\n      <td>https://www.zomato.com/lucknow/cake-n-cafe-aas...</td>\n      <td>Cake 'n' Cafe</td>\n      <td>Lucknow</td>\n      <td>Aashiana</td>\n      <td>3.8</td>\n      <td>270.0</td>\n      <td>0522 4304555 +91 7991585855</td>\n      <td>Fast Food, Bakery, Desserts</td>\n      <td>200.0</td>\n      <td>M 249, LDA Colony, Sector G, Ashiyana, Near Po...</td>\n      <td>True</td>\n      <td>True</td>\n      <td>False</td>\n      <td>Waffles</td>\n      <td>80.908467</td>\n      <td>26.789445</td>\n    </tr>\n    <tr>\n      <th>74420</th>\n      <td>https://www.zomato.com/lucknow/ram-asrey-hazra...</td>\n      <td>Ram Asrey</td>\n      <td>Lucknow</td>\n      <td>Hazratganj</td>\n      <td>4.1</td>\n      <td>207.0</td>\n      <td>0522 4006000 +91 9454512700</td>\n      <td>Mithai, Fast Food, Desserts</td>\n      <td>350.0</td>\n      <td>43/48, Nawal Kishore Road, Near Leela Theatre,...</td>\n      <td>True</td>\n      <td>False</td>\n      <td>False</td>\n      <td>Malai Paan , Chaat , Aloo Tikki , Dhokla , Ras...</td>\n      <td>80.943666</td>\n      <td>26.850022</td>\n    </tr>\n    <tr>\n      <th>74438</th>\n      <td>https://www.zomato.com/lucknow/nawabeens-awadh...</td>\n      <td>Nawabeen's Awadhi Restaurant</td>\n      <td>Lucknow</td>\n      <td>Lalbagh</td>\n      <td>3.9</td>\n      <td>296.0</td>\n      <td>080 45128621</td>\n      <td>Awadhi, North Indian, Mughlai</td>\n      <td>1200.0</td>\n      <td>3, Quinton Road, Near Nishat Hospital, Lalbagh...</td>\n      <td>True</td>\n      <td>True</td>\n      <td>False</td>\n      <td>Biryani , Kulcha Nihari , Fish Tikka , Mutton ...</td>\n      <td>80.936131</td>\n      <td>26.850230</td>\n    </tr>\n  </tbody>\n</table>\n</div>"
     },
     "metadata": {},
     "execution_count": 107
    }
   ],
   "source": [
    "hotel.rename(columns = {'rest_id':'REST_ID'}, inplace = True) \n",
    "hotel.head()"
   ]
  },
  {
   "cell_type": "code",
   "execution_count": 108,
   "metadata": {},
   "outputs": [
    {
     "output_type": "execute_result",
     "data": {
      "text/plain": "      USERNAME  REST_ID                                  RESTAURANT  RATING\n0  user_01_abc    82057                            Ritz Continental     4.5\n1  user_01_abc    83657  Coffee & Cakes - Renaissance Lucknow Hotel     4.8\n2  user_01_abc    89626                               Newly Biryani     3.1\n3  user_01_abc    91276                           Moti Mahal Sweets     4.1\n4  user_01_abc    93829                                     Lollyss     3.7",
      "text/html": "<div>\n<style scoped>\n    .dataframe tbody tr th:only-of-type {\n        vertical-align: middle;\n    }\n\n    .dataframe tbody tr th {\n        vertical-align: top;\n    }\n\n    .dataframe thead th {\n        text-align: right;\n    }\n</style>\n<table border=\"1\" class=\"dataframe\">\n  <thead>\n    <tr style=\"text-align: right;\">\n      <th></th>\n      <th>USERNAME</th>\n      <th>REST_ID</th>\n      <th>RESTAURANT</th>\n      <th>RATING</th>\n    </tr>\n  </thead>\n  <tbody>\n    <tr>\n      <th>0</th>\n      <td>user_01_abc</td>\n      <td>82057</td>\n      <td>Ritz Continental</td>\n      <td>4.5</td>\n    </tr>\n    <tr>\n      <th>1</th>\n      <td>user_01_abc</td>\n      <td>83657</td>\n      <td>Coffee &amp; Cakes - Renaissance Lucknow Hotel</td>\n      <td>4.8</td>\n    </tr>\n    <tr>\n      <th>2</th>\n      <td>user_01_abc</td>\n      <td>89626</td>\n      <td>Newly Biryani</td>\n      <td>3.1</td>\n    </tr>\n    <tr>\n      <th>3</th>\n      <td>user_01_abc</td>\n      <td>91276</td>\n      <td>Moti Mahal Sweets</td>\n      <td>4.1</td>\n    </tr>\n    <tr>\n      <th>4</th>\n      <td>user_01_abc</td>\n      <td>93829</td>\n      <td>Lollyss</td>\n      <td>3.7</td>\n    </tr>\n  </tbody>\n</table>\n</div>"
     },
     "metadata": {},
     "execution_count": 108
    }
   ],
   "source": [
    "Ratings.head()"
   ]
  },
  {
   "cell_type": "code",
   "execution_count": 109,
   "metadata": {
    "collapsed": true,
    "jupyter": {
     "outputs_hidden": true
    }
   },
   "outputs": [
    {
     "output_type": "execute_result",
     "data": {
      "text/plain": "REST_ID        74366   74385   74420   74438   74477   74495   74516   74575   \\\nUSERNAME                                                                        \nuser_0100_abc     NaN     NaN     NaN     NaN     NaN     NaN     NaN     NaN   \nuser_0101_abc     NaN     NaN     NaN     NaN     NaN     NaN     NaN     NaN   \nuser_0102_abc     NaN     NaN     NaN     NaN     NaN     NaN     NaN     NaN   \nuser_0103_abc     NaN     NaN     NaN     NaN     NaN     NaN     NaN     NaN   \nuser_0104_abc     NaN     NaN     NaN     NaN     NaN     NaN     NaN     NaN   \nuser_0105_abc     NaN     NaN     NaN     NaN     NaN     NaN     NaN     NaN   \nuser_0106_abc     NaN     NaN     NaN     NaN     NaN     NaN     NaN     NaN   \nuser_0107_abc     NaN     NaN     NaN     NaN     NaN     NaN     NaN     NaN   \nuser_0108_abc     NaN     NaN     NaN     NaN     NaN     NaN     NaN     NaN   \nuser_0109_abc     NaN     NaN     NaN     NaN     NaN     NaN     NaN     NaN   \nuser_010_abc      NaN     NaN     NaN     NaN     NaN     NaN     NaN     NaN   \nuser_0110_abc     NaN     NaN     NaN     NaN     NaN     NaN     NaN     NaN   \nuser_0111_abc     NaN     NaN     NaN     NaN     NaN     NaN     NaN     NaN   \nuser_0112_abc     NaN     NaN     NaN     4.6     NaN     NaN     NaN     NaN   \nuser_0113_abc     NaN     NaN     NaN     NaN     NaN     NaN     NaN     NaN   \n\nREST_ID        74594   74630   ...  201888  201905  201913  201968  202006  \\\nUSERNAME                       ...                                           \nuser_0100_abc     NaN     NaN  ...     NaN     NaN     NaN     NaN     NaN   \nuser_0101_abc     NaN     NaN  ...     NaN     NaN     NaN     NaN     NaN   \nuser_0102_abc     NaN     NaN  ...     NaN     NaN     NaN     NaN     NaN   \nuser_0103_abc     NaN     NaN  ...     NaN     NaN     NaN     NaN     NaN   \nuser_0104_abc     NaN     NaN  ...     3.0     NaN     NaN     NaN     NaN   \nuser_0105_abc     NaN     NaN  ...     NaN     NaN     NaN     NaN     NaN   \nuser_0106_abc     NaN     NaN  ...     NaN     NaN     NaN     NaN     NaN   \nuser_0107_abc     NaN     NaN  ...     NaN     NaN     NaN     NaN     NaN   \nuser_0108_abc     NaN     NaN  ...     NaN     NaN     NaN     NaN     NaN   \nuser_0109_abc     NaN     NaN  ...     NaN     NaN     NaN     NaN     NaN   \nuser_010_abc      NaN     NaN  ...     NaN     NaN     NaN     NaN     NaN   \nuser_0110_abc     NaN     NaN  ...     NaN     NaN     NaN     NaN     NaN   \nuser_0111_abc     NaN     NaN  ...     NaN     NaN     NaN     NaN     NaN   \nuser_0112_abc     NaN     NaN  ...     NaN     NaN     NaN     NaN     NaN   \nuser_0113_abc     NaN     NaN  ...     NaN     NaN     NaN     NaN     NaN   \n\nREST_ID        202210  202669  203161  203592  203652  \nUSERNAME                                               \nuser_0100_abc     NaN     NaN     NaN     NaN     NaN  \nuser_0101_abc     NaN     NaN     NaN     NaN     NaN  \nuser_0102_abc     NaN     NaN     NaN     NaN     NaN  \nuser_0103_abc     NaN     NaN     NaN     NaN     NaN  \nuser_0104_abc     NaN     NaN     NaN     NaN     NaN  \nuser_0105_abc     NaN     NaN     NaN     NaN     NaN  \nuser_0106_abc     NaN     NaN     NaN     NaN     NaN  \nuser_0107_abc     NaN     NaN     NaN     NaN     NaN  \nuser_0108_abc     NaN     NaN     NaN     NaN     NaN  \nuser_0109_abc     NaN     NaN     NaN     NaN     NaN  \nuser_010_abc      NaN     NaN     NaN     NaN     NaN  \nuser_0110_abc     NaN     NaN     NaN     NaN     NaN  \nuser_0111_abc     NaN     NaN     NaN     NaN     NaN  \nuser_0112_abc     NaN     NaN     NaN     NaN     NaN  \nuser_0113_abc     NaN     NaN     NaN     NaN     NaN  \n\n[15 rows x 921 columns]",
      "text/html": "<div>\n<style scoped>\n    .dataframe tbody tr th:only-of-type {\n        vertical-align: middle;\n    }\n\n    .dataframe tbody tr th {\n        vertical-align: top;\n    }\n\n    .dataframe thead th {\n        text-align: right;\n    }\n</style>\n<table border=\"1\" class=\"dataframe\">\n  <thead>\n    <tr style=\"text-align: right;\">\n      <th>REST_ID</th>\n      <th>74366</th>\n      <th>74385</th>\n      <th>74420</th>\n      <th>74438</th>\n      <th>74477</th>\n      <th>74495</th>\n      <th>74516</th>\n      <th>74575</th>\n      <th>74594</th>\n      <th>74630</th>\n      <th>...</th>\n      <th>201888</th>\n      <th>201905</th>\n      <th>201913</th>\n      <th>201968</th>\n      <th>202006</th>\n      <th>202210</th>\n      <th>202669</th>\n      <th>203161</th>\n      <th>203592</th>\n      <th>203652</th>\n    </tr>\n    <tr>\n      <th>USERNAME</th>\n      <th></th>\n      <th></th>\n      <th></th>\n      <th></th>\n      <th></th>\n      <th></th>\n      <th></th>\n      <th></th>\n      <th></th>\n      <th></th>\n      <th></th>\n      <th></th>\n      <th></th>\n      <th></th>\n      <th></th>\n      <th></th>\n      <th></th>\n      <th></th>\n      <th></th>\n      <th></th>\n      <th></th>\n    </tr>\n  </thead>\n  <tbody>\n    <tr>\n      <th>user_0100_abc</th>\n      <td>NaN</td>\n      <td>NaN</td>\n      <td>NaN</td>\n      <td>NaN</td>\n      <td>NaN</td>\n      <td>NaN</td>\n      <td>NaN</td>\n      <td>NaN</td>\n      <td>NaN</td>\n      <td>NaN</td>\n      <td>...</td>\n      <td>NaN</td>\n      <td>NaN</td>\n      <td>NaN</td>\n      <td>NaN</td>\n      <td>NaN</td>\n      <td>NaN</td>\n      <td>NaN</td>\n      <td>NaN</td>\n      <td>NaN</td>\n      <td>NaN</td>\n    </tr>\n    <tr>\n      <th>user_0101_abc</th>\n      <td>NaN</td>\n      <td>NaN</td>\n      <td>NaN</td>\n      <td>NaN</td>\n      <td>NaN</td>\n      <td>NaN</td>\n      <td>NaN</td>\n      <td>NaN</td>\n      <td>NaN</td>\n      <td>NaN</td>\n      <td>...</td>\n      <td>NaN</td>\n      <td>NaN</td>\n      <td>NaN</td>\n      <td>NaN</td>\n      <td>NaN</td>\n      <td>NaN</td>\n      <td>NaN</td>\n      <td>NaN</td>\n      <td>NaN</td>\n      <td>NaN</td>\n    </tr>\n    <tr>\n      <th>user_0102_abc</th>\n      <td>NaN</td>\n      <td>NaN</td>\n      <td>NaN</td>\n      <td>NaN</td>\n      <td>NaN</td>\n      <td>NaN</td>\n      <td>NaN</td>\n      <td>NaN</td>\n      <td>NaN</td>\n      <td>NaN</td>\n      <td>...</td>\n      <td>NaN</td>\n      <td>NaN</td>\n      <td>NaN</td>\n      <td>NaN</td>\n      <td>NaN</td>\n      <td>NaN</td>\n      <td>NaN</td>\n      <td>NaN</td>\n      <td>NaN</td>\n      <td>NaN</td>\n    </tr>\n    <tr>\n      <th>user_0103_abc</th>\n      <td>NaN</td>\n      <td>NaN</td>\n      <td>NaN</td>\n      <td>NaN</td>\n      <td>NaN</td>\n      <td>NaN</td>\n      <td>NaN</td>\n      <td>NaN</td>\n      <td>NaN</td>\n      <td>NaN</td>\n      <td>...</td>\n      <td>NaN</td>\n      <td>NaN</td>\n      <td>NaN</td>\n      <td>NaN</td>\n      <td>NaN</td>\n      <td>NaN</td>\n      <td>NaN</td>\n      <td>NaN</td>\n      <td>NaN</td>\n      <td>NaN</td>\n    </tr>\n    <tr>\n      <th>user_0104_abc</th>\n      <td>NaN</td>\n      <td>NaN</td>\n      <td>NaN</td>\n      <td>NaN</td>\n      <td>NaN</td>\n      <td>NaN</td>\n      <td>NaN</td>\n      <td>NaN</td>\n      <td>NaN</td>\n      <td>NaN</td>\n      <td>...</td>\n      <td>3.0</td>\n      <td>NaN</td>\n      <td>NaN</td>\n      <td>NaN</td>\n      <td>NaN</td>\n      <td>NaN</td>\n      <td>NaN</td>\n      <td>NaN</td>\n      <td>NaN</td>\n      <td>NaN</td>\n    </tr>\n    <tr>\n      <th>user_0105_abc</th>\n      <td>NaN</td>\n      <td>NaN</td>\n      <td>NaN</td>\n      <td>NaN</td>\n      <td>NaN</td>\n      <td>NaN</td>\n      <td>NaN</td>\n      <td>NaN</td>\n      <td>NaN</td>\n      <td>NaN</td>\n      <td>...</td>\n      <td>NaN</td>\n      <td>NaN</td>\n      <td>NaN</td>\n      <td>NaN</td>\n      <td>NaN</td>\n      <td>NaN</td>\n      <td>NaN</td>\n      <td>NaN</td>\n      <td>NaN</td>\n      <td>NaN</td>\n    </tr>\n    <tr>\n      <th>user_0106_abc</th>\n      <td>NaN</td>\n      <td>NaN</td>\n      <td>NaN</td>\n      <td>NaN</td>\n      <td>NaN</td>\n      <td>NaN</td>\n      <td>NaN</td>\n      <td>NaN</td>\n      <td>NaN</td>\n      <td>NaN</td>\n      <td>...</td>\n      <td>NaN</td>\n      <td>NaN</td>\n      <td>NaN</td>\n      <td>NaN</td>\n      <td>NaN</td>\n      <td>NaN</td>\n      <td>NaN</td>\n      <td>NaN</td>\n      <td>NaN</td>\n      <td>NaN</td>\n    </tr>\n    <tr>\n      <th>user_0107_abc</th>\n      <td>NaN</td>\n      <td>NaN</td>\n      <td>NaN</td>\n      <td>NaN</td>\n      <td>NaN</td>\n      <td>NaN</td>\n      <td>NaN</td>\n      <td>NaN</td>\n      <td>NaN</td>\n      <td>NaN</td>\n      <td>...</td>\n      <td>NaN</td>\n      <td>NaN</td>\n      <td>NaN</td>\n      <td>NaN</td>\n      <td>NaN</td>\n      <td>NaN</td>\n      <td>NaN</td>\n      <td>NaN</td>\n      <td>NaN</td>\n      <td>NaN</td>\n    </tr>\n    <tr>\n      <th>user_0108_abc</th>\n      <td>NaN</td>\n      <td>NaN</td>\n      <td>NaN</td>\n      <td>NaN</td>\n      <td>NaN</td>\n      <td>NaN</td>\n      <td>NaN</td>\n      <td>NaN</td>\n      <td>NaN</td>\n      <td>NaN</td>\n      <td>...</td>\n      <td>NaN</td>\n      <td>NaN</td>\n      <td>NaN</td>\n      <td>NaN</td>\n      <td>NaN</td>\n      <td>NaN</td>\n      <td>NaN</td>\n      <td>NaN</td>\n      <td>NaN</td>\n      <td>NaN</td>\n    </tr>\n    <tr>\n      <th>user_0109_abc</th>\n      <td>NaN</td>\n      <td>NaN</td>\n      <td>NaN</td>\n      <td>NaN</td>\n      <td>NaN</td>\n      <td>NaN</td>\n      <td>NaN</td>\n      <td>NaN</td>\n      <td>NaN</td>\n      <td>NaN</td>\n      <td>...</td>\n      <td>NaN</td>\n      <td>NaN</td>\n      <td>NaN</td>\n      <td>NaN</td>\n      <td>NaN</td>\n      <td>NaN</td>\n      <td>NaN</td>\n      <td>NaN</td>\n      <td>NaN</td>\n      <td>NaN</td>\n    </tr>\n    <tr>\n      <th>user_010_abc</th>\n      <td>NaN</td>\n      <td>NaN</td>\n      <td>NaN</td>\n      <td>NaN</td>\n      <td>NaN</td>\n      <td>NaN</td>\n      <td>NaN</td>\n      <td>NaN</td>\n      <td>NaN</td>\n      <td>NaN</td>\n      <td>...</td>\n      <td>NaN</td>\n      <td>NaN</td>\n      <td>NaN</td>\n      <td>NaN</td>\n      <td>NaN</td>\n      <td>NaN</td>\n      <td>NaN</td>\n      <td>NaN</td>\n      <td>NaN</td>\n      <td>NaN</td>\n    </tr>\n    <tr>\n      <th>user_0110_abc</th>\n      <td>NaN</td>\n      <td>NaN</td>\n      <td>NaN</td>\n      <td>NaN</td>\n      <td>NaN</td>\n      <td>NaN</td>\n      <td>NaN</td>\n      <td>NaN</td>\n      <td>NaN</td>\n      <td>NaN</td>\n      <td>...</td>\n      <td>NaN</td>\n      <td>NaN</td>\n      <td>NaN</td>\n      <td>NaN</td>\n      <td>NaN</td>\n      <td>NaN</td>\n      <td>NaN</td>\n      <td>NaN</td>\n      <td>NaN</td>\n      <td>NaN</td>\n    </tr>\n    <tr>\n      <th>user_0111_abc</th>\n      <td>NaN</td>\n      <td>NaN</td>\n      <td>NaN</td>\n      <td>NaN</td>\n      <td>NaN</td>\n      <td>NaN</td>\n      <td>NaN</td>\n      <td>NaN</td>\n      <td>NaN</td>\n      <td>NaN</td>\n      <td>...</td>\n      <td>NaN</td>\n      <td>NaN</td>\n      <td>NaN</td>\n      <td>NaN</td>\n      <td>NaN</td>\n      <td>NaN</td>\n      <td>NaN</td>\n      <td>NaN</td>\n      <td>NaN</td>\n      <td>NaN</td>\n    </tr>\n    <tr>\n      <th>user_0112_abc</th>\n      <td>NaN</td>\n      <td>NaN</td>\n      <td>NaN</td>\n      <td>4.6</td>\n      <td>NaN</td>\n      <td>NaN</td>\n      <td>NaN</td>\n      <td>NaN</td>\n      <td>NaN</td>\n      <td>NaN</td>\n      <td>...</td>\n      <td>NaN</td>\n      <td>NaN</td>\n      <td>NaN</td>\n      <td>NaN</td>\n      <td>NaN</td>\n      <td>NaN</td>\n      <td>NaN</td>\n      <td>NaN</td>\n      <td>NaN</td>\n      <td>NaN</td>\n    </tr>\n    <tr>\n      <th>user_0113_abc</th>\n      <td>NaN</td>\n      <td>NaN</td>\n      <td>NaN</td>\n      <td>NaN</td>\n      <td>NaN</td>\n      <td>NaN</td>\n      <td>NaN</td>\n      <td>NaN</td>\n      <td>NaN</td>\n      <td>NaN</td>\n      <td>...</td>\n      <td>NaN</td>\n      <td>NaN</td>\n      <td>NaN</td>\n      <td>NaN</td>\n      <td>NaN</td>\n      <td>NaN</td>\n      <td>NaN</td>\n      <td>NaN</td>\n      <td>NaN</td>\n      <td>NaN</td>\n    </tr>\n  </tbody>\n</table>\n<p>15 rows × 921 columns</p>\n</div>"
     },
     "metadata": {},
     "execution_count": 109
    }
   ],
   "source": [
    "check = pd.pivot_table(Rating_avg,values='RATING_x',index='USERNAME',columns='REST_ID')\n",
    "check.head(15)"
   ]
  },
  {
   "cell_type": "code",
   "execution_count": 110,
   "metadata": {},
   "outputs": [
    {
     "output_type": "execute_result",
     "data": {
      "text/plain": "REST_ID        74366   74385   74420   74438   74477   74495   74516   74575   \\\nUSERNAME                                                                        \nuser_0100_abc     NaN     NaN     NaN     NaN     NaN     NaN     NaN     NaN   \nuser_0101_abc     NaN     NaN     NaN     NaN     NaN     NaN     NaN     NaN   \nuser_0102_abc     NaN     NaN     NaN     NaN     NaN     NaN     NaN     NaN   \nuser_0103_abc     NaN     NaN     NaN     NaN     NaN     NaN     NaN     NaN   \nuser_0104_abc     NaN     NaN     NaN     NaN     NaN     NaN     NaN     NaN   \n\nREST_ID        74594   74630   ...  201888  201905  201913  201968  202006  \\\nUSERNAME                       ...                                           \nuser_0100_abc     NaN     NaN  ...     NaN     NaN     NaN     NaN     NaN   \nuser_0101_abc     NaN     NaN  ...     NaN     NaN     NaN     NaN     NaN   \nuser_0102_abc     NaN     NaN  ...     NaN     NaN     NaN     NaN     NaN   \nuser_0103_abc     NaN     NaN  ...     NaN     NaN     NaN     NaN     NaN   \nuser_0104_abc     NaN     NaN  ...   -0.72     NaN     NaN     NaN     NaN   \n\nREST_ID        202210  202669  203161  203592  203652  \nUSERNAME                                               \nuser_0100_abc     NaN     NaN     NaN     NaN     NaN  \nuser_0101_abc     NaN     NaN     NaN     NaN     NaN  \nuser_0102_abc     NaN     NaN     NaN     NaN     NaN  \nuser_0103_abc     NaN     NaN     NaN     NaN     NaN  \nuser_0104_abc     NaN     NaN     NaN     NaN     NaN  \n\n[5 rows x 921 columns]",
      "text/html": "<div>\n<style scoped>\n    .dataframe tbody tr th:only-of-type {\n        vertical-align: middle;\n    }\n\n    .dataframe tbody tr th {\n        vertical-align: top;\n    }\n\n    .dataframe thead th {\n        text-align: right;\n    }\n</style>\n<table border=\"1\" class=\"dataframe\">\n  <thead>\n    <tr style=\"text-align: right;\">\n      <th>REST_ID</th>\n      <th>74366</th>\n      <th>74385</th>\n      <th>74420</th>\n      <th>74438</th>\n      <th>74477</th>\n      <th>74495</th>\n      <th>74516</th>\n      <th>74575</th>\n      <th>74594</th>\n      <th>74630</th>\n      <th>...</th>\n      <th>201888</th>\n      <th>201905</th>\n      <th>201913</th>\n      <th>201968</th>\n      <th>202006</th>\n      <th>202210</th>\n      <th>202669</th>\n      <th>203161</th>\n      <th>203592</th>\n      <th>203652</th>\n    </tr>\n    <tr>\n      <th>USERNAME</th>\n      <th></th>\n      <th></th>\n      <th></th>\n      <th></th>\n      <th></th>\n      <th></th>\n      <th></th>\n      <th></th>\n      <th></th>\n      <th></th>\n      <th></th>\n      <th></th>\n      <th></th>\n      <th></th>\n      <th></th>\n      <th></th>\n      <th></th>\n      <th></th>\n      <th></th>\n      <th></th>\n      <th></th>\n    </tr>\n  </thead>\n  <tbody>\n    <tr>\n      <th>user_0100_abc</th>\n      <td>NaN</td>\n      <td>NaN</td>\n      <td>NaN</td>\n      <td>NaN</td>\n      <td>NaN</td>\n      <td>NaN</td>\n      <td>NaN</td>\n      <td>NaN</td>\n      <td>NaN</td>\n      <td>NaN</td>\n      <td>...</td>\n      <td>NaN</td>\n      <td>NaN</td>\n      <td>NaN</td>\n      <td>NaN</td>\n      <td>NaN</td>\n      <td>NaN</td>\n      <td>NaN</td>\n      <td>NaN</td>\n      <td>NaN</td>\n      <td>NaN</td>\n    </tr>\n    <tr>\n      <th>user_0101_abc</th>\n      <td>NaN</td>\n      <td>NaN</td>\n      <td>NaN</td>\n      <td>NaN</td>\n      <td>NaN</td>\n      <td>NaN</td>\n      <td>NaN</td>\n      <td>NaN</td>\n      <td>NaN</td>\n      <td>NaN</td>\n      <td>...</td>\n      <td>NaN</td>\n      <td>NaN</td>\n      <td>NaN</td>\n      <td>NaN</td>\n      <td>NaN</td>\n      <td>NaN</td>\n      <td>NaN</td>\n      <td>NaN</td>\n      <td>NaN</td>\n      <td>NaN</td>\n    </tr>\n    <tr>\n      <th>user_0102_abc</th>\n      <td>NaN</td>\n      <td>NaN</td>\n      <td>NaN</td>\n      <td>NaN</td>\n      <td>NaN</td>\n      <td>NaN</td>\n      <td>NaN</td>\n      <td>NaN</td>\n      <td>NaN</td>\n      <td>NaN</td>\n      <td>...</td>\n      <td>NaN</td>\n      <td>NaN</td>\n      <td>NaN</td>\n      <td>NaN</td>\n      <td>NaN</td>\n      <td>NaN</td>\n      <td>NaN</td>\n      <td>NaN</td>\n      <td>NaN</td>\n      <td>NaN</td>\n    </tr>\n    <tr>\n      <th>user_0103_abc</th>\n      <td>NaN</td>\n      <td>NaN</td>\n      <td>NaN</td>\n      <td>NaN</td>\n      <td>NaN</td>\n      <td>NaN</td>\n      <td>NaN</td>\n      <td>NaN</td>\n      <td>NaN</td>\n      <td>NaN</td>\n      <td>...</td>\n      <td>NaN</td>\n      <td>NaN</td>\n      <td>NaN</td>\n      <td>NaN</td>\n      <td>NaN</td>\n      <td>NaN</td>\n      <td>NaN</td>\n      <td>NaN</td>\n      <td>NaN</td>\n      <td>NaN</td>\n    </tr>\n    <tr>\n      <th>user_0104_abc</th>\n      <td>NaN</td>\n      <td>NaN</td>\n      <td>NaN</td>\n      <td>NaN</td>\n      <td>NaN</td>\n      <td>NaN</td>\n      <td>NaN</td>\n      <td>NaN</td>\n      <td>NaN</td>\n      <td>NaN</td>\n      <td>...</td>\n      <td>-0.72</td>\n      <td>NaN</td>\n      <td>NaN</td>\n      <td>NaN</td>\n      <td>NaN</td>\n      <td>NaN</td>\n      <td>NaN</td>\n      <td>NaN</td>\n      <td>NaN</td>\n      <td>NaN</td>\n    </tr>\n  </tbody>\n</table>\n<p>5 rows × 921 columns</p>\n</div>"
     },
     "metadata": {},
     "execution_count": 110
    }
   ],
   "source": [
    "final = pd.pivot_table(Rating_avg,values='adg_rating',index='USERNAME',columns='REST_ID')\n",
    "final.head()"
   ]
  },
  {
   "cell_type": "code",
   "execution_count": 111,
   "metadata": {},
   "outputs": [],
   "source": [
    "# Replacing NaN by Movie Average\n",
    "final_movie = final.fillna(final.mean(axis=0))\n",
    "\n",
    "# Replacing NaN by user Average\n",
    "final_user = final.apply(lambda row: row.fillna(row.mean()), axis=1)"
   ]
  },
  {
   "cell_type": "code",
   "execution_count": 112,
   "metadata": {},
   "outputs": [
    {
     "output_type": "execute_result",
     "data": {
      "text/plain": "REST_ID        74366   74385   74420   74438   74477   74495   74516   74575   \\\nUSERNAME                                                                        \nuser_0100_abc   -0.96   0.365  0.0775   0.405  -0.265  -0.455  -0.005    0.74   \nuser_0101_abc   -0.96   0.365  0.0775   0.405  -0.265  -0.455  -0.005    0.74   \nuser_0102_abc   -0.96   0.365  0.0775   0.405  -0.265  -0.455  -0.005    0.74   \nuser_0103_abc   -0.96   0.365  0.0775   0.405  -0.265  -0.455  -0.005    0.74   \nuser_0104_abc   -0.96   0.365  0.0775   0.405  -0.265  -0.455  -0.005    0.74   \n\nREST_ID        74594   74630   ...  201888  201905  201913  201968  202006  \\\nUSERNAME                       ...                                           \nuser_0100_abc  -0.015    -1.0  ...   -0.72   0.025    0.33  -0.505   -0.48   \nuser_0101_abc  -0.015    -1.0  ...   -0.72   0.025    0.33  -0.505   -0.48   \nuser_0102_abc  -0.015    -1.0  ...   -0.72   0.025    0.33  -0.505   -0.48   \nuser_0103_abc  -0.015    -1.0  ...   -0.72   0.025    0.33  -0.505   -0.48   \nuser_0104_abc  -0.015    -1.0  ...   -0.72   0.025    0.33  -0.505   -0.48   \n\nREST_ID          202210    202669  203161  203592  203652  \nUSERNAME                                                   \nuser_0100_abc -0.473333 -0.136667   -0.45    0.45    0.64  \nuser_0101_abc -0.473333 -0.136667   -0.45    0.45    0.64  \nuser_0102_abc -0.473333 -0.136667   -0.45    0.45    0.64  \nuser_0103_abc -0.473333 -0.136667   -0.45    0.45    0.64  \nuser_0104_abc -0.473333 -0.136667   -0.45    0.45    0.64  \n\n[5 rows x 921 columns]",
      "text/html": "<div>\n<style scoped>\n    .dataframe tbody tr th:only-of-type {\n        vertical-align: middle;\n    }\n\n    .dataframe tbody tr th {\n        vertical-align: top;\n    }\n\n    .dataframe thead th {\n        text-align: right;\n    }\n</style>\n<table border=\"1\" class=\"dataframe\">\n  <thead>\n    <tr style=\"text-align: right;\">\n      <th>REST_ID</th>\n      <th>74366</th>\n      <th>74385</th>\n      <th>74420</th>\n      <th>74438</th>\n      <th>74477</th>\n      <th>74495</th>\n      <th>74516</th>\n      <th>74575</th>\n      <th>74594</th>\n      <th>74630</th>\n      <th>...</th>\n      <th>201888</th>\n      <th>201905</th>\n      <th>201913</th>\n      <th>201968</th>\n      <th>202006</th>\n      <th>202210</th>\n      <th>202669</th>\n      <th>203161</th>\n      <th>203592</th>\n      <th>203652</th>\n    </tr>\n    <tr>\n      <th>USERNAME</th>\n      <th></th>\n      <th></th>\n      <th></th>\n      <th></th>\n      <th></th>\n      <th></th>\n      <th></th>\n      <th></th>\n      <th></th>\n      <th></th>\n      <th></th>\n      <th></th>\n      <th></th>\n      <th></th>\n      <th></th>\n      <th></th>\n      <th></th>\n      <th></th>\n      <th></th>\n      <th></th>\n      <th></th>\n    </tr>\n  </thead>\n  <tbody>\n    <tr>\n      <th>user_0100_abc</th>\n      <td>-0.96</td>\n      <td>0.365</td>\n      <td>0.0775</td>\n      <td>0.405</td>\n      <td>-0.265</td>\n      <td>-0.455</td>\n      <td>-0.005</td>\n      <td>0.74</td>\n      <td>-0.015</td>\n      <td>-1.0</td>\n      <td>...</td>\n      <td>-0.72</td>\n      <td>0.025</td>\n      <td>0.33</td>\n      <td>-0.505</td>\n      <td>-0.48</td>\n      <td>-0.473333</td>\n      <td>-0.136667</td>\n      <td>-0.45</td>\n      <td>0.45</td>\n      <td>0.64</td>\n    </tr>\n    <tr>\n      <th>user_0101_abc</th>\n      <td>-0.96</td>\n      <td>0.365</td>\n      <td>0.0775</td>\n      <td>0.405</td>\n      <td>-0.265</td>\n      <td>-0.455</td>\n      <td>-0.005</td>\n      <td>0.74</td>\n      <td>-0.015</td>\n      <td>-1.0</td>\n      <td>...</td>\n      <td>-0.72</td>\n      <td>0.025</td>\n      <td>0.33</td>\n      <td>-0.505</td>\n      <td>-0.48</td>\n      <td>-0.473333</td>\n      <td>-0.136667</td>\n      <td>-0.45</td>\n      <td>0.45</td>\n      <td>0.64</td>\n    </tr>\n    <tr>\n      <th>user_0102_abc</th>\n      <td>-0.96</td>\n      <td>0.365</td>\n      <td>0.0775</td>\n      <td>0.405</td>\n      <td>-0.265</td>\n      <td>-0.455</td>\n      <td>-0.005</td>\n      <td>0.74</td>\n      <td>-0.015</td>\n      <td>-1.0</td>\n      <td>...</td>\n      <td>-0.72</td>\n      <td>0.025</td>\n      <td>0.33</td>\n      <td>-0.505</td>\n      <td>-0.48</td>\n      <td>-0.473333</td>\n      <td>-0.136667</td>\n      <td>-0.45</td>\n      <td>0.45</td>\n      <td>0.64</td>\n    </tr>\n    <tr>\n      <th>user_0103_abc</th>\n      <td>-0.96</td>\n      <td>0.365</td>\n      <td>0.0775</td>\n      <td>0.405</td>\n      <td>-0.265</td>\n      <td>-0.455</td>\n      <td>-0.005</td>\n      <td>0.74</td>\n      <td>-0.015</td>\n      <td>-1.0</td>\n      <td>...</td>\n      <td>-0.72</td>\n      <td>0.025</td>\n      <td>0.33</td>\n      <td>-0.505</td>\n      <td>-0.48</td>\n      <td>-0.473333</td>\n      <td>-0.136667</td>\n      <td>-0.45</td>\n      <td>0.45</td>\n      <td>0.64</td>\n    </tr>\n    <tr>\n      <th>user_0104_abc</th>\n      <td>-0.96</td>\n      <td>0.365</td>\n      <td>0.0775</td>\n      <td>0.405</td>\n      <td>-0.265</td>\n      <td>-0.455</td>\n      <td>-0.005</td>\n      <td>0.74</td>\n      <td>-0.015</td>\n      <td>-1.0</td>\n      <td>...</td>\n      <td>-0.72</td>\n      <td>0.025</td>\n      <td>0.33</td>\n      <td>-0.505</td>\n      <td>-0.48</td>\n      <td>-0.473333</td>\n      <td>-0.136667</td>\n      <td>-0.45</td>\n      <td>0.45</td>\n      <td>0.64</td>\n    </tr>\n  </tbody>\n</table>\n<p>5 rows × 921 columns</p>\n</div>"
     },
     "metadata": {},
     "execution_count": 112
    }
   ],
   "source": [
    "final_movie.head()"
   ]
  },
  {
   "cell_type": "code",
   "execution_count": 113,
   "metadata": {},
   "outputs": [
    {
     "output_type": "execute_result",
     "data": {
      "text/plain": "REST_ID              74366         74385         74420         74438   \\\nUSERNAME                                                                \nuser_0100_abc  1.332268e-16  1.332268e-16  1.332268e-16  1.332268e-16   \nuser_0101_abc  5.329071e-16  5.329071e-16  5.329071e-16  5.329071e-16   \nuser_0102_abc -3.108624e-16 -3.108624e-16 -3.108624e-16 -3.108624e-16   \nuser_0103_abc -4.440892e-17 -4.440892e-17 -4.440892e-17 -4.440892e-17   \nuser_0104_abc -2.220446e-16 -2.220446e-16 -2.220446e-16 -2.220446e-16   \n\nREST_ID              74477         74495         74516         74575   \\\nUSERNAME                                                                \nuser_0100_abc  1.332268e-16  1.332268e-16  1.332268e-16  1.332268e-16   \nuser_0101_abc  5.329071e-16  5.329071e-16  5.329071e-16  5.329071e-16   \nuser_0102_abc -3.108624e-16 -3.108624e-16 -3.108624e-16 -3.108624e-16   \nuser_0103_abc -4.440892e-17 -4.440892e-17 -4.440892e-17 -4.440892e-17   \nuser_0104_abc -2.220446e-16 -2.220446e-16 -2.220446e-16 -2.220446e-16   \n\nREST_ID              74594         74630   ...        201888        201905  \\\nUSERNAME                                   ...                               \nuser_0100_abc  1.332268e-16  1.332268e-16  ...  1.332268e-16  1.332268e-16   \nuser_0101_abc  5.329071e-16  5.329071e-16  ...  5.329071e-16  5.329071e-16   \nuser_0102_abc -3.108624e-16 -3.108624e-16  ... -3.108624e-16 -3.108624e-16   \nuser_0103_abc -4.440892e-17 -4.440892e-17  ... -4.440892e-17 -4.440892e-17   \nuser_0104_abc -2.220446e-16 -2.220446e-16  ... -7.200000e-01 -2.220446e-16   \n\nREST_ID              201913        201968        202006        202210  \\\nUSERNAME                                                                \nuser_0100_abc  1.332268e-16  1.332268e-16  1.332268e-16  1.332268e-16   \nuser_0101_abc  5.329071e-16  5.329071e-16  5.329071e-16  5.329071e-16   \nuser_0102_abc -3.108624e-16 -3.108624e-16 -3.108624e-16 -3.108624e-16   \nuser_0103_abc -4.440892e-17 -4.440892e-17 -4.440892e-17 -4.440892e-17   \nuser_0104_abc -2.220446e-16 -2.220446e-16 -2.220446e-16 -2.220446e-16   \n\nREST_ID              202669        203161        203592        203652  \nUSERNAME                                                               \nuser_0100_abc  1.332268e-16  1.332268e-16  1.332268e-16  1.332268e-16  \nuser_0101_abc  5.329071e-16  5.329071e-16  5.329071e-16  5.329071e-16  \nuser_0102_abc -3.108624e-16 -3.108624e-16 -3.108624e-16 -3.108624e-16  \nuser_0103_abc -4.440892e-17 -4.440892e-17 -4.440892e-17 -4.440892e-17  \nuser_0104_abc -2.220446e-16 -2.220446e-16 -2.220446e-16 -2.220446e-16  \n\n[5 rows x 921 columns]",
      "text/html": "<div>\n<style scoped>\n    .dataframe tbody tr th:only-of-type {\n        vertical-align: middle;\n    }\n\n    .dataframe tbody tr th {\n        vertical-align: top;\n    }\n\n    .dataframe thead th {\n        text-align: right;\n    }\n</style>\n<table border=\"1\" class=\"dataframe\">\n  <thead>\n    <tr style=\"text-align: right;\">\n      <th>REST_ID</th>\n      <th>74366</th>\n      <th>74385</th>\n      <th>74420</th>\n      <th>74438</th>\n      <th>74477</th>\n      <th>74495</th>\n      <th>74516</th>\n      <th>74575</th>\n      <th>74594</th>\n      <th>74630</th>\n      <th>...</th>\n      <th>201888</th>\n      <th>201905</th>\n      <th>201913</th>\n      <th>201968</th>\n      <th>202006</th>\n      <th>202210</th>\n      <th>202669</th>\n      <th>203161</th>\n      <th>203592</th>\n      <th>203652</th>\n    </tr>\n    <tr>\n      <th>USERNAME</th>\n      <th></th>\n      <th></th>\n      <th></th>\n      <th></th>\n      <th></th>\n      <th></th>\n      <th></th>\n      <th></th>\n      <th></th>\n      <th></th>\n      <th></th>\n      <th></th>\n      <th></th>\n      <th></th>\n      <th></th>\n      <th></th>\n      <th></th>\n      <th></th>\n      <th></th>\n      <th></th>\n      <th></th>\n    </tr>\n  </thead>\n  <tbody>\n    <tr>\n      <th>user_0100_abc</th>\n      <td>1.332268e-16</td>\n      <td>1.332268e-16</td>\n      <td>1.332268e-16</td>\n      <td>1.332268e-16</td>\n      <td>1.332268e-16</td>\n      <td>1.332268e-16</td>\n      <td>1.332268e-16</td>\n      <td>1.332268e-16</td>\n      <td>1.332268e-16</td>\n      <td>1.332268e-16</td>\n      <td>...</td>\n      <td>1.332268e-16</td>\n      <td>1.332268e-16</td>\n      <td>1.332268e-16</td>\n      <td>1.332268e-16</td>\n      <td>1.332268e-16</td>\n      <td>1.332268e-16</td>\n      <td>1.332268e-16</td>\n      <td>1.332268e-16</td>\n      <td>1.332268e-16</td>\n      <td>1.332268e-16</td>\n    </tr>\n    <tr>\n      <th>user_0101_abc</th>\n      <td>5.329071e-16</td>\n      <td>5.329071e-16</td>\n      <td>5.329071e-16</td>\n      <td>5.329071e-16</td>\n      <td>5.329071e-16</td>\n      <td>5.329071e-16</td>\n      <td>5.329071e-16</td>\n      <td>5.329071e-16</td>\n      <td>5.329071e-16</td>\n      <td>5.329071e-16</td>\n      <td>...</td>\n      <td>5.329071e-16</td>\n      <td>5.329071e-16</td>\n      <td>5.329071e-16</td>\n      <td>5.329071e-16</td>\n      <td>5.329071e-16</td>\n      <td>5.329071e-16</td>\n      <td>5.329071e-16</td>\n      <td>5.329071e-16</td>\n      <td>5.329071e-16</td>\n      <td>5.329071e-16</td>\n    </tr>\n    <tr>\n      <th>user_0102_abc</th>\n      <td>-3.108624e-16</td>\n      <td>-3.108624e-16</td>\n      <td>-3.108624e-16</td>\n      <td>-3.108624e-16</td>\n      <td>-3.108624e-16</td>\n      <td>-3.108624e-16</td>\n      <td>-3.108624e-16</td>\n      <td>-3.108624e-16</td>\n      <td>-3.108624e-16</td>\n      <td>-3.108624e-16</td>\n      <td>...</td>\n      <td>-3.108624e-16</td>\n      <td>-3.108624e-16</td>\n      <td>-3.108624e-16</td>\n      <td>-3.108624e-16</td>\n      <td>-3.108624e-16</td>\n      <td>-3.108624e-16</td>\n      <td>-3.108624e-16</td>\n      <td>-3.108624e-16</td>\n      <td>-3.108624e-16</td>\n      <td>-3.108624e-16</td>\n    </tr>\n    <tr>\n      <th>user_0103_abc</th>\n      <td>-4.440892e-17</td>\n      <td>-4.440892e-17</td>\n      <td>-4.440892e-17</td>\n      <td>-4.440892e-17</td>\n      <td>-4.440892e-17</td>\n      <td>-4.440892e-17</td>\n      <td>-4.440892e-17</td>\n      <td>-4.440892e-17</td>\n      <td>-4.440892e-17</td>\n      <td>-4.440892e-17</td>\n      <td>...</td>\n      <td>-4.440892e-17</td>\n      <td>-4.440892e-17</td>\n      <td>-4.440892e-17</td>\n      <td>-4.440892e-17</td>\n      <td>-4.440892e-17</td>\n      <td>-4.440892e-17</td>\n      <td>-4.440892e-17</td>\n      <td>-4.440892e-17</td>\n      <td>-4.440892e-17</td>\n      <td>-4.440892e-17</td>\n    </tr>\n    <tr>\n      <th>user_0104_abc</th>\n      <td>-2.220446e-16</td>\n      <td>-2.220446e-16</td>\n      <td>-2.220446e-16</td>\n      <td>-2.220446e-16</td>\n      <td>-2.220446e-16</td>\n      <td>-2.220446e-16</td>\n      <td>-2.220446e-16</td>\n      <td>-2.220446e-16</td>\n      <td>-2.220446e-16</td>\n      <td>-2.220446e-16</td>\n      <td>...</td>\n      <td>-7.200000e-01</td>\n      <td>-2.220446e-16</td>\n      <td>-2.220446e-16</td>\n      <td>-2.220446e-16</td>\n      <td>-2.220446e-16</td>\n      <td>-2.220446e-16</td>\n      <td>-2.220446e-16</td>\n      <td>-2.220446e-16</td>\n      <td>-2.220446e-16</td>\n      <td>-2.220446e-16</td>\n    </tr>\n  </tbody>\n</table>\n<p>5 rows × 921 columns</p>\n</div>"
     },
     "metadata": {},
     "execution_count": 113
    }
   ],
   "source": [
    "final_user.head()"
   ]
  },
  {
   "cell_type": "code",
   "execution_count": 114,
   "metadata": {},
   "outputs": [
    {
     "output_type": "execute_result",
     "data": {
      "text/plain": "USERNAME       user_0100_abc  user_0101_abc  user_0102_abc  user_0103_abc  \\\nUSERNAME                                                                    \nuser_0100_abc   0.000000e+00   1.192697e-29  -7.616663e-30   8.309814e-02   \nuser_0101_abc   1.192697e-29   0.000000e+00  -2.965462e-29  -2.185925e-30   \nuser_0102_abc  -7.616663e-30  -2.965462e-29   0.000000e+00   9.312621e-31   \nuser_0103_abc   8.309814e-02  -2.185925e-30   9.312621e-31   0.000000e+00   \nuser_0104_abc  -3.694317e-30  -2.197591e-29   9.692346e-30   1.023064e-30   \n\nUSERNAME       user_0104_abc  user_0105_abc  user_0106_abc  user_0107_abc  \\\nUSERNAME                                                                    \nuser_0100_abc  -3.694317e-30  -2.155081e-33   1.513963e-15  -2.478009e-30   \nuser_0101_abc  -2.197591e-29  -5.779112e-33   6.818347e-15  -1.182982e-29   \nuser_0102_abc   9.692346e-30   9.598826e-33  -3.202487e-15   5.965964e-30   \nuser_0103_abc   1.023064e-30   2.654929e-02  -2.064802e-16   7.880664e-31   \nuser_0104_abc   0.000000e+00  -8.981532e-34  -2.142261e-15   4.378985e-30   \n\nUSERNAME       user_0108_abc  user_0109_abc  ...  user_091_abc  user_092_abc  \\\nUSERNAME                                     ...                               \nuser_0100_abc   2.950965e-30  -8.342151e-30  ...  2.052958e-30 -4.208804e-02   \nuser_0101_abc   1.012784e-29  -4.306710e-29  ...  6.186703e-30  2.355898e-29   \nuser_0102_abc  -5.601588e-30   1.989127e-29  ... -3.550556e-30 -1.314041e-29   \nuser_0103_abc  -5.746079e-31   1.765434e-30  ... -2.091676e-31 -7.664768e-31   \nuser_0104_abc  -2.735937e-30   1.279714e-29  ... -1.562525e-30 -7.756205e-30   \n\nUSERNAME       user_093_abc  user_094_abc  user_095_abc  user_096_abc  \\\nUSERNAME                                                                \nuser_0100_abc -1.522634e-29 -4.277410e-30  5.303107e-30 -3.735472e-30   \nuser_0101_abc -6.479049e-29 -2.219027e-29  2.280126e-29 -1.928913e-29   \nuser_0102_abc  3.528802e-29 -7.482081e-02 -1.130953e-29  8.543191e-30   \nuser_0103_abc  7.526113e-02  1.525309e-30 -6.969748e-31  8.660708e-31   \nuser_0104_abc  2.135459e-29  8.262747e-30 -7.629162e-30  2.499893e-02   \n\nUSERNAME       user_097_abc  user_098_abc  user_099_abc   user_09_abc  \nUSERNAME                                                               \nuser_0100_abc -3.533965e-30  6.258074e-30 -4.556621e-30  5.515729e-30  \nuser_0101_abc -1.704462e-29  3.252080e-29 -1.582690e-29  2.653418e-29  \nuser_0102_abc  9.727458e-30 -1.546961e-29  8.267949e-30 -1.211149e-29  \nuser_0103_abc  6.040586e-31 -1.074285e-30  5.604418e-31 -1.056992e-30  \nuser_0104_abc  3.277690e-30 -1.060331e-29  4.648394e-30 -1.080427e-29  \n\n[5 rows x 150 columns]",
      "text/html": "<div>\n<style scoped>\n    .dataframe tbody tr th:only-of-type {\n        vertical-align: middle;\n    }\n\n    .dataframe tbody tr th {\n        vertical-align: top;\n    }\n\n    .dataframe thead th {\n        text-align: right;\n    }\n</style>\n<table border=\"1\" class=\"dataframe\">\n  <thead>\n    <tr style=\"text-align: right;\">\n      <th>USERNAME</th>\n      <th>user_0100_abc</th>\n      <th>user_0101_abc</th>\n      <th>user_0102_abc</th>\n      <th>user_0103_abc</th>\n      <th>user_0104_abc</th>\n      <th>user_0105_abc</th>\n      <th>user_0106_abc</th>\n      <th>user_0107_abc</th>\n      <th>user_0108_abc</th>\n      <th>user_0109_abc</th>\n      <th>...</th>\n      <th>user_091_abc</th>\n      <th>user_092_abc</th>\n      <th>user_093_abc</th>\n      <th>user_094_abc</th>\n      <th>user_095_abc</th>\n      <th>user_096_abc</th>\n      <th>user_097_abc</th>\n      <th>user_098_abc</th>\n      <th>user_099_abc</th>\n      <th>user_09_abc</th>\n    </tr>\n    <tr>\n      <th>USERNAME</th>\n      <th></th>\n      <th></th>\n      <th></th>\n      <th></th>\n      <th></th>\n      <th></th>\n      <th></th>\n      <th></th>\n      <th></th>\n      <th></th>\n      <th></th>\n      <th></th>\n      <th></th>\n      <th></th>\n      <th></th>\n      <th></th>\n      <th></th>\n      <th></th>\n      <th></th>\n      <th></th>\n      <th></th>\n    </tr>\n  </thead>\n  <tbody>\n    <tr>\n      <th>user_0100_abc</th>\n      <td>0.000000e+00</td>\n      <td>1.192697e-29</td>\n      <td>-7.616663e-30</td>\n      <td>8.309814e-02</td>\n      <td>-3.694317e-30</td>\n      <td>-2.155081e-33</td>\n      <td>1.513963e-15</td>\n      <td>-2.478009e-30</td>\n      <td>2.950965e-30</td>\n      <td>-8.342151e-30</td>\n      <td>...</td>\n      <td>2.052958e-30</td>\n      <td>-4.208804e-02</td>\n      <td>-1.522634e-29</td>\n      <td>-4.277410e-30</td>\n      <td>5.303107e-30</td>\n      <td>-3.735472e-30</td>\n      <td>-3.533965e-30</td>\n      <td>6.258074e-30</td>\n      <td>-4.556621e-30</td>\n      <td>5.515729e-30</td>\n    </tr>\n    <tr>\n      <th>user_0101_abc</th>\n      <td>1.192697e-29</td>\n      <td>0.000000e+00</td>\n      <td>-2.965462e-29</td>\n      <td>-2.185925e-30</td>\n      <td>-2.197591e-29</td>\n      <td>-5.779112e-33</td>\n      <td>6.818347e-15</td>\n      <td>-1.182982e-29</td>\n      <td>1.012784e-29</td>\n      <td>-4.306710e-29</td>\n      <td>...</td>\n      <td>6.186703e-30</td>\n      <td>2.355898e-29</td>\n      <td>-6.479049e-29</td>\n      <td>-2.219027e-29</td>\n      <td>2.280126e-29</td>\n      <td>-1.928913e-29</td>\n      <td>-1.704462e-29</td>\n      <td>3.252080e-29</td>\n      <td>-1.582690e-29</td>\n      <td>2.653418e-29</td>\n    </tr>\n    <tr>\n      <th>user_0102_abc</th>\n      <td>-7.616663e-30</td>\n      <td>-2.965462e-29</td>\n      <td>0.000000e+00</td>\n      <td>9.312621e-31</td>\n      <td>9.692346e-30</td>\n      <td>9.598826e-33</td>\n      <td>-3.202487e-15</td>\n      <td>5.965964e-30</td>\n      <td>-5.601588e-30</td>\n      <td>1.989127e-29</td>\n      <td>...</td>\n      <td>-3.550556e-30</td>\n      <td>-1.314041e-29</td>\n      <td>3.528802e-29</td>\n      <td>-7.482081e-02</td>\n      <td>-1.130953e-29</td>\n      <td>8.543191e-30</td>\n      <td>9.727458e-30</td>\n      <td>-1.546961e-29</td>\n      <td>8.267949e-30</td>\n      <td>-1.211149e-29</td>\n    </tr>\n    <tr>\n      <th>user_0103_abc</th>\n      <td>8.309814e-02</td>\n      <td>-2.185925e-30</td>\n      <td>9.312621e-31</td>\n      <td>0.000000e+00</td>\n      <td>1.023064e-30</td>\n      <td>2.654929e-02</td>\n      <td>-2.064802e-16</td>\n      <td>7.880664e-31</td>\n      <td>-5.746079e-31</td>\n      <td>1.765434e-30</td>\n      <td>...</td>\n      <td>-2.091676e-31</td>\n      <td>-7.664768e-31</td>\n      <td>7.526113e-02</td>\n      <td>1.525309e-30</td>\n      <td>-6.969748e-31</td>\n      <td>8.660708e-31</td>\n      <td>6.040586e-31</td>\n      <td>-1.074285e-30</td>\n      <td>5.604418e-31</td>\n      <td>-1.056992e-30</td>\n    </tr>\n    <tr>\n      <th>user_0104_abc</th>\n      <td>-3.694317e-30</td>\n      <td>-2.197591e-29</td>\n      <td>9.692346e-30</td>\n      <td>1.023064e-30</td>\n      <td>0.000000e+00</td>\n      <td>-8.981532e-34</td>\n      <td>-2.142261e-15</td>\n      <td>4.378985e-30</td>\n      <td>-2.735937e-30</td>\n      <td>1.279714e-29</td>\n      <td>...</td>\n      <td>-1.562525e-30</td>\n      <td>-7.756205e-30</td>\n      <td>2.135459e-29</td>\n      <td>8.262747e-30</td>\n      <td>-7.629162e-30</td>\n      <td>2.499893e-02</td>\n      <td>3.277690e-30</td>\n      <td>-1.060331e-29</td>\n      <td>4.648394e-30</td>\n      <td>-1.080427e-29</td>\n    </tr>\n  </tbody>\n</table>\n<p>5 rows × 150 columns</p>\n</div>"
     },
     "metadata": {},
     "execution_count": 114
    }
   ],
   "source": [
    "b = cosine_similarity(final_user)\n",
    "np.fill_diagonal(b, 0 )\n",
    "similarity_with_user = pd.DataFrame(b,index=final_user.index)\n",
    "similarity_with_user.columns=final_user.index\n",
    "similarity_with_user.head()"
   ]
  },
  {
   "cell_type": "code",
   "execution_count": 115,
   "metadata": {
    "collapsed": true,
    "jupyter": {
     "outputs_hidden": true
    }
   },
   "outputs": [
    {
     "output_type": "execute_result",
     "data": {
      "text/plain": "USERNAME       user_0100_abc  user_0101_abc  user_0102_abc  user_0103_abc  \\\nUSERNAME                                                                    \nuser_0100_abc       0.000000       0.995150       0.995656       0.996240   \nuser_0101_abc       0.995150       0.000000       0.996843       0.997417   \nuser_0102_abc       0.995656       0.996843       0.000000       0.997926   \nuser_0103_abc       0.996240       0.997417       0.997926       0.000000   \nuser_0104_abc       0.994210       0.995389       0.995899       0.996467   \n\nUSERNAME       user_0104_abc  user_0105_abc  user_0106_abc  user_0107_abc  \\\nUSERNAME                                                                    \nuser_0100_abc       0.994210       0.993549       0.994664       0.996468   \nuser_0101_abc       0.995389       0.994731       0.995847       0.997651   \nuser_0102_abc       0.995899       0.995239       0.996355       0.998161   \nuser_0103_abc       0.996467       0.995977       0.996928       0.998732   \nuser_0104_abc       0.000000       0.993786       0.994900       0.996698   \n\nUSERNAME       user_0108_abc  user_0109_abc  ...  user_091_abc  user_092_abc  \\\nUSERNAME                                     ...                               \nuser_0100_abc       0.995558       0.991881  ...      0.993472      0.991683   \nuser_0101_abc       0.996742       0.993057  ...      0.994655      0.993088   \nuser_0102_abc       0.997251       0.993565  ...      0.995162      0.993596   \nuser_0103_abc       0.997824       0.994132  ...      0.995736      0.994166   \nuser_0104_abc       0.995794       0.992107  ...      0.993712      0.992143   \n\nUSERNAME       user_093_abc  user_094_abc  user_095_abc  user_096_abc  \\\nUSERNAME                                                                \nuser_0100_abc      0.994239      0.994536      0.994358      0.995369   \nuser_0101_abc      0.995423      0.995717      0.995541      0.996551   \nuser_0102_abc      0.995931      0.995250      0.996049      0.997061   \nuser_0103_abc      0.996600      0.996797      0.996623      0.997632   \nuser_0104_abc      0.994479      0.994768      0.994596      0.995647   \n\nUSERNAME       user_097_abc  user_098_abc  user_099_abc  user_09_abc  \nUSERNAME                                                              \nuser_0100_abc      0.993865      0.994345      0.992519     0.994224  \nuser_0101_abc      0.995043      0.995525      0.993697     0.995409  \nuser_0102_abc      0.995553      0.996035      0.994205     0.995916  \nuser_0103_abc      0.996121      0.996604      0.994774     0.996491  \nuser_0104_abc      0.994092      0.994575      0.992748     0.994467  \n\n[5 rows x 150 columns]",
      "text/html": "<div>\n<style scoped>\n    .dataframe tbody tr th:only-of-type {\n        vertical-align: middle;\n    }\n\n    .dataframe tbody tr th {\n        vertical-align: top;\n    }\n\n    .dataframe thead th {\n        text-align: right;\n    }\n</style>\n<table border=\"1\" class=\"dataframe\">\n  <thead>\n    <tr style=\"text-align: right;\">\n      <th>USERNAME</th>\n      <th>user_0100_abc</th>\n      <th>user_0101_abc</th>\n      <th>user_0102_abc</th>\n      <th>user_0103_abc</th>\n      <th>user_0104_abc</th>\n      <th>user_0105_abc</th>\n      <th>user_0106_abc</th>\n      <th>user_0107_abc</th>\n      <th>user_0108_abc</th>\n      <th>user_0109_abc</th>\n      <th>...</th>\n      <th>user_091_abc</th>\n      <th>user_092_abc</th>\n      <th>user_093_abc</th>\n      <th>user_094_abc</th>\n      <th>user_095_abc</th>\n      <th>user_096_abc</th>\n      <th>user_097_abc</th>\n      <th>user_098_abc</th>\n      <th>user_099_abc</th>\n      <th>user_09_abc</th>\n    </tr>\n    <tr>\n      <th>USERNAME</th>\n      <th></th>\n      <th></th>\n      <th></th>\n      <th></th>\n      <th></th>\n      <th></th>\n      <th></th>\n      <th></th>\n      <th></th>\n      <th></th>\n      <th></th>\n      <th></th>\n      <th></th>\n      <th></th>\n      <th></th>\n      <th></th>\n      <th></th>\n      <th></th>\n      <th></th>\n      <th></th>\n      <th></th>\n    </tr>\n  </thead>\n  <tbody>\n    <tr>\n      <th>user_0100_abc</th>\n      <td>0.000000</td>\n      <td>0.995150</td>\n      <td>0.995656</td>\n      <td>0.996240</td>\n      <td>0.994210</td>\n      <td>0.993549</td>\n      <td>0.994664</td>\n      <td>0.996468</td>\n      <td>0.995558</td>\n      <td>0.991881</td>\n      <td>...</td>\n      <td>0.993472</td>\n      <td>0.991683</td>\n      <td>0.994239</td>\n      <td>0.994536</td>\n      <td>0.994358</td>\n      <td>0.995369</td>\n      <td>0.993865</td>\n      <td>0.994345</td>\n      <td>0.992519</td>\n      <td>0.994224</td>\n    </tr>\n    <tr>\n      <th>user_0101_abc</th>\n      <td>0.995150</td>\n      <td>0.000000</td>\n      <td>0.996843</td>\n      <td>0.997417</td>\n      <td>0.995389</td>\n      <td>0.994731</td>\n      <td>0.995847</td>\n      <td>0.997651</td>\n      <td>0.996742</td>\n      <td>0.993057</td>\n      <td>...</td>\n      <td>0.994655</td>\n      <td>0.993088</td>\n      <td>0.995423</td>\n      <td>0.995717</td>\n      <td>0.995541</td>\n      <td>0.996551</td>\n      <td>0.995043</td>\n      <td>0.995525</td>\n      <td>0.993697</td>\n      <td>0.995409</td>\n    </tr>\n    <tr>\n      <th>user_0102_abc</th>\n      <td>0.995656</td>\n      <td>0.996843</td>\n      <td>0.000000</td>\n      <td>0.997926</td>\n      <td>0.995899</td>\n      <td>0.995239</td>\n      <td>0.996355</td>\n      <td>0.998161</td>\n      <td>0.997251</td>\n      <td>0.993565</td>\n      <td>...</td>\n      <td>0.995162</td>\n      <td>0.993596</td>\n      <td>0.995931</td>\n      <td>0.995250</td>\n      <td>0.996049</td>\n      <td>0.997061</td>\n      <td>0.995553</td>\n      <td>0.996035</td>\n      <td>0.994205</td>\n      <td>0.995916</td>\n    </tr>\n    <tr>\n      <th>user_0103_abc</th>\n      <td>0.996240</td>\n      <td>0.997417</td>\n      <td>0.997926</td>\n      <td>0.000000</td>\n      <td>0.996467</td>\n      <td>0.995977</td>\n      <td>0.996928</td>\n      <td>0.998732</td>\n      <td>0.997824</td>\n      <td>0.994132</td>\n      <td>...</td>\n      <td>0.995736</td>\n      <td>0.994166</td>\n      <td>0.996600</td>\n      <td>0.996797</td>\n      <td>0.996623</td>\n      <td>0.997632</td>\n      <td>0.996121</td>\n      <td>0.996604</td>\n      <td>0.994774</td>\n      <td>0.996491</td>\n    </tr>\n    <tr>\n      <th>user_0104_abc</th>\n      <td>0.994210</td>\n      <td>0.995389</td>\n      <td>0.995899</td>\n      <td>0.996467</td>\n      <td>0.000000</td>\n      <td>0.993786</td>\n      <td>0.994900</td>\n      <td>0.996698</td>\n      <td>0.995794</td>\n      <td>0.992107</td>\n      <td>...</td>\n      <td>0.993712</td>\n      <td>0.992143</td>\n      <td>0.994479</td>\n      <td>0.994768</td>\n      <td>0.994596</td>\n      <td>0.995647</td>\n      <td>0.994092</td>\n      <td>0.994575</td>\n      <td>0.992748</td>\n      <td>0.994467</td>\n    </tr>\n  </tbody>\n</table>\n<p>5 rows × 150 columns</p>\n</div>"
     },
     "metadata": {},
     "execution_count": 115
    }
   ],
   "source": [
    "# user similarity on replacing NAN by item(movie) avg\n",
    "cosine = cosine_similarity(final_movie)\n",
    "np.fill_diagonal(cosine, 0 )\n",
    "similarity_with_movie = pd.DataFrame(cosine,index=final_movie.index)\n",
    "similarity_with_movie.columns=final_user.index\n",
    "similarity_with_movie.head()"
   ]
  },
  {
   "cell_type": "code",
   "execution_count": 116,
   "metadata": {},
   "outputs": [],
   "source": [
    "def find_n_neighbours(df,n):\n",
    "    order = np.argsort(df.values, axis=1)[:, :n]\n",
    "    df = df.apply(lambda x: pd.Series(x.sort_values(ascending=False)\n",
    "           .iloc[:n].index, \n",
    "          index=['top{}'.format(i) for i in range(1, n+1)]), axis=1)\n",
    "    return df"
   ]
  },
  {
   "cell_type": "code",
   "execution_count": 117,
   "metadata": {},
   "outputs": [
    {
     "output_type": "execute_result",
     "data": {
      "text/plain": "                        top1           top2           top3           top4  \\\nUSERNAME                                                                    \nuser_0100_abc   user_045_abc   user_062_abc   user_064_abc  user_0103_abc   \nuser_0101_abc  user_0150_abc  user_0106_abc  user_0118_abc   user_047_abc   \nuser_0102_abc  user_0144_abc    user_07_abc   user_028_abc   user_056_abc   \nuser_0103_abc   user_077_abc   user_055_abc   user_059_abc    user_04_abc   \nuser_0104_abc  user_0145_abc   user_021_abc   user_076_abc   user_096_abc   \n\n                        top5           top6          top7           top8  \\\nUSERNAME                                                                   \nuser_0100_abc   user_035_abc   user_044_abc  user_058_abc  user_0147_abc   \nuser_0101_abc   user_012_abc   user_055_abc  user_059_abc   user_013_abc   \nuser_0102_abc  user_0116_abc   user_085_abc   user_05_abc   user_037_abc   \nuser_0103_abc   user_072_abc  user_0100_abc  user_035_abc   user_093_abc   \nuser_0104_abc    user_05_abc   user_037_abc  user_046_abc  user_0129_abc   \n\n                       top9          top10  ...          top21          top22  \\\nUSERNAME                                    ...                                 \nuser_0100_abc  user_075_abc  user_0106_abc  ...   user_085_abc  user_0122_abc   \nuser_0101_abc  user_086_abc   user_040_abc  ...   user_067_abc   user_011_abc   \nuser_0102_abc  user_046_abc  user_0129_abc  ...   user_015_abc   user_072_abc   \nuser_0103_abc  user_041_abc  user_0141_abc  ...  user_0149_abc   user_083_abc   \nuser_0104_abc  user_029_abc   user_087_abc  ...  user_0112_abc   user_042_abc   \n\n                       top23          top24          top25          top26  \\\nUSERNAME                                                                    \nuser_0100_abc   user_024_abc  user_0101_abc   user_082_abc   user_031_abc   \nuser_0101_abc   user_074_abc   user_031_abc  user_0143_abc   user_026_abc   \nuser_0102_abc  user_0136_abc  user_0142_abc   user_071_abc   user_065_abc   \nuser_0103_abc  user_0115_abc  user_0127_abc  user_0148_abc   user_020_abc   \nuser_0104_abc   user_017_abc   user_065_abc    user_07_abc  user_0142_abc   \n\n                       top27          top28          top29          top30  \nUSERNAME                                                                   \nuser_0100_abc   user_074_abc   user_067_abc  user_0143_abc   user_026_abc  \nuser_0101_abc   user_025_abc   user_098_abc   user_032_abc   user_044_abc  \nuser_0102_abc  user_0127_abc   user_042_abc   user_017_abc  user_0115_abc  \nuser_0103_abc  user_0145_abc   user_045_abc   user_064_abc  user_0136_abc  \nuser_0104_abc  user_0109_abc  user_0149_abc  user_0115_abc   user_045_abc  \n\n[5 rows x 30 columns]",
      "text/html": "<div>\n<style scoped>\n    .dataframe tbody tr th:only-of-type {\n        vertical-align: middle;\n    }\n\n    .dataframe tbody tr th {\n        vertical-align: top;\n    }\n\n    .dataframe thead th {\n        text-align: right;\n    }\n</style>\n<table border=\"1\" class=\"dataframe\">\n  <thead>\n    <tr style=\"text-align: right;\">\n      <th></th>\n      <th>top1</th>\n      <th>top2</th>\n      <th>top3</th>\n      <th>top4</th>\n      <th>top5</th>\n      <th>top6</th>\n      <th>top7</th>\n      <th>top8</th>\n      <th>top9</th>\n      <th>top10</th>\n      <th>...</th>\n      <th>top21</th>\n      <th>top22</th>\n      <th>top23</th>\n      <th>top24</th>\n      <th>top25</th>\n      <th>top26</th>\n      <th>top27</th>\n      <th>top28</th>\n      <th>top29</th>\n      <th>top30</th>\n    </tr>\n    <tr>\n      <th>USERNAME</th>\n      <th></th>\n      <th></th>\n      <th></th>\n      <th></th>\n      <th></th>\n      <th></th>\n      <th></th>\n      <th></th>\n      <th></th>\n      <th></th>\n      <th></th>\n      <th></th>\n      <th></th>\n      <th></th>\n      <th></th>\n      <th></th>\n      <th></th>\n      <th></th>\n      <th></th>\n      <th></th>\n      <th></th>\n    </tr>\n  </thead>\n  <tbody>\n    <tr>\n      <th>user_0100_abc</th>\n      <td>user_045_abc</td>\n      <td>user_062_abc</td>\n      <td>user_064_abc</td>\n      <td>user_0103_abc</td>\n      <td>user_035_abc</td>\n      <td>user_044_abc</td>\n      <td>user_058_abc</td>\n      <td>user_0147_abc</td>\n      <td>user_075_abc</td>\n      <td>user_0106_abc</td>\n      <td>...</td>\n      <td>user_085_abc</td>\n      <td>user_0122_abc</td>\n      <td>user_024_abc</td>\n      <td>user_0101_abc</td>\n      <td>user_082_abc</td>\n      <td>user_031_abc</td>\n      <td>user_074_abc</td>\n      <td>user_067_abc</td>\n      <td>user_0143_abc</td>\n      <td>user_026_abc</td>\n    </tr>\n    <tr>\n      <th>user_0101_abc</th>\n      <td>user_0150_abc</td>\n      <td>user_0106_abc</td>\n      <td>user_0118_abc</td>\n      <td>user_047_abc</td>\n      <td>user_012_abc</td>\n      <td>user_055_abc</td>\n      <td>user_059_abc</td>\n      <td>user_013_abc</td>\n      <td>user_086_abc</td>\n      <td>user_040_abc</td>\n      <td>...</td>\n      <td>user_067_abc</td>\n      <td>user_011_abc</td>\n      <td>user_074_abc</td>\n      <td>user_031_abc</td>\n      <td>user_0143_abc</td>\n      <td>user_026_abc</td>\n      <td>user_025_abc</td>\n      <td>user_098_abc</td>\n      <td>user_032_abc</td>\n      <td>user_044_abc</td>\n    </tr>\n    <tr>\n      <th>user_0102_abc</th>\n      <td>user_0144_abc</td>\n      <td>user_07_abc</td>\n      <td>user_028_abc</td>\n      <td>user_056_abc</td>\n      <td>user_0116_abc</td>\n      <td>user_085_abc</td>\n      <td>user_05_abc</td>\n      <td>user_037_abc</td>\n      <td>user_046_abc</td>\n      <td>user_0129_abc</td>\n      <td>...</td>\n      <td>user_015_abc</td>\n      <td>user_072_abc</td>\n      <td>user_0136_abc</td>\n      <td>user_0142_abc</td>\n      <td>user_071_abc</td>\n      <td>user_065_abc</td>\n      <td>user_0127_abc</td>\n      <td>user_042_abc</td>\n      <td>user_017_abc</td>\n      <td>user_0115_abc</td>\n    </tr>\n    <tr>\n      <th>user_0103_abc</th>\n      <td>user_077_abc</td>\n      <td>user_055_abc</td>\n      <td>user_059_abc</td>\n      <td>user_04_abc</td>\n      <td>user_072_abc</td>\n      <td>user_0100_abc</td>\n      <td>user_035_abc</td>\n      <td>user_093_abc</td>\n      <td>user_041_abc</td>\n      <td>user_0141_abc</td>\n      <td>...</td>\n      <td>user_0149_abc</td>\n      <td>user_083_abc</td>\n      <td>user_0115_abc</td>\n      <td>user_0127_abc</td>\n      <td>user_0148_abc</td>\n      <td>user_020_abc</td>\n      <td>user_0145_abc</td>\n      <td>user_045_abc</td>\n      <td>user_064_abc</td>\n      <td>user_0136_abc</td>\n    </tr>\n    <tr>\n      <th>user_0104_abc</th>\n      <td>user_0145_abc</td>\n      <td>user_021_abc</td>\n      <td>user_076_abc</td>\n      <td>user_096_abc</td>\n      <td>user_05_abc</td>\n      <td>user_037_abc</td>\n      <td>user_046_abc</td>\n      <td>user_0129_abc</td>\n      <td>user_029_abc</td>\n      <td>user_087_abc</td>\n      <td>...</td>\n      <td>user_0112_abc</td>\n      <td>user_042_abc</td>\n      <td>user_017_abc</td>\n      <td>user_065_abc</td>\n      <td>user_07_abc</td>\n      <td>user_0142_abc</td>\n      <td>user_0109_abc</td>\n      <td>user_0149_abc</td>\n      <td>user_0115_abc</td>\n      <td>user_045_abc</td>\n    </tr>\n  </tbody>\n</table>\n<p>5 rows × 30 columns</p>\n</div>"
     },
     "metadata": {},
     "execution_count": 117
    }
   ],
   "source": [
    "# top 30 neighbours for each user\n",
    "sim_user_30_u = find_n_neighbours(similarity_with_user,30)\n",
    "sim_user_30_u.head()"
   ]
  },
  {
   "cell_type": "code",
   "execution_count": 118,
   "metadata": {
    "collapsed": true,
    "jupyter": {
     "outputs_hidden": true
    }
   },
   "outputs": [
    {
     "output_type": "execute_result",
     "data": {
      "text/plain": "                       top1           top2           top3           top4  \\\nUSERNAME                                                                   \nuser_0100_abc  user_037_abc  user_0116_abc  user_0129_abc  user_0107_abc   \nuser_0101_abc  user_037_abc  user_0129_abc  user_0116_abc  user_0107_abc   \nuser_0102_abc  user_037_abc  user_0129_abc  user_0116_abc  user_0107_abc   \nuser_0103_abc  user_037_abc  user_0129_abc  user_0116_abc   user_059_abc   \nuser_0104_abc  user_037_abc  user_0129_abc  user_0116_abc  user_0107_abc   \n\n                        top5          top6           top7           top8  \\\nUSERNAME                                                                   \nuser_0100_abc   user_055_abc  user_017_abc  user_0150_abc  user_0111_abc   \nuser_0101_abc   user_055_abc  user_017_abc  user_0111_abc  user_0150_abc   \nuser_0102_abc   user_055_abc  user_017_abc  user_0150_abc  user_0111_abc   \nuser_0103_abc  user_0107_abc  user_055_abc   user_017_abc  user_0150_abc   \nuser_0104_abc   user_055_abc  user_017_abc  user_0150_abc  user_0111_abc   \n\n                        top9          top10  ...         top21         top22  \\\nUSERNAME                                     ...                               \nuser_0100_abc   user_026_abc  user_0149_abc  ...   user_04_abc  user_059_abc   \nuser_0101_abc   user_026_abc  user_0149_abc  ...  user_064_abc  user_059_abc   \nuser_0102_abc   user_026_abc  user_0149_abc  ...   user_04_abc  user_064_abc   \nuser_0103_abc  user_0111_abc  user_0149_abc  ...   user_04_abc  user_064_abc   \nuser_0104_abc   user_026_abc  user_0149_abc  ...   user_04_abc  user_064_abc   \n\n                      top23          top24          top25          top26  \\\nUSERNAME                                                                   \nuser_0100_abc  user_086_abc  user_0122_abc   user_050_abc  user_0124_abc   \nuser_0101_abc  user_086_abc  user_0122_abc   user_065_abc   user_050_abc   \nuser_0102_abc  user_059_abc   user_086_abc  user_0122_abc   user_065_abc   \nuser_0103_abc  user_086_abc  user_0122_abc   user_065_abc   user_050_abc   \nuser_0104_abc  user_059_abc   user_086_abc  user_0122_abc   user_065_abc   \n\n                       top27          top28          top29          top30  \nUSERNAME                                                                   \nuser_0100_abc   user_064_abc  user_0102_abc  user_0148_abc  user_0112_abc  \nuser_0101_abc  user_0124_abc  user_0102_abc   user_058_abc  user_0148_abc  \nuser_0102_abc   user_050_abc  user_0124_abc   user_058_abc  user_0148_abc  \nuser_0103_abc  user_0124_abc  user_0102_abc   user_058_abc  user_0148_abc  \nuser_0104_abc   user_050_abc  user_0124_abc  user_0102_abc   user_058_abc  \n\n[5 rows x 30 columns]",
      "text/html": "<div>\n<style scoped>\n    .dataframe tbody tr th:only-of-type {\n        vertical-align: middle;\n    }\n\n    .dataframe tbody tr th {\n        vertical-align: top;\n    }\n\n    .dataframe thead th {\n        text-align: right;\n    }\n</style>\n<table border=\"1\" class=\"dataframe\">\n  <thead>\n    <tr style=\"text-align: right;\">\n      <th></th>\n      <th>top1</th>\n      <th>top2</th>\n      <th>top3</th>\n      <th>top4</th>\n      <th>top5</th>\n      <th>top6</th>\n      <th>top7</th>\n      <th>top8</th>\n      <th>top9</th>\n      <th>top10</th>\n      <th>...</th>\n      <th>top21</th>\n      <th>top22</th>\n      <th>top23</th>\n      <th>top24</th>\n      <th>top25</th>\n      <th>top26</th>\n      <th>top27</th>\n      <th>top28</th>\n      <th>top29</th>\n      <th>top30</th>\n    </tr>\n    <tr>\n      <th>USERNAME</th>\n      <th></th>\n      <th></th>\n      <th></th>\n      <th></th>\n      <th></th>\n      <th></th>\n      <th></th>\n      <th></th>\n      <th></th>\n      <th></th>\n      <th></th>\n      <th></th>\n      <th></th>\n      <th></th>\n      <th></th>\n      <th></th>\n      <th></th>\n      <th></th>\n      <th></th>\n      <th></th>\n      <th></th>\n    </tr>\n  </thead>\n  <tbody>\n    <tr>\n      <th>user_0100_abc</th>\n      <td>user_037_abc</td>\n      <td>user_0116_abc</td>\n      <td>user_0129_abc</td>\n      <td>user_0107_abc</td>\n      <td>user_055_abc</td>\n      <td>user_017_abc</td>\n      <td>user_0150_abc</td>\n      <td>user_0111_abc</td>\n      <td>user_026_abc</td>\n      <td>user_0149_abc</td>\n      <td>...</td>\n      <td>user_04_abc</td>\n      <td>user_059_abc</td>\n      <td>user_086_abc</td>\n      <td>user_0122_abc</td>\n      <td>user_050_abc</td>\n      <td>user_0124_abc</td>\n      <td>user_064_abc</td>\n      <td>user_0102_abc</td>\n      <td>user_0148_abc</td>\n      <td>user_0112_abc</td>\n    </tr>\n    <tr>\n      <th>user_0101_abc</th>\n      <td>user_037_abc</td>\n      <td>user_0129_abc</td>\n      <td>user_0116_abc</td>\n      <td>user_0107_abc</td>\n      <td>user_055_abc</td>\n      <td>user_017_abc</td>\n      <td>user_0111_abc</td>\n      <td>user_0150_abc</td>\n      <td>user_026_abc</td>\n      <td>user_0149_abc</td>\n      <td>...</td>\n      <td>user_064_abc</td>\n      <td>user_059_abc</td>\n      <td>user_086_abc</td>\n      <td>user_0122_abc</td>\n      <td>user_065_abc</td>\n      <td>user_050_abc</td>\n      <td>user_0124_abc</td>\n      <td>user_0102_abc</td>\n      <td>user_058_abc</td>\n      <td>user_0148_abc</td>\n    </tr>\n    <tr>\n      <th>user_0102_abc</th>\n      <td>user_037_abc</td>\n      <td>user_0129_abc</td>\n      <td>user_0116_abc</td>\n      <td>user_0107_abc</td>\n      <td>user_055_abc</td>\n      <td>user_017_abc</td>\n      <td>user_0150_abc</td>\n      <td>user_0111_abc</td>\n      <td>user_026_abc</td>\n      <td>user_0149_abc</td>\n      <td>...</td>\n      <td>user_04_abc</td>\n      <td>user_064_abc</td>\n      <td>user_059_abc</td>\n      <td>user_086_abc</td>\n      <td>user_0122_abc</td>\n      <td>user_065_abc</td>\n      <td>user_050_abc</td>\n      <td>user_0124_abc</td>\n      <td>user_058_abc</td>\n      <td>user_0148_abc</td>\n    </tr>\n    <tr>\n      <th>user_0103_abc</th>\n      <td>user_037_abc</td>\n      <td>user_0129_abc</td>\n      <td>user_0116_abc</td>\n      <td>user_059_abc</td>\n      <td>user_0107_abc</td>\n      <td>user_055_abc</td>\n      <td>user_017_abc</td>\n      <td>user_0150_abc</td>\n      <td>user_0111_abc</td>\n      <td>user_0149_abc</td>\n      <td>...</td>\n      <td>user_04_abc</td>\n      <td>user_064_abc</td>\n      <td>user_086_abc</td>\n      <td>user_0122_abc</td>\n      <td>user_065_abc</td>\n      <td>user_050_abc</td>\n      <td>user_0124_abc</td>\n      <td>user_0102_abc</td>\n      <td>user_058_abc</td>\n      <td>user_0148_abc</td>\n    </tr>\n    <tr>\n      <th>user_0104_abc</th>\n      <td>user_037_abc</td>\n      <td>user_0129_abc</td>\n      <td>user_0116_abc</td>\n      <td>user_0107_abc</td>\n      <td>user_055_abc</td>\n      <td>user_017_abc</td>\n      <td>user_0150_abc</td>\n      <td>user_0111_abc</td>\n      <td>user_026_abc</td>\n      <td>user_0149_abc</td>\n      <td>...</td>\n      <td>user_04_abc</td>\n      <td>user_064_abc</td>\n      <td>user_059_abc</td>\n      <td>user_086_abc</td>\n      <td>user_0122_abc</td>\n      <td>user_065_abc</td>\n      <td>user_050_abc</td>\n      <td>user_0124_abc</td>\n      <td>user_0102_abc</td>\n      <td>user_058_abc</td>\n    </tr>\n  </tbody>\n</table>\n<p>5 rows × 30 columns</p>\n</div>"
     },
     "metadata": {},
     "execution_count": 118
    }
   ],
   "source": [
    "# top 30 neighbours for each user\n",
    "sim_user_30_m = find_n_neighbours(similarity_with_movie,30)\n",
    "sim_user_30_m.head()"
   ]
  },
  {
   "cell_type": "code",
   "execution_count": 119,
   "metadata": {},
   "outputs": [],
   "source": [
    "def get_user_similar_movies( user1, user2 ):\n",
    "    common_movies = Rating_avg[Rating_avg.USERNAME == user1].merge(\n",
    "    Rating_avg[Rating_avg.USERNAME == user2],\n",
    "    on = \"REST_ID\",\n",
    "    how = \"inner\" )\n",
    "    return common_movies.merge( hotel, on = 'REST_ID' )"
   ]
  },
  {
   "cell_type": "code",
   "execution_count": 120,
   "metadata": {},
   "outputs": [
    {
     "output_type": "error",
     "ename": "KeyError",
     "evalue": "'REST_ID'",
     "traceback": [
      "\u001b[1;31m---------------------------------------------------------------------------\u001b[0m",
      "\u001b[1;31mKeyError\u001b[0m                                  Traceback (most recent call last)",
      "\u001b[1;32m<ipython-input-120-f5c13c25e5e0>\u001b[0m in \u001b[0;36m<module>\u001b[1;34m\u001b[0m\n\u001b[1;32m----> 1\u001b[1;33m \u001b[0ma\u001b[0m \u001b[1;33m=\u001b[0m \u001b[0mget_user_similar_movies\u001b[0m\u001b[1;33m(\u001b[0m\u001b[1;34m'user_018_abc'\u001b[0m\u001b[1;33m,\u001b[0m\u001b[1;34m'user_018_abc'\u001b[0m\u001b[1;33m)\u001b[0m\u001b[1;33m\u001b[0m\u001b[1;33m\u001b[0m\u001b[0m\n\u001b[0m\u001b[0;32m      2\u001b[0m \u001b[0ma\u001b[0m \u001b[1;33m=\u001b[0m \u001b[0ma\u001b[0m\u001b[1;33m.\u001b[0m\u001b[0mloc\u001b[0m\u001b[1;33m[\u001b[0m \u001b[1;33m:\u001b[0m \u001b[1;33m,\u001b[0m \u001b[1;33m[\u001b[0m\u001b[1;34m'RATING_x_x'\u001b[0m\u001b[1;33m,\u001b[0m\u001b[1;34m'RATING_x_y'\u001b[0m\u001b[1;33m,\u001b[0m\u001b[1;34m'name'\u001b[0m\u001b[1;33m]\u001b[0m\u001b[1;33m]\u001b[0m\u001b[1;33m\u001b[0m\u001b[1;33m\u001b[0m\u001b[0m\n\u001b[0;32m      3\u001b[0m \u001b[0ma\u001b[0m\u001b[1;33m.\u001b[0m\u001b[0mhead\u001b[0m\u001b[1;33m(\u001b[0m\u001b[1;33m)\u001b[0m\u001b[1;33m\u001b[0m\u001b[1;33m\u001b[0m\u001b[0m\n",
      "\u001b[1;32m<ipython-input-119-aec4307bb98f>\u001b[0m in \u001b[0;36mget_user_similar_movies\u001b[1;34m(user1, user2)\u001b[0m\n\u001b[0;32m      4\u001b[0m     \u001b[0mon\u001b[0m \u001b[1;33m=\u001b[0m \u001b[1;34m\"REST_ID\"\u001b[0m\u001b[1;33m,\u001b[0m\u001b[1;33m\u001b[0m\u001b[1;33m\u001b[0m\u001b[0m\n\u001b[0;32m      5\u001b[0m     how = \"inner\" )\n\u001b[1;32m----> 6\u001b[1;33m     \u001b[1;32mreturn\u001b[0m \u001b[0mcommon_movies\u001b[0m\u001b[1;33m.\u001b[0m\u001b[0mmerge\u001b[0m\u001b[1;33m(\u001b[0m \u001b[0mhotel\u001b[0m\u001b[1;33m,\u001b[0m \u001b[0mon\u001b[0m \u001b[1;33m=\u001b[0m \u001b[1;34m'REST_ID'\u001b[0m \u001b[1;33m)\u001b[0m\u001b[1;33m\u001b[0m\u001b[1;33m\u001b[0m\u001b[0m\n\u001b[0m",
      "\u001b[1;32m~\\anaconda3\\lib\\site-packages\\pandas\\core\\frame.py\u001b[0m in \u001b[0;36mmerge\u001b[1;34m(self, right, how, on, left_on, right_on, left_index, right_index, sort, suffixes, copy, indicator, validate)\u001b[0m\n\u001b[0;32m   7295\u001b[0m             \u001b[0mcopy\u001b[0m\u001b[1;33m=\u001b[0m\u001b[0mcopy\u001b[0m\u001b[1;33m,\u001b[0m\u001b[1;33m\u001b[0m\u001b[1;33m\u001b[0m\u001b[0m\n\u001b[0;32m   7296\u001b[0m             \u001b[0mindicator\u001b[0m\u001b[1;33m=\u001b[0m\u001b[0mindicator\u001b[0m\u001b[1;33m,\u001b[0m\u001b[1;33m\u001b[0m\u001b[1;33m\u001b[0m\u001b[0m\n\u001b[1;32m-> 7297\u001b[1;33m             \u001b[0mvalidate\u001b[0m\u001b[1;33m=\u001b[0m\u001b[0mvalidate\u001b[0m\u001b[1;33m,\u001b[0m\u001b[1;33m\u001b[0m\u001b[1;33m\u001b[0m\u001b[0m\n\u001b[0m\u001b[0;32m   7298\u001b[0m         )\n\u001b[0;32m   7299\u001b[0m \u001b[1;33m\u001b[0m\u001b[0m\n",
      "\u001b[1;32m~\\anaconda3\\lib\\site-packages\\pandas\\core\\reshape\\merge.py\u001b[0m in \u001b[0;36mmerge\u001b[1;34m(left, right, how, on, left_on, right_on, left_index, right_index, sort, suffixes, copy, indicator, validate)\u001b[0m\n\u001b[0;32m     84\u001b[0m         \u001b[0mcopy\u001b[0m\u001b[1;33m=\u001b[0m\u001b[0mcopy\u001b[0m\u001b[1;33m,\u001b[0m\u001b[1;33m\u001b[0m\u001b[1;33m\u001b[0m\u001b[0m\n\u001b[0;32m     85\u001b[0m         \u001b[0mindicator\u001b[0m\u001b[1;33m=\u001b[0m\u001b[0mindicator\u001b[0m\u001b[1;33m,\u001b[0m\u001b[1;33m\u001b[0m\u001b[1;33m\u001b[0m\u001b[0m\n\u001b[1;32m---> 86\u001b[1;33m         \u001b[0mvalidate\u001b[0m\u001b[1;33m=\u001b[0m\u001b[0mvalidate\u001b[0m\u001b[1;33m,\u001b[0m\u001b[1;33m\u001b[0m\u001b[1;33m\u001b[0m\u001b[0m\n\u001b[0m\u001b[0;32m     87\u001b[0m     )\n\u001b[0;32m     88\u001b[0m     \u001b[1;32mreturn\u001b[0m \u001b[0mop\u001b[0m\u001b[1;33m.\u001b[0m\u001b[0mget_result\u001b[0m\u001b[1;33m(\u001b[0m\u001b[1;33m)\u001b[0m\u001b[1;33m\u001b[0m\u001b[1;33m\u001b[0m\u001b[0m\n",
      "\u001b[1;32m~\\anaconda3\\lib\\site-packages\\pandas\\core\\reshape\\merge.py\u001b[0m in \u001b[0;36m__init__\u001b[1;34m(self, left, right, how, on, left_on, right_on, axis, left_index, right_index, sort, suffixes, copy, indicator, validate)\u001b[0m\n\u001b[0;32m    625\u001b[0m             \u001b[0mself\u001b[0m\u001b[1;33m.\u001b[0m\u001b[0mright_join_keys\u001b[0m\u001b[1;33m,\u001b[0m\u001b[1;33m\u001b[0m\u001b[1;33m\u001b[0m\u001b[0m\n\u001b[0;32m    626\u001b[0m             \u001b[0mself\u001b[0m\u001b[1;33m.\u001b[0m\u001b[0mjoin_names\u001b[0m\u001b[1;33m,\u001b[0m\u001b[1;33m\u001b[0m\u001b[1;33m\u001b[0m\u001b[0m\n\u001b[1;32m--> 627\u001b[1;33m         ) = self._get_merge_keys()\n\u001b[0m\u001b[0;32m    628\u001b[0m \u001b[1;33m\u001b[0m\u001b[0m\n\u001b[0;32m    629\u001b[0m         \u001b[1;31m# validate the merge keys dtypes. We may need to coerce\u001b[0m\u001b[1;33m\u001b[0m\u001b[1;33m\u001b[0m\u001b[1;33m\u001b[0m\u001b[0m\n",
      "\u001b[1;32m~\\anaconda3\\lib\\site-packages\\pandas\\core\\reshape\\merge.py\u001b[0m in \u001b[0;36m_get_merge_keys\u001b[1;34m(self)\u001b[0m\n\u001b[0;32m    981\u001b[0m                     \u001b[1;32mif\u001b[0m \u001b[1;32mnot\u001b[0m \u001b[0mis_rkey\u001b[0m\u001b[1;33m(\u001b[0m\u001b[0mrk\u001b[0m\u001b[1;33m)\u001b[0m\u001b[1;33m:\u001b[0m\u001b[1;33m\u001b[0m\u001b[1;33m\u001b[0m\u001b[0m\n\u001b[0;32m    982\u001b[0m                         \u001b[1;32mif\u001b[0m \u001b[0mrk\u001b[0m \u001b[1;32mis\u001b[0m \u001b[1;32mnot\u001b[0m \u001b[1;32mNone\u001b[0m\u001b[1;33m:\u001b[0m\u001b[1;33m\u001b[0m\u001b[1;33m\u001b[0m\u001b[0m\n\u001b[1;32m--> 983\u001b[1;33m                             \u001b[0mright_keys\u001b[0m\u001b[1;33m.\u001b[0m\u001b[0mappend\u001b[0m\u001b[1;33m(\u001b[0m\u001b[0mright\u001b[0m\u001b[1;33m.\u001b[0m\u001b[0m_get_label_or_level_values\u001b[0m\u001b[1;33m(\u001b[0m\u001b[0mrk\u001b[0m\u001b[1;33m)\u001b[0m\u001b[1;33m)\u001b[0m\u001b[1;33m\u001b[0m\u001b[1;33m\u001b[0m\u001b[0m\n\u001b[0m\u001b[0;32m    984\u001b[0m                         \u001b[1;32melse\u001b[0m\u001b[1;33m:\u001b[0m\u001b[1;33m\u001b[0m\u001b[1;33m\u001b[0m\u001b[0m\n\u001b[0;32m    985\u001b[0m                             \u001b[1;31m# work-around for merge_asof(right_index=True)\u001b[0m\u001b[1;33m\u001b[0m\u001b[1;33m\u001b[0m\u001b[1;33m\u001b[0m\u001b[0m\n",
      "\u001b[1;32m~\\anaconda3\\lib\\site-packages\\pandas\\core\\generic.py\u001b[0m in \u001b[0;36m_get_label_or_level_values\u001b[1;34m(self, key, axis)\u001b[0m\n\u001b[0;32m   1690\u001b[0m             \u001b[0mvalues\u001b[0m \u001b[1;33m=\u001b[0m \u001b[0mself\u001b[0m\u001b[1;33m.\u001b[0m\u001b[0maxes\u001b[0m\u001b[1;33m[\u001b[0m\u001b[0maxis\u001b[0m\u001b[1;33m]\u001b[0m\u001b[1;33m.\u001b[0m\u001b[0mget_level_values\u001b[0m\u001b[1;33m(\u001b[0m\u001b[0mkey\u001b[0m\u001b[1;33m)\u001b[0m\u001b[1;33m.\u001b[0m\u001b[0m_values\u001b[0m\u001b[1;33m\u001b[0m\u001b[1;33m\u001b[0m\u001b[0m\n\u001b[0;32m   1691\u001b[0m         \u001b[1;32melse\u001b[0m\u001b[1;33m:\u001b[0m\u001b[1;33m\u001b[0m\u001b[1;33m\u001b[0m\u001b[0m\n\u001b[1;32m-> 1692\u001b[1;33m             \u001b[1;32mraise\u001b[0m \u001b[0mKeyError\u001b[0m\u001b[1;33m(\u001b[0m\u001b[0mkey\u001b[0m\u001b[1;33m)\u001b[0m\u001b[1;33m\u001b[0m\u001b[1;33m\u001b[0m\u001b[0m\n\u001b[0m\u001b[0;32m   1693\u001b[0m \u001b[1;33m\u001b[0m\u001b[0m\n\u001b[0;32m   1694\u001b[0m         \u001b[1;31m# Check for duplicates\u001b[0m\u001b[1;33m\u001b[0m\u001b[1;33m\u001b[0m\u001b[1;33m\u001b[0m\u001b[0m\n",
      "\u001b[1;31mKeyError\u001b[0m: 'REST_ID'"
     ]
    }
   ],
   "source": [
    "a = get_user_similar_movies('user_018_abc','user_018_abc')\n",
    "a = a.loc[ : , ['RATING_x_x','RATING_x_y','name']]\n",
    "a.head()"
   ]
  },
  {
   "cell_type": "code",
   "execution_count": 121,
   "metadata": {},
   "outputs": [],
   "source": [
    "def User_item_score(user,item):\n",
    "    a = sim_user_30_m[sim_user_30_m.index==user].values\n",
    "    b = a.squeeze().tolist()\n",
    "    c = final_movie.loc[:,item]\n",
    "    d = c[c.index.isin(b)]\n",
    "    f = d[d.notnull()]\n",
    "    avg_user = Mean.loc[Mean['USERNAME'] == user,'RATING'].values[0]\n",
    "    index = f.index.values.squeeze().tolist()\n",
    "    corr = similarity_with_movie.loc[user,index]\n",
    "    fin = pd.concat([f, corr], axis=1)\n",
    "    fin.columns = ['adg_score','correlation']\n",
    "    fin['score']=fin.apply(lambda x:x['adg_score'] * x['correlation'],axis=1)\n",
    "    nume = fin['score'].sum()\n",
    "    deno = fin['correlation'].sum()\n",
    "    final_score = avg_user + (nume/deno)\n",
    "    return final_score"
   ]
  },
  {
   "cell_type": "code",
   "execution_count": 122,
   "metadata": {},
   "outputs": [
    {
     "output_type": "stream",
     "name": "stdout",
     "text": "score (u,i) is 4.111500125508155\n"
    }
   ],
   "source": [
    "score = User_item_score('user_018_abc',74385)\n",
    "print(\"score (u,i) is\",score)"
   ]
  },
  {
   "cell_type": "code",
   "execution_count": 123,
   "metadata": {},
   "outputs": [],
   "source": [
    "Rating_avg = Rating_avg.astype({\"REST_ID\": str})\n",
    "Movie_user = Rating_avg.groupby(by = 'USERNAME')['REST_ID'].apply(lambda x:','.join(x))"
   ]
  },
  {
   "cell_type": "code",
   "execution_count": null,
   "metadata": {},
   "outputs": [],
   "source": []
  },
  {
   "cell_type": "code",
   "execution_count": 129,
   "metadata": {},
   "outputs": [],
   "source": [
    "def User_item_score1(user):\n",
    "    Movie_seen_by_user = check.columns[check[check.index==user].notna().any()].tolist()\n",
    "    a = sim_user_30_m[sim_user_30_m.index==user].values\n",
    "    b = a.squeeze().tolist()\n",
    "    d = Movie_user[Movie_user.index.isin(b)]\n",
    "    l = ','.join(d.values)\n",
    "    Movie_seen_by_similar_users = l.split(',')\n",
    "    Movies_under_consideration = list(set(Movie_seen_by_similar_users)-set(list(map(str, Movie_seen_by_user))))\n",
    "    Movies_under_consideration = list(map(int, Movies_under_consideration))\n",
    "    score = []\n",
    "    for item in Movies_under_consideration:\n",
    "        c = final_movie.loc[:,item]\n",
    "        d = c[c.index.isin(b)]\n",
    "        f = d[d.notnull()]\n",
    "        avg_user = Mean.loc[Mean['USERNAME'] == user,'RATING'].values[0]\n",
    "        index = f.index.values.squeeze().tolist()\n",
    "        corr = similarity_with_movie.loc[user,index]\n",
    "        fin = pd.concat([f, corr], axis=1)\n",
    "        fin.columns = ['adg_score','correlation']\n",
    "        fin['score']=fin.apply(lambda x:x['adg_score'] * x['correlation'],axis=1)\n",
    "        nume = fin['score'].sum()\n",
    "        deno = fin['correlation'].sum()\n",
    "        final_score = avg_user + (nume/deno)\n",
    "        score.append(final_score)\n",
    "    data = pd.DataFrame({'REST_ID':Movies_under_consideration,'score':score})\n",
    "    print(data.head())\n",
    "    top_5_recommendation = data.sort_values(by='score',ascending=False).head(5)\n",
    "    Movie_Name = top_5_recommendation.merge(hotel, how='inner', on='REST_ID')\n",
    "    Movie_Names = Movie_Name.name.values.tolist()\n",
    "    return Movie_Names"
   ]
  },
  {
   "cell_type": "code",
   "execution_count": 130,
   "metadata": {},
   "outputs": [
    {
     "output_type": "stream",
     "name": "stdout",
     "text": "REST_ID     score\n0    85046  4.744111\n1    80304  4.088322\n2    99922  4.510000\n3    88712  3.656753\n4    95053  4.177994\n"
    },
    {
     "output_type": "error",
     "ename": "KeyError",
     "evalue": "'REST_ID'",
     "traceback": [
      "\u001b[1;31m---------------------------------------------------------------------------\u001b[0m",
      "\u001b[1;31mKeyError\u001b[0m                                  Traceback (most recent call last)",
      "\u001b[1;32m<ipython-input-130-4b6af2cbb3a9>\u001b[0m in \u001b[0;36m<module>\u001b[1;34m\u001b[0m\n\u001b[0;32m      1\u001b[0m \u001b[0muser\u001b[0m \u001b[1;33m=\u001b[0m \u001b[0minput\u001b[0m\u001b[1;33m(\u001b[0m\u001b[1;34m\"Enter the user id to whom you want to recommend : \"\u001b[0m\u001b[1;33m)\u001b[0m\u001b[1;33m\u001b[0m\u001b[1;33m\u001b[0m\u001b[0m\n\u001b[1;32m----> 2\u001b[1;33m \u001b[0mpredicted_movies\u001b[0m \u001b[1;33m=\u001b[0m \u001b[0mUser_item_score1\u001b[0m\u001b[1;33m(\u001b[0m\u001b[0muser\u001b[0m\u001b[1;33m)\u001b[0m\u001b[1;33m\u001b[0m\u001b[1;33m\u001b[0m\u001b[0m\n\u001b[0m\u001b[0;32m      3\u001b[0m \u001b[0mprint\u001b[0m\u001b[1;33m(\u001b[0m\u001b[1;34m\" \"\u001b[0m\u001b[1;33m)\u001b[0m\u001b[1;33m\u001b[0m\u001b[1;33m\u001b[0m\u001b[0m\n\u001b[0;32m      4\u001b[0m \u001b[0mprint\u001b[0m\u001b[1;33m(\u001b[0m\u001b[1;34m\"The Recommendations for User Id :\"\u001b[0m\u001b[1;33m,\u001b[0m \u001b[0muser\u001b[0m\u001b[1;33m)\u001b[0m\u001b[1;33m\u001b[0m\u001b[1;33m\u001b[0m\u001b[0m\n\u001b[0;32m      5\u001b[0m \u001b[0mprint\u001b[0m\u001b[1;33m(\u001b[0m\u001b[1;34m\"   \"\u001b[0m\u001b[1;33m)\u001b[0m\u001b[1;33m\u001b[0m\u001b[1;33m\u001b[0m\u001b[0m\n",
      "\u001b[1;32m<ipython-input-129-06a7a254d245>\u001b[0m in \u001b[0;36mUser_item_score1\u001b[1;34m(user)\u001b[0m\n\u001b[0;32m     26\u001b[0m     \u001b[0mprint\u001b[0m\u001b[1;33m(\u001b[0m\u001b[0mdata\u001b[0m\u001b[1;33m.\u001b[0m\u001b[0mhead\u001b[0m\u001b[1;33m(\u001b[0m\u001b[1;33m)\u001b[0m\u001b[1;33m)\u001b[0m\u001b[1;33m\u001b[0m\u001b[1;33m\u001b[0m\u001b[0m\n\u001b[0;32m     27\u001b[0m     \u001b[0mtop_5_recommendation\u001b[0m \u001b[1;33m=\u001b[0m \u001b[0mdata\u001b[0m\u001b[1;33m.\u001b[0m\u001b[0msort_values\u001b[0m\u001b[1;33m(\u001b[0m\u001b[0mby\u001b[0m\u001b[1;33m=\u001b[0m\u001b[1;34m'score'\u001b[0m\u001b[1;33m,\u001b[0m\u001b[0mascending\u001b[0m\u001b[1;33m=\u001b[0m\u001b[1;32mFalse\u001b[0m\u001b[1;33m)\u001b[0m\u001b[1;33m.\u001b[0m\u001b[0mhead\u001b[0m\u001b[1;33m(\u001b[0m\u001b[1;36m5\u001b[0m\u001b[1;33m)\u001b[0m\u001b[1;33m\u001b[0m\u001b[1;33m\u001b[0m\u001b[0m\n\u001b[1;32m---> 28\u001b[1;33m     \u001b[0mMovie_Name\u001b[0m \u001b[1;33m=\u001b[0m \u001b[0mtop_5_recommendation\u001b[0m\u001b[1;33m.\u001b[0m\u001b[0mmerge\u001b[0m\u001b[1;33m(\u001b[0m\u001b[0mhotel\u001b[0m\u001b[1;33m,\u001b[0m \u001b[0mhow\u001b[0m\u001b[1;33m=\u001b[0m\u001b[1;34m'inner'\u001b[0m\u001b[1;33m,\u001b[0m \u001b[0mon\u001b[0m\u001b[1;33m=\u001b[0m\u001b[1;34m'REST_ID'\u001b[0m\u001b[1;33m)\u001b[0m\u001b[1;33m\u001b[0m\u001b[1;33m\u001b[0m\u001b[0m\n\u001b[0m\u001b[0;32m     29\u001b[0m     \u001b[0mMovie_Names\u001b[0m \u001b[1;33m=\u001b[0m \u001b[0mMovie_Name\u001b[0m\u001b[1;33m.\u001b[0m\u001b[0mname\u001b[0m\u001b[1;33m.\u001b[0m\u001b[0mvalues\u001b[0m\u001b[1;33m.\u001b[0m\u001b[0mtolist\u001b[0m\u001b[1;33m(\u001b[0m\u001b[1;33m)\u001b[0m\u001b[1;33m\u001b[0m\u001b[1;33m\u001b[0m\u001b[0m\n\u001b[0;32m     30\u001b[0m     \u001b[1;32mreturn\u001b[0m \u001b[0mMovie_Names\u001b[0m\u001b[1;33m\u001b[0m\u001b[1;33m\u001b[0m\u001b[0m\n",
      "\u001b[1;32m~\\anaconda3\\lib\\site-packages\\pandas\\core\\frame.py\u001b[0m in \u001b[0;36mmerge\u001b[1;34m(self, right, how, on, left_on, right_on, left_index, right_index, sort, suffixes, copy, indicator, validate)\u001b[0m\n\u001b[0;32m   7295\u001b[0m             \u001b[0mcopy\u001b[0m\u001b[1;33m=\u001b[0m\u001b[0mcopy\u001b[0m\u001b[1;33m,\u001b[0m\u001b[1;33m\u001b[0m\u001b[1;33m\u001b[0m\u001b[0m\n\u001b[0;32m   7296\u001b[0m             \u001b[0mindicator\u001b[0m\u001b[1;33m=\u001b[0m\u001b[0mindicator\u001b[0m\u001b[1;33m,\u001b[0m\u001b[1;33m\u001b[0m\u001b[1;33m\u001b[0m\u001b[0m\n\u001b[1;32m-> 7297\u001b[1;33m             \u001b[0mvalidate\u001b[0m\u001b[1;33m=\u001b[0m\u001b[0mvalidate\u001b[0m\u001b[1;33m,\u001b[0m\u001b[1;33m\u001b[0m\u001b[1;33m\u001b[0m\u001b[0m\n\u001b[0m\u001b[0;32m   7298\u001b[0m         )\n\u001b[0;32m   7299\u001b[0m \u001b[1;33m\u001b[0m\u001b[0m\n",
      "\u001b[1;32m~\\anaconda3\\lib\\site-packages\\pandas\\core\\reshape\\merge.py\u001b[0m in \u001b[0;36mmerge\u001b[1;34m(left, right, how, on, left_on, right_on, left_index, right_index, sort, suffixes, copy, indicator, validate)\u001b[0m\n\u001b[0;32m     84\u001b[0m         \u001b[0mcopy\u001b[0m\u001b[1;33m=\u001b[0m\u001b[0mcopy\u001b[0m\u001b[1;33m,\u001b[0m\u001b[1;33m\u001b[0m\u001b[1;33m\u001b[0m\u001b[0m\n\u001b[0;32m     85\u001b[0m         \u001b[0mindicator\u001b[0m\u001b[1;33m=\u001b[0m\u001b[0mindicator\u001b[0m\u001b[1;33m,\u001b[0m\u001b[1;33m\u001b[0m\u001b[1;33m\u001b[0m\u001b[0m\n\u001b[1;32m---> 86\u001b[1;33m         \u001b[0mvalidate\u001b[0m\u001b[1;33m=\u001b[0m\u001b[0mvalidate\u001b[0m\u001b[1;33m,\u001b[0m\u001b[1;33m\u001b[0m\u001b[1;33m\u001b[0m\u001b[0m\n\u001b[0m\u001b[0;32m     87\u001b[0m     )\n\u001b[0;32m     88\u001b[0m     \u001b[1;32mreturn\u001b[0m \u001b[0mop\u001b[0m\u001b[1;33m.\u001b[0m\u001b[0mget_result\u001b[0m\u001b[1;33m(\u001b[0m\u001b[1;33m)\u001b[0m\u001b[1;33m\u001b[0m\u001b[1;33m\u001b[0m\u001b[0m\n",
      "\u001b[1;32m~\\anaconda3\\lib\\site-packages\\pandas\\core\\reshape\\merge.py\u001b[0m in \u001b[0;36m__init__\u001b[1;34m(self, left, right, how, on, left_on, right_on, axis, left_index, right_index, sort, suffixes, copy, indicator, validate)\u001b[0m\n\u001b[0;32m    625\u001b[0m             \u001b[0mself\u001b[0m\u001b[1;33m.\u001b[0m\u001b[0mright_join_keys\u001b[0m\u001b[1;33m,\u001b[0m\u001b[1;33m\u001b[0m\u001b[1;33m\u001b[0m\u001b[0m\n\u001b[0;32m    626\u001b[0m             \u001b[0mself\u001b[0m\u001b[1;33m.\u001b[0m\u001b[0mjoin_names\u001b[0m\u001b[1;33m,\u001b[0m\u001b[1;33m\u001b[0m\u001b[1;33m\u001b[0m\u001b[0m\n\u001b[1;32m--> 627\u001b[1;33m         ) = self._get_merge_keys()\n\u001b[0m\u001b[0;32m    628\u001b[0m \u001b[1;33m\u001b[0m\u001b[0m\n\u001b[0;32m    629\u001b[0m         \u001b[1;31m# validate the merge keys dtypes. We may need to coerce\u001b[0m\u001b[1;33m\u001b[0m\u001b[1;33m\u001b[0m\u001b[1;33m\u001b[0m\u001b[0m\n",
      "\u001b[1;32m~\\anaconda3\\lib\\site-packages\\pandas\\core\\reshape\\merge.py\u001b[0m in \u001b[0;36m_get_merge_keys\u001b[1;34m(self)\u001b[0m\n\u001b[0;32m    981\u001b[0m                     \u001b[1;32mif\u001b[0m \u001b[1;32mnot\u001b[0m \u001b[0mis_rkey\u001b[0m\u001b[1;33m(\u001b[0m\u001b[0mrk\u001b[0m\u001b[1;33m)\u001b[0m\u001b[1;33m:\u001b[0m\u001b[1;33m\u001b[0m\u001b[1;33m\u001b[0m\u001b[0m\n\u001b[0;32m    982\u001b[0m                         \u001b[1;32mif\u001b[0m \u001b[0mrk\u001b[0m \u001b[1;32mis\u001b[0m \u001b[1;32mnot\u001b[0m \u001b[1;32mNone\u001b[0m\u001b[1;33m:\u001b[0m\u001b[1;33m\u001b[0m\u001b[1;33m\u001b[0m\u001b[0m\n\u001b[1;32m--> 983\u001b[1;33m                             \u001b[0mright_keys\u001b[0m\u001b[1;33m.\u001b[0m\u001b[0mappend\u001b[0m\u001b[1;33m(\u001b[0m\u001b[0mright\u001b[0m\u001b[1;33m.\u001b[0m\u001b[0m_get_label_or_level_values\u001b[0m\u001b[1;33m(\u001b[0m\u001b[0mrk\u001b[0m\u001b[1;33m)\u001b[0m\u001b[1;33m)\u001b[0m\u001b[1;33m\u001b[0m\u001b[1;33m\u001b[0m\u001b[0m\n\u001b[0m\u001b[0;32m    984\u001b[0m                         \u001b[1;32melse\u001b[0m\u001b[1;33m:\u001b[0m\u001b[1;33m\u001b[0m\u001b[1;33m\u001b[0m\u001b[0m\n\u001b[0;32m    985\u001b[0m                             \u001b[1;31m# work-around for merge_asof(right_index=True)\u001b[0m\u001b[1;33m\u001b[0m\u001b[1;33m\u001b[0m\u001b[1;33m\u001b[0m\u001b[0m\n",
      "\u001b[1;32m~\\anaconda3\\lib\\site-packages\\pandas\\core\\generic.py\u001b[0m in \u001b[0;36m_get_label_or_level_values\u001b[1;34m(self, key, axis)\u001b[0m\n\u001b[0;32m   1690\u001b[0m             \u001b[0mvalues\u001b[0m \u001b[1;33m=\u001b[0m \u001b[0mself\u001b[0m\u001b[1;33m.\u001b[0m\u001b[0maxes\u001b[0m\u001b[1;33m[\u001b[0m\u001b[0maxis\u001b[0m\u001b[1;33m]\u001b[0m\u001b[1;33m.\u001b[0m\u001b[0mget_level_values\u001b[0m\u001b[1;33m(\u001b[0m\u001b[0mkey\u001b[0m\u001b[1;33m)\u001b[0m\u001b[1;33m.\u001b[0m\u001b[0m_values\u001b[0m\u001b[1;33m\u001b[0m\u001b[1;33m\u001b[0m\u001b[0m\n\u001b[0;32m   1691\u001b[0m         \u001b[1;32melse\u001b[0m\u001b[1;33m:\u001b[0m\u001b[1;33m\u001b[0m\u001b[1;33m\u001b[0m\u001b[0m\n\u001b[1;32m-> 1692\u001b[1;33m             \u001b[1;32mraise\u001b[0m \u001b[0mKeyError\u001b[0m\u001b[1;33m(\u001b[0m\u001b[0mkey\u001b[0m\u001b[1;33m)\u001b[0m\u001b[1;33m\u001b[0m\u001b[1;33m\u001b[0m\u001b[0m\n\u001b[0m\u001b[0;32m   1693\u001b[0m \u001b[1;33m\u001b[0m\u001b[0m\n\u001b[0;32m   1694\u001b[0m         \u001b[1;31m# Check for duplicates\u001b[0m\u001b[1;33m\u001b[0m\u001b[1;33m\u001b[0m\u001b[1;33m\u001b[0m\u001b[0m\n",
      "\u001b[1;31mKeyError\u001b[0m: 'REST_ID'"
     ]
    }
   ],
   "source": [
    "user = input(\"Enter the user id to whom you want to recommend : \")\n",
    "predicted_movies = User_item_score1(user)\n",
    "print(\" \")\n",
    "print(\"The Recommendations for User Id :\", user)\n",
    "print(\"   \")\n",
    "for i in predicted_movies:\n",
    "    print(i)"
   ]
  },
  {
   "cell_type": "code",
   "execution_count": null,
   "metadata": {},
   "outputs": [],
   "source": []
  },
  {
   "cell_type": "code",
   "execution_count": null,
   "metadata": {},
   "outputs": [],
   "source": []
  },
  {
   "cell_type": "code",
   "execution_count": null,
   "metadata": {},
   "outputs": [],
   "source": []
  }
 ],
 "metadata": {
  "kernelspec": {
   "display_name": "Python 3",
   "language": "python",
   "name": "python3"
  },
  "language_info": {
   "codemirror_mode": {
    "name": "ipython",
    "version": 3
   },
   "file_extension": ".py",
   "mimetype": "text/x-python",
   "name": "python",
   "nbconvert_exporter": "python",
   "pygments_lexer": "ipython3",
   "version": "3.7.6-final"
  }
 },
 "nbformat": 4,
 "nbformat_minor": 4
}