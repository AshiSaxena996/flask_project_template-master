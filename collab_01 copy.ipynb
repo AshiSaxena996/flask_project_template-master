{
 "cells": [
  {
   "cell_type": "code",
   "execution_count": 86,
   "metadata": {},
   "outputs": [],
   "source": [
    "import pandas as pd\n",
    "import numpy as np\n",
    "from matplotlib import pyplot as plt\n",
    "from sklearn.metrics.pairwise import cosine_similarity\n",
    "from sklearn.metrics import pairwise_distances"
   ]
  },
  {
   "cell_type": "code",
   "execution_count": 87,
   "metadata": {},
   "outputs": [],
   "source": [
    "from app.models import db"
   ]
  },
  {
   "cell_type": "code",
   "execution_count": 88,
   "metadata": {},
   "outputs": [],
   "source": [
    "user= pd.read_sql('rating',db.engine)"
   ]
  },
  {
   "cell_type": "code",
   "execution_count": 89,
   "metadata": {
    "collapsed": true,
    "jupyter": {
     "outputs_hidden": true
    }
   },
   "outputs": [
    {
     "output_type": "stream",
     "name": "stdout",
     "text": "<class 'pandas.core.frame.DataFrame'>\nRangeIndex: 1500 entries, 0 to 1499\nData columns (total 5 columns):\n #   Column       Non-Null Count  Dtype         \n---  ------       --------------  -----         \n 0   id           1500 non-null   int64         \n 1   rest_id      1500 non-null   int64         \n 2   rating       1500 non-null   int64         \n 3   username     1500 non-null   object        \n 4   date_posted  1500 non-null   datetime64[ns]\ndtypes: datetime64[ns](1), int64(3), object(1)\nmemory usage: 58.7+ KB\n"
    }
   ],
   "source": [
    "user.info()"
   ]
  },
  {
   "cell_type": "code",
   "execution_count": 90,
   "metadata": {},
   "outputs": [
    {
     "output_type": "execute_result",
     "data": {
      "text/plain": "    id  rest_id  rating     username                date_posted\n10  11    97099       2  user_02_abc 2020-05-12 15:32:00.204891\n11  12    79267       3  user_02_abc 2020-05-12 15:32:00.204891\n12  13    84842       5  user_02_abc 2020-05-12 15:32:00.205891\n13  14    96251       4  user_02_abc 2020-05-12 15:32:00.205891\n14  15   100022       5  user_02_abc 2020-05-12 15:32:00.205891\n15  16   100800       3  user_02_abc 2020-05-12 15:32:00.205891\n16  17    82949       3  user_02_abc 2020-05-12 15:32:00.205891\n17  18    77188       4  user_02_abc 2020-05-12 15:32:00.205891\n18  19    77290       3  user_02_abc 2020-05-12 15:32:00.206912\n19  20    98172       4  user_02_abc 2020-05-12 15:32:00.206912",
      "text/html": "<div>\n<style scoped>\n    .dataframe tbody tr th:only-of-type {\n        vertical-align: middle;\n    }\n\n    .dataframe tbody tr th {\n        vertical-align: top;\n    }\n\n    .dataframe thead th {\n        text-align: right;\n    }\n</style>\n<table border=\"1\" class=\"dataframe\">\n  <thead>\n    <tr style=\"text-align: right;\">\n      <th></th>\n      <th>id</th>\n      <th>rest_id</th>\n      <th>rating</th>\n      <th>username</th>\n      <th>date_posted</th>\n    </tr>\n  </thead>\n  <tbody>\n    <tr>\n      <th>10</th>\n      <td>11</td>\n      <td>97099</td>\n      <td>2</td>\n      <td>user_02_abc</td>\n      <td>2020-05-12 15:32:00.204891</td>\n    </tr>\n    <tr>\n      <th>11</th>\n      <td>12</td>\n      <td>79267</td>\n      <td>3</td>\n      <td>user_02_abc</td>\n      <td>2020-05-12 15:32:00.204891</td>\n    </tr>\n    <tr>\n      <th>12</th>\n      <td>13</td>\n      <td>84842</td>\n      <td>5</td>\n      <td>user_02_abc</td>\n      <td>2020-05-12 15:32:00.205891</td>\n    </tr>\n    <tr>\n      <th>13</th>\n      <td>14</td>\n      <td>96251</td>\n      <td>4</td>\n      <td>user_02_abc</td>\n      <td>2020-05-12 15:32:00.205891</td>\n    </tr>\n    <tr>\n      <th>14</th>\n      <td>15</td>\n      <td>100022</td>\n      <td>5</td>\n      <td>user_02_abc</td>\n      <td>2020-05-12 15:32:00.205891</td>\n    </tr>\n    <tr>\n      <th>15</th>\n      <td>16</td>\n      <td>100800</td>\n      <td>3</td>\n      <td>user_02_abc</td>\n      <td>2020-05-12 15:32:00.205891</td>\n    </tr>\n    <tr>\n      <th>16</th>\n      <td>17</td>\n      <td>82949</td>\n      <td>3</td>\n      <td>user_02_abc</td>\n      <td>2020-05-12 15:32:00.205891</td>\n    </tr>\n    <tr>\n      <th>17</th>\n      <td>18</td>\n      <td>77188</td>\n      <td>4</td>\n      <td>user_02_abc</td>\n      <td>2020-05-12 15:32:00.205891</td>\n    </tr>\n    <tr>\n      <th>18</th>\n      <td>19</td>\n      <td>77290</td>\n      <td>3</td>\n      <td>user_02_abc</td>\n      <td>2020-05-12 15:32:00.206912</td>\n    </tr>\n    <tr>\n      <th>19</th>\n      <td>20</td>\n      <td>98172</td>\n      <td>4</td>\n      <td>user_02_abc</td>\n      <td>2020-05-12 15:32:00.206912</td>\n    </tr>\n  </tbody>\n</table>\n</div>"
     },
     "metadata": {},
     "execution_count": 90
    }
   ],
   "source": [
    "user[user.username=='user_02_abc']"
   ]
  },
  {
   "cell_type": "code",
   "execution_count": 91,
   "metadata": {},
   "outputs": [
    {
     "output_type": "execute_result",
     "data": {
      "text/plain": "[2, 3, 5, 4, 5, 3, 3, 4, 3, 4]"
     },
     "metadata": {},
     "execution_count": 91
    }
   ],
   "source": [
    "a= user[user.username=='user_02_abc']\n",
    "b= a.rating\n",
    "b.tolist()"
   ]
  },
  {
   "cell_type": "code",
   "execution_count": 92,
   "metadata": {},
   "outputs": [],
   "source": [
    "df = user.set_index('id', drop = True)"
   ]
  },
  {
   "cell_type": "code",
   "execution_count": 93,
   "metadata": {
    "collapsed": true,
    "jupyter": {
     "outputs_hidden": true
    }
   },
   "outputs": [
    {
     "output_type": "execute_result",
     "data": {
      "text/plain": "      rest_id  rating       username                date_posted\nid                                                             \n1       82057       4    user_01_abc 2020-05-12 15:32:00.202893\n2       83657       4    user_01_abc 2020-05-12 15:32:00.203894\n3       89626       3    user_01_abc 2020-05-12 15:32:00.204891\n4       91276       4    user_01_abc 2020-05-12 15:32:00.204891\n5       93829       3    user_01_abc 2020-05-12 15:32:00.204891\n...       ...     ...            ...                        ...\n1496    89641       5  user_0150_abc 2020-05-12 15:32:00.399902\n1497    77653       3  user_0150_abc 2020-05-12 15:32:00.399902\n1498    88911       4  user_0150_abc 2020-05-12 15:32:00.399902\n1499    93115       4  user_0150_abc 2020-05-12 15:32:00.400905\n1500    90424       4  user_0150_abc 2020-05-12 15:32:00.400905\n\n[1500 rows x 4 columns]",
      "text/html": "<div>\n<style scoped>\n    .dataframe tbody tr th:only-of-type {\n        vertical-align: middle;\n    }\n\n    .dataframe tbody tr th {\n        vertical-align: top;\n    }\n\n    .dataframe thead th {\n        text-align: right;\n    }\n</style>\n<table border=\"1\" class=\"dataframe\">\n  <thead>\n    <tr style=\"text-align: right;\">\n      <th></th>\n      <th>rest_id</th>\n      <th>rating</th>\n      <th>username</th>\n      <th>date_posted</th>\n    </tr>\n    <tr>\n      <th>id</th>\n      <th></th>\n      <th></th>\n      <th></th>\n      <th></th>\n    </tr>\n  </thead>\n  <tbody>\n    <tr>\n      <th>1</th>\n      <td>82057</td>\n      <td>4</td>\n      <td>user_01_abc</td>\n      <td>2020-05-12 15:32:00.202893</td>\n    </tr>\n    <tr>\n      <th>2</th>\n      <td>83657</td>\n      <td>4</td>\n      <td>user_01_abc</td>\n      <td>2020-05-12 15:32:00.203894</td>\n    </tr>\n    <tr>\n      <th>3</th>\n      <td>89626</td>\n      <td>3</td>\n      <td>user_01_abc</td>\n      <td>2020-05-12 15:32:00.204891</td>\n    </tr>\n    <tr>\n      <th>4</th>\n      <td>91276</td>\n      <td>4</td>\n      <td>user_01_abc</td>\n      <td>2020-05-12 15:32:00.204891</td>\n    </tr>\n    <tr>\n      <th>5</th>\n      <td>93829</td>\n      <td>3</td>\n      <td>user_01_abc</td>\n      <td>2020-05-12 15:32:00.204891</td>\n    </tr>\n    <tr>\n      <th>...</th>\n      <td>...</td>\n      <td>...</td>\n      <td>...</td>\n      <td>...</td>\n    </tr>\n    <tr>\n      <th>1496</th>\n      <td>89641</td>\n      <td>5</td>\n      <td>user_0150_abc</td>\n      <td>2020-05-12 15:32:00.399902</td>\n    </tr>\n    <tr>\n      <th>1497</th>\n      <td>77653</td>\n      <td>3</td>\n      <td>user_0150_abc</td>\n      <td>2020-05-12 15:32:00.399902</td>\n    </tr>\n    <tr>\n      <th>1498</th>\n      <td>88911</td>\n      <td>4</td>\n      <td>user_0150_abc</td>\n      <td>2020-05-12 15:32:00.399902</td>\n    </tr>\n    <tr>\n      <th>1499</th>\n      <td>93115</td>\n      <td>4</td>\n      <td>user_0150_abc</td>\n      <td>2020-05-12 15:32:00.400905</td>\n    </tr>\n    <tr>\n      <th>1500</th>\n      <td>90424</td>\n      <td>4</td>\n      <td>user_0150_abc</td>\n      <td>2020-05-12 15:32:00.400905</td>\n    </tr>\n  </tbody>\n</table>\n<p>1500 rows × 4 columns</p>\n</div>"
     },
     "metadata": {},
     "execution_count": 93
    }
   ],
   "source": [
    "df"
   ]
  },
  {
   "cell_type": "code",
   "execution_count": 94,
   "metadata": {},
   "outputs": [],
   "source": [
    "a1= df.loc[10:20,\"rating\"]\n",
    "a2= list(a1)"
   ]
  },
  {
   "cell_type": "code",
   "execution_count": 95,
   "metadata": {},
   "outputs": [],
   "source": [
    "import pandas as pd"
   ]
  },
  {
   "cell_type": "code",
   "execution_count": 96,
   "metadata": {
    "collapsed": true,
    "jupyter": {
     "outputs_hidden": true
    }
   },
   "outputs": [],
   "source": [
    "hotel = pd.read_sql(\"restaurant\", db.engine)\n",
    "Ratings = pd.read_sql(\"rating\", db.engine)\n",
    "Mean = Ratings.groupby(by=\"username\",as_index=False)['rating'].mean()"
   ]
  },
  {
   "cell_type": "code",
   "execution_count": 97,
   "metadata": {},
   "outputs": [
    {
     "output_type": "execute_result",
     "data": {
      "text/plain": "    id  rest_id  rating_x     username                date_posted  rating_y  \\\n0    1    82057         4  user_01_abc 2020-05-12 15:32:00.202893       3.4   \n1    2    83657         4  user_01_abc 2020-05-12 15:32:00.203894       3.4   \n2    3    89626         3  user_01_abc 2020-05-12 15:32:00.204891       3.4   \n3    4    91276         4  user_01_abc 2020-05-12 15:32:00.204891       3.4   \n4    5    93829         3  user_01_abc 2020-05-12 15:32:00.204891       3.4   \n5    6    86930         3  user_01_abc 2020-05-12 15:32:00.204891       3.4   \n6    7    79783         4  user_01_abc 2020-05-12 15:32:00.204891       3.4   \n7    8    90944         4  user_01_abc 2020-05-12 15:32:00.204891       3.4   \n8    9    78715         2  user_01_abc 2020-05-12 15:32:00.204891       3.4   \n9   10    97146         3  user_01_abc 2020-05-12 15:32:00.204891       3.4   \n10  11    97099         2  user_02_abc 2020-05-12 15:32:00.204891       3.6   \n11  12    79267         3  user_02_abc 2020-05-12 15:32:00.204891       3.6   \n12  13    84842         5  user_02_abc 2020-05-12 15:32:00.205891       3.6   \n13  14    96251         4  user_02_abc 2020-05-12 15:32:00.205891       3.6   \n14  15   100022         5  user_02_abc 2020-05-12 15:32:00.205891       3.6   \n\n    adg_rating  \n0          0.6  \n1          0.6  \n2         -0.4  \n3          0.6  \n4         -0.4  \n5         -0.4  \n6          0.6  \n7          0.6  \n8         -1.4  \n9         -0.4  \n10        -1.6  \n11        -0.6  \n12         1.4  \n13         0.4  \n14         1.4  ",
      "text/html": "<div>\n<style scoped>\n    .dataframe tbody tr th:only-of-type {\n        vertical-align: middle;\n    }\n\n    .dataframe tbody tr th {\n        vertical-align: top;\n    }\n\n    .dataframe thead th {\n        text-align: right;\n    }\n</style>\n<table border=\"1\" class=\"dataframe\">\n  <thead>\n    <tr style=\"text-align: right;\">\n      <th></th>\n      <th>id</th>\n      <th>rest_id</th>\n      <th>rating_x</th>\n      <th>username</th>\n      <th>date_posted</th>\n      <th>rating_y</th>\n      <th>adg_rating</th>\n    </tr>\n  </thead>\n  <tbody>\n    <tr>\n      <th>0</th>\n      <td>1</td>\n      <td>82057</td>\n      <td>4</td>\n      <td>user_01_abc</td>\n      <td>2020-05-12 15:32:00.202893</td>\n      <td>3.4</td>\n      <td>0.6</td>\n    </tr>\n    <tr>\n      <th>1</th>\n      <td>2</td>\n      <td>83657</td>\n      <td>4</td>\n      <td>user_01_abc</td>\n      <td>2020-05-12 15:32:00.203894</td>\n      <td>3.4</td>\n      <td>0.6</td>\n    </tr>\n    <tr>\n      <th>2</th>\n      <td>3</td>\n      <td>89626</td>\n      <td>3</td>\n      <td>user_01_abc</td>\n      <td>2020-05-12 15:32:00.204891</td>\n      <td>3.4</td>\n      <td>-0.4</td>\n    </tr>\n    <tr>\n      <th>3</th>\n      <td>4</td>\n      <td>91276</td>\n      <td>4</td>\n      <td>user_01_abc</td>\n      <td>2020-05-12 15:32:00.204891</td>\n      <td>3.4</td>\n      <td>0.6</td>\n    </tr>\n    <tr>\n      <th>4</th>\n      <td>5</td>\n      <td>93829</td>\n      <td>3</td>\n      <td>user_01_abc</td>\n      <td>2020-05-12 15:32:00.204891</td>\n      <td>3.4</td>\n      <td>-0.4</td>\n    </tr>\n    <tr>\n      <th>5</th>\n      <td>6</td>\n      <td>86930</td>\n      <td>3</td>\n      <td>user_01_abc</td>\n      <td>2020-05-12 15:32:00.204891</td>\n      <td>3.4</td>\n      <td>-0.4</td>\n    </tr>\n    <tr>\n      <th>6</th>\n      <td>7</td>\n      <td>79783</td>\n      <td>4</td>\n      <td>user_01_abc</td>\n      <td>2020-05-12 15:32:00.204891</td>\n      <td>3.4</td>\n      <td>0.6</td>\n    </tr>\n    <tr>\n      <th>7</th>\n      <td>8</td>\n      <td>90944</td>\n      <td>4</td>\n      <td>user_01_abc</td>\n      <td>2020-05-12 15:32:00.204891</td>\n      <td>3.4</td>\n      <td>0.6</td>\n    </tr>\n    <tr>\n      <th>8</th>\n      <td>9</td>\n      <td>78715</td>\n      <td>2</td>\n      <td>user_01_abc</td>\n      <td>2020-05-12 15:32:00.204891</td>\n      <td>3.4</td>\n      <td>-1.4</td>\n    </tr>\n    <tr>\n      <th>9</th>\n      <td>10</td>\n      <td>97146</td>\n      <td>3</td>\n      <td>user_01_abc</td>\n      <td>2020-05-12 15:32:00.204891</td>\n      <td>3.4</td>\n      <td>-0.4</td>\n    </tr>\n    <tr>\n      <th>10</th>\n      <td>11</td>\n      <td>97099</td>\n      <td>2</td>\n      <td>user_02_abc</td>\n      <td>2020-05-12 15:32:00.204891</td>\n      <td>3.6</td>\n      <td>-1.6</td>\n    </tr>\n    <tr>\n      <th>11</th>\n      <td>12</td>\n      <td>79267</td>\n      <td>3</td>\n      <td>user_02_abc</td>\n      <td>2020-05-12 15:32:00.204891</td>\n      <td>3.6</td>\n      <td>-0.6</td>\n    </tr>\n    <tr>\n      <th>12</th>\n      <td>13</td>\n      <td>84842</td>\n      <td>5</td>\n      <td>user_02_abc</td>\n      <td>2020-05-12 15:32:00.205891</td>\n      <td>3.6</td>\n      <td>1.4</td>\n    </tr>\n    <tr>\n      <th>13</th>\n      <td>14</td>\n      <td>96251</td>\n      <td>4</td>\n      <td>user_02_abc</td>\n      <td>2020-05-12 15:32:00.205891</td>\n      <td>3.6</td>\n      <td>0.4</td>\n    </tr>\n    <tr>\n      <th>14</th>\n      <td>15</td>\n      <td>100022</td>\n      <td>5</td>\n      <td>user_02_abc</td>\n      <td>2020-05-12 15:32:00.205891</td>\n      <td>3.6</td>\n      <td>1.4</td>\n    </tr>\n  </tbody>\n</table>\n</div>"
     },
     "metadata": {},
     "execution_count": 97
    }
   ],
   "source": [
    "Rating_avg = pd.merge(Ratings,Mean,on='username')\n",
    "Rating_avg['adg_rating']=Rating_avg['rating_x']-Rating_avg['rating_y']\n",
    "Rating_avg.head(15)"
   ]
  },
  {
   "cell_type": "code",
   "execution_count": 98,
   "metadata": {
    "collapsed": true,
    "jupyter": {
     "outputs_hidden": true
    }
   },
   "outputs": [
    {
     "output_type": "execute_result",
     "data": {
      "text/plain": "      id                                         zomato_url  \\\n0  74366  https://www.zomato.com/lucknow/good-bakery-nis...   \n1  74385  https://www.zomato.com/lucknow/sepia-renaissan...   \n2  74403  https://www.zomato.com/lucknow/cake-n-cafe-aas...   \n3  74420  https://www.zomato.com/lucknow/ram-asrey-hazra...   \n4  74438  https://www.zomato.com/lucknow/nawabeens-awadh...   \n\n                                name     city         area  rating  \\\n0                        Good Bakery  Lucknow   Nishatganj     4.0   \n1  Sepia - Renaissance Lucknow Hotel  Lucknow  Gomti Nagar     4.1   \n2                      Cake 'n' Cafe  Lucknow     Aashiana     3.8   \n3                          Ram Asrey  Lucknow   Hazratganj     4.1   \n4       Nawabeen's Awadhi Restaurant  Lucknow      Lalbagh     3.9   \n\n   rating_count                    telephone                        cuisine  \\\n0         279.0  0522 4000145 +91 9335912829              Bakery, Fast Food   \n1         223.0                 080 45128594                         Awadhi   \n2         270.0  0522 4304555 +91 7991585855    Fast Food, Bakery, Desserts   \n3         207.0  0522 4006000 +91 9454512700    Mithai, Fast Food, Desserts   \n4         296.0                 080 45128621  Awadhi, North Indian, Mughlai   \n\n   cost_for_two                                            address  \\\n0         450.0            Near Indira Bridge, Nishatganj, Lucknow   \n1        1500.0  Renaissance Lucknow Hotel, Vipin Khand, Gomti ...   \n2         200.0  M 249, LDA Colony, Sector G, Ashiyana, Near Po...   \n3         350.0  43/48, Nawal Kishore Road, Near Leela Theatre,...   \n4        1200.0  3, Quinton Road, Near Nishat Hospital, Lalbagh...   \n\n   online_order  table_reservation  delivery_only  \\\n0          True              False          False   \n1         False               True          False   \n2          True               True          False   \n3          True              False          False   \n4          True               True          False   \n\n                                         famous_food  longitude   latitude  \n0                       Noodle , Fried Rice , Coffee  80.956512  26.870551  \n1  Warqi Parantha , Mutton Biryani , Chicken Tikk...  80.973488  26.853250  \n2                                            Waffles  80.908467  26.789445  \n3  Malai Paan , Chaat , Aloo Tikki , Dhokla , Ras...  80.943666  26.850022  \n4  Biryani , Kulcha Nihari , Fish Tikka , Mutton ...  80.936131  26.850230  ",
      "text/html": "<div>\n<style scoped>\n    .dataframe tbody tr th:only-of-type {\n        vertical-align: middle;\n    }\n\n    .dataframe tbody tr th {\n        vertical-align: top;\n    }\n\n    .dataframe thead th {\n        text-align: right;\n    }\n</style>\n<table border=\"1\" class=\"dataframe\">\n  <thead>\n    <tr style=\"text-align: right;\">\n      <th></th>\n      <th>id</th>\n      <th>zomato_url</th>\n      <th>name</th>\n      <th>city</th>\n      <th>area</th>\n      <th>rating</th>\n      <th>rating_count</th>\n      <th>telephone</th>\n      <th>cuisine</th>\n      <th>cost_for_two</th>\n      <th>address</th>\n      <th>online_order</th>\n      <th>table_reservation</th>\n      <th>delivery_only</th>\n      <th>famous_food</th>\n      <th>longitude</th>\n      <th>latitude</th>\n    </tr>\n  </thead>\n  <tbody>\n    <tr>\n      <th>0</th>\n      <td>74366</td>\n      <td>https://www.zomato.com/lucknow/good-bakery-nis...</td>\n      <td>Good Bakery</td>\n      <td>Lucknow</td>\n      <td>Nishatganj</td>\n      <td>4.0</td>\n      <td>279.0</td>\n      <td>0522 4000145 +91 9335912829</td>\n      <td>Bakery, Fast Food</td>\n      <td>450.0</td>\n      <td>Near Indira Bridge, Nishatganj, Lucknow</td>\n      <td>True</td>\n      <td>False</td>\n      <td>False</td>\n      <td>Noodle , Fried Rice , Coffee</td>\n      <td>80.956512</td>\n      <td>26.870551</td>\n    </tr>\n    <tr>\n      <th>1</th>\n      <td>74385</td>\n      <td>https://www.zomato.com/lucknow/sepia-renaissan...</td>\n      <td>Sepia - Renaissance Lucknow Hotel</td>\n      <td>Lucknow</td>\n      <td>Gomti Nagar</td>\n      <td>4.1</td>\n      <td>223.0</td>\n      <td>080 45128594</td>\n      <td>Awadhi</td>\n      <td>1500.0</td>\n      <td>Renaissance Lucknow Hotel, Vipin Khand, Gomti ...</td>\n      <td>False</td>\n      <td>True</td>\n      <td>False</td>\n      <td>Warqi Parantha , Mutton Biryani , Chicken Tikk...</td>\n      <td>80.973488</td>\n      <td>26.853250</td>\n    </tr>\n    <tr>\n      <th>2</th>\n      <td>74403</td>\n      <td>https://www.zomato.com/lucknow/cake-n-cafe-aas...</td>\n      <td>Cake 'n' Cafe</td>\n      <td>Lucknow</td>\n      <td>Aashiana</td>\n      <td>3.8</td>\n      <td>270.0</td>\n      <td>0522 4304555 +91 7991585855</td>\n      <td>Fast Food, Bakery, Desserts</td>\n      <td>200.0</td>\n      <td>M 249, LDA Colony, Sector G, Ashiyana, Near Po...</td>\n      <td>True</td>\n      <td>True</td>\n      <td>False</td>\n      <td>Waffles</td>\n      <td>80.908467</td>\n      <td>26.789445</td>\n    </tr>\n    <tr>\n      <th>3</th>\n      <td>74420</td>\n      <td>https://www.zomato.com/lucknow/ram-asrey-hazra...</td>\n      <td>Ram Asrey</td>\n      <td>Lucknow</td>\n      <td>Hazratganj</td>\n      <td>4.1</td>\n      <td>207.0</td>\n      <td>0522 4006000 +91 9454512700</td>\n      <td>Mithai, Fast Food, Desserts</td>\n      <td>350.0</td>\n      <td>43/48, Nawal Kishore Road, Near Leela Theatre,...</td>\n      <td>True</td>\n      <td>False</td>\n      <td>False</td>\n      <td>Malai Paan , Chaat , Aloo Tikki , Dhokla , Ras...</td>\n      <td>80.943666</td>\n      <td>26.850022</td>\n    </tr>\n    <tr>\n      <th>4</th>\n      <td>74438</td>\n      <td>https://www.zomato.com/lucknow/nawabeens-awadh...</td>\n      <td>Nawabeen's Awadhi Restaurant</td>\n      <td>Lucknow</td>\n      <td>Lalbagh</td>\n      <td>3.9</td>\n      <td>296.0</td>\n      <td>080 45128621</td>\n      <td>Awadhi, North Indian, Mughlai</td>\n      <td>1200.0</td>\n      <td>3, Quinton Road, Near Nishat Hospital, Lalbagh...</td>\n      <td>True</td>\n      <td>True</td>\n      <td>False</td>\n      <td>Biryani , Kulcha Nihari , Fish Tikka , Mutton ...</td>\n      <td>80.936131</td>\n      <td>26.850230</td>\n    </tr>\n  </tbody>\n</table>\n</div>"
     },
     "metadata": {},
     "execution_count": 98
    }
   ],
   "source": [
    "hotel.head()"
   ]
  },
  {
   "cell_type": "code",
   "execution_count": 99,
   "metadata": {
    "collapsed": true,
    "jupyter": {
     "outputs_hidden": true
    }
   },
   "outputs": [
    {
     "output_type": "execute_result",
     "data": {
      "text/plain": "   rest_id                                         zomato_url  \\\n0    74366  https://www.zomato.com/lucknow/good-bakery-nis...   \n1    74385  https://www.zomato.com/lucknow/sepia-renaissan...   \n2    74403  https://www.zomato.com/lucknow/cake-n-cafe-aas...   \n3    74420  https://www.zomato.com/lucknow/ram-asrey-hazra...   \n4    74438  https://www.zomato.com/lucknow/nawabeens-awadh...   \n\n                                name     city         area  rating  \\\n0                        Good Bakery  Lucknow   Nishatganj     4.0   \n1  Sepia - Renaissance Lucknow Hotel  Lucknow  Gomti Nagar     4.1   \n2                      Cake 'n' Cafe  Lucknow     Aashiana     3.8   \n3                          Ram Asrey  Lucknow   Hazratganj     4.1   \n4       Nawabeen's Awadhi Restaurant  Lucknow      Lalbagh     3.9   \n\n   rating_count                    telephone                        cuisine  \\\n0         279.0  0522 4000145 +91 9335912829              Bakery, Fast Food   \n1         223.0                 080 45128594                         Awadhi   \n2         270.0  0522 4304555 +91 7991585855    Fast Food, Bakery, Desserts   \n3         207.0  0522 4006000 +91 9454512700    Mithai, Fast Food, Desserts   \n4         296.0                 080 45128621  Awadhi, North Indian, Mughlai   \n\n   cost_for_two                                            address  \\\n0         450.0            Near Indira Bridge, Nishatganj, Lucknow   \n1        1500.0  Renaissance Lucknow Hotel, Vipin Khand, Gomti ...   \n2         200.0  M 249, LDA Colony, Sector G, Ashiyana, Near Po...   \n3         350.0  43/48, Nawal Kishore Road, Near Leela Theatre,...   \n4        1200.0  3, Quinton Road, Near Nishat Hospital, Lalbagh...   \n\n   online_order  table_reservation  delivery_only  \\\n0          True              False          False   \n1         False               True          False   \n2          True               True          False   \n3          True              False          False   \n4          True               True          False   \n\n                                         famous_food  longitude   latitude  \n0                       Noodle , Fried Rice , Coffee  80.956512  26.870551  \n1  Warqi Parantha , Mutton Biryani , Chicken Tikk...  80.973488  26.853250  \n2                                            Waffles  80.908467  26.789445  \n3  Malai Paan , Chaat , Aloo Tikki , Dhokla , Ras...  80.943666  26.850022  \n4  Biryani , Kulcha Nihari , Fish Tikka , Mutton ...  80.936131  26.850230  ",
      "text/html": "<div>\n<style scoped>\n    .dataframe tbody tr th:only-of-type {\n        vertical-align: middle;\n    }\n\n    .dataframe tbody tr th {\n        vertical-align: top;\n    }\n\n    .dataframe thead th {\n        text-align: right;\n    }\n</style>\n<table border=\"1\" class=\"dataframe\">\n  <thead>\n    <tr style=\"text-align: right;\">\n      <th></th>\n      <th>rest_id</th>\n      <th>zomato_url</th>\n      <th>name</th>\n      <th>city</th>\n      <th>area</th>\n      <th>rating</th>\n      <th>rating_count</th>\n      <th>telephone</th>\n      <th>cuisine</th>\n      <th>cost_for_two</th>\n      <th>address</th>\n      <th>online_order</th>\n      <th>table_reservation</th>\n      <th>delivery_only</th>\n      <th>famous_food</th>\n      <th>longitude</th>\n      <th>latitude</th>\n    </tr>\n  </thead>\n  <tbody>\n    <tr>\n      <th>0</th>\n      <td>74366</td>\n      <td>https://www.zomato.com/lucknow/good-bakery-nis...</td>\n      <td>Good Bakery</td>\n      <td>Lucknow</td>\n      <td>Nishatganj</td>\n      <td>4.0</td>\n      <td>279.0</td>\n      <td>0522 4000145 +91 9335912829</td>\n      <td>Bakery, Fast Food</td>\n      <td>450.0</td>\n      <td>Near Indira Bridge, Nishatganj, Lucknow</td>\n      <td>True</td>\n      <td>False</td>\n      <td>False</td>\n      <td>Noodle , Fried Rice , Coffee</td>\n      <td>80.956512</td>\n      <td>26.870551</td>\n    </tr>\n    <tr>\n      <th>1</th>\n      <td>74385</td>\n      <td>https://www.zomato.com/lucknow/sepia-renaissan...</td>\n      <td>Sepia - Renaissance Lucknow Hotel</td>\n      <td>Lucknow</td>\n      <td>Gomti Nagar</td>\n      <td>4.1</td>\n      <td>223.0</td>\n      <td>080 45128594</td>\n      <td>Awadhi</td>\n      <td>1500.0</td>\n      <td>Renaissance Lucknow Hotel, Vipin Khand, Gomti ...</td>\n      <td>False</td>\n      <td>True</td>\n      <td>False</td>\n      <td>Warqi Parantha , Mutton Biryani , Chicken Tikk...</td>\n      <td>80.973488</td>\n      <td>26.853250</td>\n    </tr>\n    <tr>\n      <th>2</th>\n      <td>74403</td>\n      <td>https://www.zomato.com/lucknow/cake-n-cafe-aas...</td>\n      <td>Cake 'n' Cafe</td>\n      <td>Lucknow</td>\n      <td>Aashiana</td>\n      <td>3.8</td>\n      <td>270.0</td>\n      <td>0522 4304555 +91 7991585855</td>\n      <td>Fast Food, Bakery, Desserts</td>\n      <td>200.0</td>\n      <td>M 249, LDA Colony, Sector G, Ashiyana, Near Po...</td>\n      <td>True</td>\n      <td>True</td>\n      <td>False</td>\n      <td>Waffles</td>\n      <td>80.908467</td>\n      <td>26.789445</td>\n    </tr>\n    <tr>\n      <th>3</th>\n      <td>74420</td>\n      <td>https://www.zomato.com/lucknow/ram-asrey-hazra...</td>\n      <td>Ram Asrey</td>\n      <td>Lucknow</td>\n      <td>Hazratganj</td>\n      <td>4.1</td>\n      <td>207.0</td>\n      <td>0522 4006000 +91 9454512700</td>\n      <td>Mithai, Fast Food, Desserts</td>\n      <td>350.0</td>\n      <td>43/48, Nawal Kishore Road, Near Leela Theatre,...</td>\n      <td>True</td>\n      <td>False</td>\n      <td>False</td>\n      <td>Malai Paan , Chaat , Aloo Tikki , Dhokla , Ras...</td>\n      <td>80.943666</td>\n      <td>26.850022</td>\n    </tr>\n    <tr>\n      <th>4</th>\n      <td>74438</td>\n      <td>https://www.zomato.com/lucknow/nawabeens-awadh...</td>\n      <td>Nawabeen's Awadhi Restaurant</td>\n      <td>Lucknow</td>\n      <td>Lalbagh</td>\n      <td>3.9</td>\n      <td>296.0</td>\n      <td>080 45128621</td>\n      <td>Awadhi, North Indian, Mughlai</td>\n      <td>1200.0</td>\n      <td>3, Quinton Road, Near Nishat Hospital, Lalbagh...</td>\n      <td>True</td>\n      <td>True</td>\n      <td>False</td>\n      <td>Biryani , Kulcha Nihari , Fish Tikka , Mutton ...</td>\n      <td>80.936131</td>\n      <td>26.850230</td>\n    </tr>\n  </tbody>\n</table>\n</div>"
     },
     "metadata": {},
     "execution_count": 99
    }
   ],
   "source": [
    "hotel.rename(columns = {'id':'rest_id'}, inplace = True) \n",
    "hotel.head()"
   ]
  },
  {
   "cell_type": "code",
   "execution_count": 100,
   "metadata": {},
   "outputs": [
    {
     "output_type": "execute_result",
     "data": {
      "text/plain": "   id  rest_id  rating     username                date_posted\n0   1    82057       4  user_01_abc 2020-05-12 15:32:00.202893\n1   2    83657       4  user_01_abc 2020-05-12 15:32:00.203894\n2   3    89626       3  user_01_abc 2020-05-12 15:32:00.204891\n3   4    91276       4  user_01_abc 2020-05-12 15:32:00.204891\n4   5    93829       3  user_01_abc 2020-05-12 15:32:00.204891",
      "text/html": "<div>\n<style scoped>\n    .dataframe tbody tr th:only-of-type {\n        vertical-align: middle;\n    }\n\n    .dataframe tbody tr th {\n        vertical-align: top;\n    }\n\n    .dataframe thead th {\n        text-align: right;\n    }\n</style>\n<table border=\"1\" class=\"dataframe\">\n  <thead>\n    <tr style=\"text-align: right;\">\n      <th></th>\n      <th>id</th>\n      <th>rest_id</th>\n      <th>rating</th>\n      <th>username</th>\n      <th>date_posted</th>\n    </tr>\n  </thead>\n  <tbody>\n    <tr>\n      <th>0</th>\n      <td>1</td>\n      <td>82057</td>\n      <td>4</td>\n      <td>user_01_abc</td>\n      <td>2020-05-12 15:32:00.202893</td>\n    </tr>\n    <tr>\n      <th>1</th>\n      <td>2</td>\n      <td>83657</td>\n      <td>4</td>\n      <td>user_01_abc</td>\n      <td>2020-05-12 15:32:00.203894</td>\n    </tr>\n    <tr>\n      <th>2</th>\n      <td>3</td>\n      <td>89626</td>\n      <td>3</td>\n      <td>user_01_abc</td>\n      <td>2020-05-12 15:32:00.204891</td>\n    </tr>\n    <tr>\n      <th>3</th>\n      <td>4</td>\n      <td>91276</td>\n      <td>4</td>\n      <td>user_01_abc</td>\n      <td>2020-05-12 15:32:00.204891</td>\n    </tr>\n    <tr>\n      <th>4</th>\n      <td>5</td>\n      <td>93829</td>\n      <td>3</td>\n      <td>user_01_abc</td>\n      <td>2020-05-12 15:32:00.204891</td>\n    </tr>\n  </tbody>\n</table>\n</div>"
     },
     "metadata": {},
     "execution_count": 100
    }
   ],
   "source": [
    "Ratings.head()"
   ]
  },
  {
   "cell_type": "code",
   "execution_count": 101,
   "metadata": {
    "collapsed": true,
    "jupyter": {
     "outputs_hidden": true
    }
   },
   "outputs": [
    {
     "output_type": "execute_result",
     "data": {
      "text/plain": "rest_id        74366   74385   74420   74438   74477   74495   74516   74575   \\\nusername                                                                        \nuser_0100_abc     NaN     NaN     NaN     NaN     NaN     NaN     NaN     NaN   \nuser_0101_abc     NaN     NaN     NaN     NaN     NaN     NaN     NaN     NaN   \nuser_0102_abc     NaN     NaN     NaN     NaN     NaN     NaN     NaN     NaN   \nuser_0103_abc     NaN     NaN     NaN     NaN     NaN     NaN     NaN     NaN   \nuser_0104_abc     NaN     NaN     NaN     NaN     NaN     NaN     NaN     NaN   \nuser_0105_abc     NaN     NaN     NaN     NaN     NaN     NaN     NaN     NaN   \nuser_0106_abc     NaN     NaN     NaN     NaN     NaN     NaN     NaN     NaN   \nuser_0107_abc     NaN     NaN     NaN     NaN     NaN     NaN     NaN     NaN   \nuser_0108_abc     NaN     NaN     NaN     NaN     NaN     NaN     NaN     NaN   \nuser_0109_abc     NaN     NaN     NaN     NaN     NaN     NaN     NaN     NaN   \nuser_010_abc      NaN     NaN     NaN     NaN     NaN     NaN     NaN     NaN   \nuser_0110_abc     NaN     NaN     NaN     NaN     NaN     NaN     NaN     NaN   \nuser_0111_abc     NaN     NaN     NaN     NaN     NaN     NaN     NaN     NaN   \nuser_0112_abc     NaN     NaN     NaN     4.0     NaN     NaN     NaN     NaN   \nuser_0113_abc     NaN     NaN     NaN     NaN     NaN     NaN     NaN     NaN   \n\nrest_id        74594   74630   ...  201888  201905  201913  201968  202006  \\\nusername                       ...                                           \nuser_0100_abc     NaN     NaN  ...     NaN     NaN     NaN     NaN     NaN   \nuser_0101_abc     NaN     NaN  ...     NaN     NaN     NaN     NaN     NaN   \nuser_0102_abc     NaN     NaN  ...     NaN     NaN     NaN     NaN     NaN   \nuser_0103_abc     NaN     NaN  ...     NaN     NaN     NaN     NaN     NaN   \nuser_0104_abc     NaN     NaN  ...     3.0     NaN     NaN     NaN     NaN   \nuser_0105_abc     NaN     NaN  ...     NaN     NaN     NaN     NaN     NaN   \nuser_0106_abc     NaN     NaN  ...     NaN     NaN     NaN     NaN     NaN   \nuser_0107_abc     NaN     NaN  ...     NaN     NaN     NaN     NaN     NaN   \nuser_0108_abc     NaN     NaN  ...     NaN     NaN     NaN     NaN     NaN   \nuser_0109_abc     NaN     NaN  ...     NaN     NaN     NaN     NaN     NaN   \nuser_010_abc      NaN     NaN  ...     NaN     NaN     NaN     NaN     NaN   \nuser_0110_abc     NaN     NaN  ...     NaN     NaN     NaN     NaN     NaN   \nuser_0111_abc     NaN     NaN  ...     NaN     NaN     NaN     NaN     NaN   \nuser_0112_abc     NaN     NaN  ...     NaN     NaN     NaN     NaN     NaN   \nuser_0113_abc     NaN     NaN  ...     NaN     NaN     NaN     NaN     NaN   \n\nrest_id        202210  202669  203161  203592  203652  \nusername                                               \nuser_0100_abc     NaN     NaN     NaN     NaN     NaN  \nuser_0101_abc     NaN     NaN     NaN     NaN     NaN  \nuser_0102_abc     NaN     NaN     NaN     NaN     NaN  \nuser_0103_abc     NaN     NaN     NaN     NaN     NaN  \nuser_0104_abc     NaN     NaN     NaN     NaN     NaN  \nuser_0105_abc     NaN     NaN     NaN     NaN     NaN  \nuser_0106_abc     NaN     NaN     NaN     NaN     NaN  \nuser_0107_abc     NaN     NaN     NaN     NaN     NaN  \nuser_0108_abc     NaN     NaN     NaN     NaN     NaN  \nuser_0109_abc     NaN     NaN     NaN     NaN     NaN  \nuser_010_abc      NaN     NaN     NaN     NaN     NaN  \nuser_0110_abc     NaN     NaN     NaN     NaN     NaN  \nuser_0111_abc     NaN     NaN     NaN     NaN     NaN  \nuser_0112_abc     NaN     NaN     NaN     NaN     NaN  \nuser_0113_abc     NaN     NaN     NaN     NaN     NaN  \n\n[15 rows x 921 columns]",
      "text/html": "<div>\n<style scoped>\n    .dataframe tbody tr th:only-of-type {\n        vertical-align: middle;\n    }\n\n    .dataframe tbody tr th {\n        vertical-align: top;\n    }\n\n    .dataframe thead th {\n        text-align: right;\n    }\n</style>\n<table border=\"1\" class=\"dataframe\">\n  <thead>\n    <tr style=\"text-align: right;\">\n      <th>rest_id</th>\n      <th>74366</th>\n      <th>74385</th>\n      <th>74420</th>\n      <th>74438</th>\n      <th>74477</th>\n      <th>74495</th>\n      <th>74516</th>\n      <th>74575</th>\n      <th>74594</th>\n      <th>74630</th>\n      <th>...</th>\n      <th>201888</th>\n      <th>201905</th>\n      <th>201913</th>\n      <th>201968</th>\n      <th>202006</th>\n      <th>202210</th>\n      <th>202669</th>\n      <th>203161</th>\n      <th>203592</th>\n      <th>203652</th>\n    </tr>\n    <tr>\n      <th>username</th>\n      <th></th>\n      <th></th>\n      <th></th>\n      <th></th>\n      <th></th>\n      <th></th>\n      <th></th>\n      <th></th>\n      <th></th>\n      <th></th>\n      <th></th>\n      <th></th>\n      <th></th>\n      <th></th>\n      <th></th>\n      <th></th>\n      <th></th>\n      <th></th>\n      <th></th>\n      <th></th>\n      <th></th>\n    </tr>\n  </thead>\n  <tbody>\n    <tr>\n      <th>user_0100_abc</th>\n      <td>NaN</td>\n      <td>NaN</td>\n      <td>NaN</td>\n      <td>NaN</td>\n      <td>NaN</td>\n      <td>NaN</td>\n      <td>NaN</td>\n      <td>NaN</td>\n      <td>NaN</td>\n      <td>NaN</td>\n      <td>...</td>\n      <td>NaN</td>\n      <td>NaN</td>\n      <td>NaN</td>\n      <td>NaN</td>\n      <td>NaN</td>\n      <td>NaN</td>\n      <td>NaN</td>\n      <td>NaN</td>\n      <td>NaN</td>\n      <td>NaN</td>\n    </tr>\n    <tr>\n      <th>user_0101_abc</th>\n      <td>NaN</td>\n      <td>NaN</td>\n      <td>NaN</td>\n      <td>NaN</td>\n      <td>NaN</td>\n      <td>NaN</td>\n      <td>NaN</td>\n      <td>NaN</td>\n      <td>NaN</td>\n      <td>NaN</td>\n      <td>...</td>\n      <td>NaN</td>\n      <td>NaN</td>\n      <td>NaN</td>\n      <td>NaN</td>\n      <td>NaN</td>\n      <td>NaN</td>\n      <td>NaN</td>\n      <td>NaN</td>\n      <td>NaN</td>\n      <td>NaN</td>\n    </tr>\n    <tr>\n      <th>user_0102_abc</th>\n      <td>NaN</td>\n      <td>NaN</td>\n      <td>NaN</td>\n      <td>NaN</td>\n      <td>NaN</td>\n      <td>NaN</td>\n      <td>NaN</td>\n      <td>NaN</td>\n      <td>NaN</td>\n      <td>NaN</td>\n      <td>...</td>\n      <td>NaN</td>\n      <td>NaN</td>\n      <td>NaN</td>\n      <td>NaN</td>\n      <td>NaN</td>\n      <td>NaN</td>\n      <td>NaN</td>\n      <td>NaN</td>\n      <td>NaN</td>\n      <td>NaN</td>\n    </tr>\n    <tr>\n      <th>user_0103_abc</th>\n      <td>NaN</td>\n      <td>NaN</td>\n      <td>NaN</td>\n      <td>NaN</td>\n      <td>NaN</td>\n      <td>NaN</td>\n      <td>NaN</td>\n      <td>NaN</td>\n      <td>NaN</td>\n      <td>NaN</td>\n      <td>...</td>\n      <td>NaN</td>\n      <td>NaN</td>\n      <td>NaN</td>\n      <td>NaN</td>\n      <td>NaN</td>\n      <td>NaN</td>\n      <td>NaN</td>\n      <td>NaN</td>\n      <td>NaN</td>\n      <td>NaN</td>\n    </tr>\n    <tr>\n      <th>user_0104_abc</th>\n      <td>NaN</td>\n      <td>NaN</td>\n      <td>NaN</td>\n      <td>NaN</td>\n      <td>NaN</td>\n      <td>NaN</td>\n      <td>NaN</td>\n      <td>NaN</td>\n      <td>NaN</td>\n      <td>NaN</td>\n      <td>...</td>\n      <td>3.0</td>\n      <td>NaN</td>\n      <td>NaN</td>\n      <td>NaN</td>\n      <td>NaN</td>\n      <td>NaN</td>\n      <td>NaN</td>\n      <td>NaN</td>\n      <td>NaN</td>\n      <td>NaN</td>\n    </tr>\n    <tr>\n      <th>user_0105_abc</th>\n      <td>NaN</td>\n      <td>NaN</td>\n      <td>NaN</td>\n      <td>NaN</td>\n      <td>NaN</td>\n      <td>NaN</td>\n      <td>NaN</td>\n      <td>NaN</td>\n      <td>NaN</td>\n      <td>NaN</td>\n      <td>...</td>\n      <td>NaN</td>\n      <td>NaN</td>\n      <td>NaN</td>\n      <td>NaN</td>\n      <td>NaN</td>\n      <td>NaN</td>\n      <td>NaN</td>\n      <td>NaN</td>\n      <td>NaN</td>\n      <td>NaN</td>\n    </tr>\n    <tr>\n      <th>user_0106_abc</th>\n      <td>NaN</td>\n      <td>NaN</td>\n      <td>NaN</td>\n      <td>NaN</td>\n      <td>NaN</td>\n      <td>NaN</td>\n      <td>NaN</td>\n      <td>NaN</td>\n      <td>NaN</td>\n      <td>NaN</td>\n      <td>...</td>\n      <td>NaN</td>\n      <td>NaN</td>\n      <td>NaN</td>\n      <td>NaN</td>\n      <td>NaN</td>\n      <td>NaN</td>\n      <td>NaN</td>\n      <td>NaN</td>\n      <td>NaN</td>\n      <td>NaN</td>\n    </tr>\n    <tr>\n      <th>user_0107_abc</th>\n      <td>NaN</td>\n      <td>NaN</td>\n      <td>NaN</td>\n      <td>NaN</td>\n      <td>NaN</td>\n      <td>NaN</td>\n      <td>NaN</td>\n      <td>NaN</td>\n      <td>NaN</td>\n      <td>NaN</td>\n      <td>...</td>\n      <td>NaN</td>\n      <td>NaN</td>\n      <td>NaN</td>\n      <td>NaN</td>\n      <td>NaN</td>\n      <td>NaN</td>\n      <td>NaN</td>\n      <td>NaN</td>\n      <td>NaN</td>\n      <td>NaN</td>\n    </tr>\n    <tr>\n      <th>user_0108_abc</th>\n      <td>NaN</td>\n      <td>NaN</td>\n      <td>NaN</td>\n      <td>NaN</td>\n      <td>NaN</td>\n      <td>NaN</td>\n      <td>NaN</td>\n      <td>NaN</td>\n      <td>NaN</td>\n      <td>NaN</td>\n      <td>...</td>\n      <td>NaN</td>\n      <td>NaN</td>\n      <td>NaN</td>\n      <td>NaN</td>\n      <td>NaN</td>\n      <td>NaN</td>\n      <td>NaN</td>\n      <td>NaN</td>\n      <td>NaN</td>\n      <td>NaN</td>\n    </tr>\n    <tr>\n      <th>user_0109_abc</th>\n      <td>NaN</td>\n      <td>NaN</td>\n      <td>NaN</td>\n      <td>NaN</td>\n      <td>NaN</td>\n      <td>NaN</td>\n      <td>NaN</td>\n      <td>NaN</td>\n      <td>NaN</td>\n      <td>NaN</td>\n      <td>...</td>\n      <td>NaN</td>\n      <td>NaN</td>\n      <td>NaN</td>\n      <td>NaN</td>\n      <td>NaN</td>\n      <td>NaN</td>\n      <td>NaN</td>\n      <td>NaN</td>\n      <td>NaN</td>\n      <td>NaN</td>\n    </tr>\n    <tr>\n      <th>user_010_abc</th>\n      <td>NaN</td>\n      <td>NaN</td>\n      <td>NaN</td>\n      <td>NaN</td>\n      <td>NaN</td>\n      <td>NaN</td>\n      <td>NaN</td>\n      <td>NaN</td>\n      <td>NaN</td>\n      <td>NaN</td>\n      <td>...</td>\n      <td>NaN</td>\n      <td>NaN</td>\n      <td>NaN</td>\n      <td>NaN</td>\n      <td>NaN</td>\n      <td>NaN</td>\n      <td>NaN</td>\n      <td>NaN</td>\n      <td>NaN</td>\n      <td>NaN</td>\n    </tr>\n    <tr>\n      <th>user_0110_abc</th>\n      <td>NaN</td>\n      <td>NaN</td>\n      <td>NaN</td>\n      <td>NaN</td>\n      <td>NaN</td>\n      <td>NaN</td>\n      <td>NaN</td>\n      <td>NaN</td>\n      <td>NaN</td>\n      <td>NaN</td>\n      <td>...</td>\n      <td>NaN</td>\n      <td>NaN</td>\n      <td>NaN</td>\n      <td>NaN</td>\n      <td>NaN</td>\n      <td>NaN</td>\n      <td>NaN</td>\n      <td>NaN</td>\n      <td>NaN</td>\n      <td>NaN</td>\n    </tr>\n    <tr>\n      <th>user_0111_abc</th>\n      <td>NaN</td>\n      <td>NaN</td>\n      <td>NaN</td>\n      <td>NaN</td>\n      <td>NaN</td>\n      <td>NaN</td>\n      <td>NaN</td>\n      <td>NaN</td>\n      <td>NaN</td>\n      <td>NaN</td>\n      <td>...</td>\n      <td>NaN</td>\n      <td>NaN</td>\n      <td>NaN</td>\n      <td>NaN</td>\n      <td>NaN</td>\n      <td>NaN</td>\n      <td>NaN</td>\n      <td>NaN</td>\n      <td>NaN</td>\n      <td>NaN</td>\n    </tr>\n    <tr>\n      <th>user_0112_abc</th>\n      <td>NaN</td>\n      <td>NaN</td>\n      <td>NaN</td>\n      <td>4.0</td>\n      <td>NaN</td>\n      <td>NaN</td>\n      <td>NaN</td>\n      <td>NaN</td>\n      <td>NaN</td>\n      <td>NaN</td>\n      <td>...</td>\n      <td>NaN</td>\n      <td>NaN</td>\n      <td>NaN</td>\n      <td>NaN</td>\n      <td>NaN</td>\n      <td>NaN</td>\n      <td>NaN</td>\n      <td>NaN</td>\n      <td>NaN</td>\n      <td>NaN</td>\n    </tr>\n    <tr>\n      <th>user_0113_abc</th>\n      <td>NaN</td>\n      <td>NaN</td>\n      <td>NaN</td>\n      <td>NaN</td>\n      <td>NaN</td>\n      <td>NaN</td>\n      <td>NaN</td>\n      <td>NaN</td>\n      <td>NaN</td>\n      <td>NaN</td>\n      <td>...</td>\n      <td>NaN</td>\n      <td>NaN</td>\n      <td>NaN</td>\n      <td>NaN</td>\n      <td>NaN</td>\n      <td>NaN</td>\n      <td>NaN</td>\n      <td>NaN</td>\n      <td>NaN</td>\n      <td>NaN</td>\n    </tr>\n  </tbody>\n</table>\n<p>15 rows × 921 columns</p>\n</div>"
     },
     "metadata": {},
     "execution_count": 101
    }
   ],
   "source": [
    "check = pd.pivot_table(Rating_avg,values='rating_x',index='username',columns='rest_id')\n",
    "check.head(15)"
   ]
  },
  {
   "cell_type": "code",
   "execution_count": 102,
   "metadata": {},
   "outputs": [
    {
     "output_type": "execute_result",
     "data": {
      "text/plain": "rest_id        74366   74385   74420   74438   74477   74495   74516   74575   \\\nusername                                                                        \nuser_0100_abc     NaN     NaN     NaN     NaN     NaN     NaN     NaN     NaN   \nuser_0101_abc     NaN     NaN     NaN     NaN     NaN     NaN     NaN     NaN   \nuser_0102_abc     NaN     NaN     NaN     NaN     NaN     NaN     NaN     NaN   \nuser_0103_abc     NaN     NaN     NaN     NaN     NaN     NaN     NaN     NaN   \nuser_0104_abc     NaN     NaN     NaN     NaN     NaN     NaN     NaN     NaN   \n\nrest_id        74594   74630   ...  201888  201905  201913  201968  202006  \\\nusername                       ...                                           \nuser_0100_abc     NaN     NaN  ...     NaN     NaN     NaN     NaN     NaN   \nuser_0101_abc     NaN     NaN  ...     NaN     NaN     NaN     NaN     NaN   \nuser_0102_abc     NaN     NaN  ...     NaN     NaN     NaN     NaN     NaN   \nuser_0103_abc     NaN     NaN  ...     NaN     NaN     NaN     NaN     NaN   \nuser_0104_abc     NaN     NaN  ...    -0.4     NaN     NaN     NaN     NaN   \n\nrest_id        202210  202669  203161  203592  203652  \nusername                                               \nuser_0100_abc     NaN     NaN     NaN     NaN     NaN  \nuser_0101_abc     NaN     NaN     NaN     NaN     NaN  \nuser_0102_abc     NaN     NaN     NaN     NaN     NaN  \nuser_0103_abc     NaN     NaN     NaN     NaN     NaN  \nuser_0104_abc     NaN     NaN     NaN     NaN     NaN  \n\n[5 rows x 921 columns]",
      "text/html": "<div>\n<style scoped>\n    .dataframe tbody tr th:only-of-type {\n        vertical-align: middle;\n    }\n\n    .dataframe tbody tr th {\n        vertical-align: top;\n    }\n\n    .dataframe thead th {\n        text-align: right;\n    }\n</style>\n<table border=\"1\" class=\"dataframe\">\n  <thead>\n    <tr style=\"text-align: right;\">\n      <th>rest_id</th>\n      <th>74366</th>\n      <th>74385</th>\n      <th>74420</th>\n      <th>74438</th>\n      <th>74477</th>\n      <th>74495</th>\n      <th>74516</th>\n      <th>74575</th>\n      <th>74594</th>\n      <th>74630</th>\n      <th>...</th>\n      <th>201888</th>\n      <th>201905</th>\n      <th>201913</th>\n      <th>201968</th>\n      <th>202006</th>\n      <th>202210</th>\n      <th>202669</th>\n      <th>203161</th>\n      <th>203592</th>\n      <th>203652</th>\n    </tr>\n    <tr>\n      <th>username</th>\n      <th></th>\n      <th></th>\n      <th></th>\n      <th></th>\n      <th></th>\n      <th></th>\n      <th></th>\n      <th></th>\n      <th></th>\n      <th></th>\n      <th></th>\n      <th></th>\n      <th></th>\n      <th></th>\n      <th></th>\n      <th></th>\n      <th></th>\n      <th></th>\n      <th></th>\n      <th></th>\n      <th></th>\n    </tr>\n  </thead>\n  <tbody>\n    <tr>\n      <th>user_0100_abc</th>\n      <td>NaN</td>\n      <td>NaN</td>\n      <td>NaN</td>\n      <td>NaN</td>\n      <td>NaN</td>\n      <td>NaN</td>\n      <td>NaN</td>\n      <td>NaN</td>\n      <td>NaN</td>\n      <td>NaN</td>\n      <td>...</td>\n      <td>NaN</td>\n      <td>NaN</td>\n      <td>NaN</td>\n      <td>NaN</td>\n      <td>NaN</td>\n      <td>NaN</td>\n      <td>NaN</td>\n      <td>NaN</td>\n      <td>NaN</td>\n      <td>NaN</td>\n    </tr>\n    <tr>\n      <th>user_0101_abc</th>\n      <td>NaN</td>\n      <td>NaN</td>\n      <td>NaN</td>\n      <td>NaN</td>\n      <td>NaN</td>\n      <td>NaN</td>\n      <td>NaN</td>\n      <td>NaN</td>\n      <td>NaN</td>\n      <td>NaN</td>\n      <td>...</td>\n      <td>NaN</td>\n      <td>NaN</td>\n      <td>NaN</td>\n      <td>NaN</td>\n      <td>NaN</td>\n      <td>NaN</td>\n      <td>NaN</td>\n      <td>NaN</td>\n      <td>NaN</td>\n      <td>NaN</td>\n    </tr>\n    <tr>\n      <th>user_0102_abc</th>\n      <td>NaN</td>\n      <td>NaN</td>\n      <td>NaN</td>\n      <td>NaN</td>\n      <td>NaN</td>\n      <td>NaN</td>\n      <td>NaN</td>\n      <td>NaN</td>\n      <td>NaN</td>\n      <td>NaN</td>\n      <td>...</td>\n      <td>NaN</td>\n      <td>NaN</td>\n      <td>NaN</td>\n      <td>NaN</td>\n      <td>NaN</td>\n      <td>NaN</td>\n      <td>NaN</td>\n      <td>NaN</td>\n      <td>NaN</td>\n      <td>NaN</td>\n    </tr>\n    <tr>\n      <th>user_0103_abc</th>\n      <td>NaN</td>\n      <td>NaN</td>\n      <td>NaN</td>\n      <td>NaN</td>\n      <td>NaN</td>\n      <td>NaN</td>\n      <td>NaN</td>\n      <td>NaN</td>\n      <td>NaN</td>\n      <td>NaN</td>\n      <td>...</td>\n      <td>NaN</td>\n      <td>NaN</td>\n      <td>NaN</td>\n      <td>NaN</td>\n      <td>NaN</td>\n      <td>NaN</td>\n      <td>NaN</td>\n      <td>NaN</td>\n      <td>NaN</td>\n      <td>NaN</td>\n    </tr>\n    <tr>\n      <th>user_0104_abc</th>\n      <td>NaN</td>\n      <td>NaN</td>\n      <td>NaN</td>\n      <td>NaN</td>\n      <td>NaN</td>\n      <td>NaN</td>\n      <td>NaN</td>\n      <td>NaN</td>\n      <td>NaN</td>\n      <td>NaN</td>\n      <td>...</td>\n      <td>-0.4</td>\n      <td>NaN</td>\n      <td>NaN</td>\n      <td>NaN</td>\n      <td>NaN</td>\n      <td>NaN</td>\n      <td>NaN</td>\n      <td>NaN</td>\n      <td>NaN</td>\n      <td>NaN</td>\n    </tr>\n  </tbody>\n</table>\n<p>5 rows × 921 columns</p>\n</div>"
     },
     "metadata": {},
     "execution_count": 102
    }
   ],
   "source": [
    "final = pd.pivot_table(Rating_avg,values='adg_rating',index='username',columns='rest_id')\n",
    "final.head()"
   ]
  },
  {
   "cell_type": "code",
   "execution_count": 103,
   "metadata": {},
   "outputs": [],
   "source": [
    "# Replacing NaN by Movie Average\n",
    "final_movie = final.fillna(final.mean(axis=0))\n",
    "\n",
    "# Replacing NaN by user Average\n",
    "final_user = final.apply(lambda row: row.fillna(row.mean()), axis=1)"
   ]
  },
  {
   "cell_type": "code",
   "execution_count": 104,
   "metadata": {},
   "outputs": [
    {
     "output_type": "execute_result",
     "data": {
      "text/plain": "rest_id        74366   74385   74420   74438   74477   74495   74516   74575   \\\nusername                                                                        \nuser_0100_abc    -1.3    0.45   0.325     0.2    -0.1    -0.2    0.25     0.8   \nuser_0101_abc    -1.3    0.45   0.325     0.2    -0.1    -0.2    0.25     0.8   \nuser_0102_abc    -1.3    0.45   0.325     0.2    -0.1    -0.2    0.25     0.8   \nuser_0103_abc    -1.3    0.45   0.325     0.2    -0.1    -0.2    0.25     0.8   \nuser_0104_abc    -1.3    0.45   0.325     0.2    -0.1    -0.2    0.25     0.8   \n\nrest_id        74594   74630   ...  201888  201905  201913  201968  202006  \\\nusername                       ...                                           \nuser_0100_abc    0.05    -1.2  ...    -0.4     0.1     0.5   -0.45    -0.5   \nuser_0101_abc    0.05    -1.2  ...    -0.4     0.1     0.5   -0.45    -0.5   \nuser_0102_abc    0.05    -1.2  ...    -0.4     0.1     0.5   -0.45    -0.5   \nuser_0103_abc    0.05    -1.2  ...    -0.4     0.1     0.5   -0.45    -0.5   \nuser_0104_abc    0.05    -1.2  ...    -0.4     0.1     0.5   -0.45    -0.5   \n\nrest_id          202210    202669  203161  203592  203652  \nusername                                                   \nuser_0100_abc -0.266667 -0.066667     0.0     0.7     0.8  \nuser_0101_abc -0.266667 -0.066667     0.0     0.7     0.8  \nuser_0102_abc -0.266667 -0.066667     0.0     0.7     0.8  \nuser_0103_abc -0.266667 -0.066667     0.0     0.7     0.8  \nuser_0104_abc -0.266667 -0.066667     0.0     0.7     0.8  \n\n[5 rows x 921 columns]",
      "text/html": "<div>\n<style scoped>\n    .dataframe tbody tr th:only-of-type {\n        vertical-align: middle;\n    }\n\n    .dataframe tbody tr th {\n        vertical-align: top;\n    }\n\n    .dataframe thead th {\n        text-align: right;\n    }\n</style>\n<table border=\"1\" class=\"dataframe\">\n  <thead>\n    <tr style=\"text-align: right;\">\n      <th>rest_id</th>\n      <th>74366</th>\n      <th>74385</th>\n      <th>74420</th>\n      <th>74438</th>\n      <th>74477</th>\n      <th>74495</th>\n      <th>74516</th>\n      <th>74575</th>\n      <th>74594</th>\n      <th>74630</th>\n      <th>...</th>\n      <th>201888</th>\n      <th>201905</th>\n      <th>201913</th>\n      <th>201968</th>\n      <th>202006</th>\n      <th>202210</th>\n      <th>202669</th>\n      <th>203161</th>\n      <th>203592</th>\n      <th>203652</th>\n    </tr>\n    <tr>\n      <th>username</th>\n      <th></th>\n      <th></th>\n      <th></th>\n      <th></th>\n      <th></th>\n      <th></th>\n      <th></th>\n      <th></th>\n      <th></th>\n      <th></th>\n      <th></th>\n      <th></th>\n      <th></th>\n      <th></th>\n      <th></th>\n      <th></th>\n      <th></th>\n      <th></th>\n      <th></th>\n      <th></th>\n      <th></th>\n    </tr>\n  </thead>\n  <tbody>\n    <tr>\n      <th>user_0100_abc</th>\n      <td>-1.3</td>\n      <td>0.45</td>\n      <td>0.325</td>\n      <td>0.2</td>\n      <td>-0.1</td>\n      <td>-0.2</td>\n      <td>0.25</td>\n      <td>0.8</td>\n      <td>0.05</td>\n      <td>-1.2</td>\n      <td>...</td>\n      <td>-0.4</td>\n      <td>0.1</td>\n      <td>0.5</td>\n      <td>-0.45</td>\n      <td>-0.5</td>\n      <td>-0.266667</td>\n      <td>-0.066667</td>\n      <td>0.0</td>\n      <td>0.7</td>\n      <td>0.8</td>\n    </tr>\n    <tr>\n      <th>user_0101_abc</th>\n      <td>-1.3</td>\n      <td>0.45</td>\n      <td>0.325</td>\n      <td>0.2</td>\n      <td>-0.1</td>\n      <td>-0.2</td>\n      <td>0.25</td>\n      <td>0.8</td>\n      <td>0.05</td>\n      <td>-1.2</td>\n      <td>...</td>\n      <td>-0.4</td>\n      <td>0.1</td>\n      <td>0.5</td>\n      <td>-0.45</td>\n      <td>-0.5</td>\n      <td>-0.266667</td>\n      <td>-0.066667</td>\n      <td>0.0</td>\n      <td>0.7</td>\n      <td>0.8</td>\n    </tr>\n    <tr>\n      <th>user_0102_abc</th>\n      <td>-1.3</td>\n      <td>0.45</td>\n      <td>0.325</td>\n      <td>0.2</td>\n      <td>-0.1</td>\n      <td>-0.2</td>\n      <td>0.25</td>\n      <td>0.8</td>\n      <td>0.05</td>\n      <td>-1.2</td>\n      <td>...</td>\n      <td>-0.4</td>\n      <td>0.1</td>\n      <td>0.5</td>\n      <td>-0.45</td>\n      <td>-0.5</td>\n      <td>-0.266667</td>\n      <td>-0.066667</td>\n      <td>0.0</td>\n      <td>0.7</td>\n      <td>0.8</td>\n    </tr>\n    <tr>\n      <th>user_0103_abc</th>\n      <td>-1.3</td>\n      <td>0.45</td>\n      <td>0.325</td>\n      <td>0.2</td>\n      <td>-0.1</td>\n      <td>-0.2</td>\n      <td>0.25</td>\n      <td>0.8</td>\n      <td>0.05</td>\n      <td>-1.2</td>\n      <td>...</td>\n      <td>-0.4</td>\n      <td>0.1</td>\n      <td>0.5</td>\n      <td>-0.45</td>\n      <td>-0.5</td>\n      <td>-0.266667</td>\n      <td>-0.066667</td>\n      <td>0.0</td>\n      <td>0.7</td>\n      <td>0.8</td>\n    </tr>\n    <tr>\n      <th>user_0104_abc</th>\n      <td>-1.3</td>\n      <td>0.45</td>\n      <td>0.325</td>\n      <td>0.2</td>\n      <td>-0.1</td>\n      <td>-0.2</td>\n      <td>0.25</td>\n      <td>0.8</td>\n      <td>0.05</td>\n      <td>-1.2</td>\n      <td>...</td>\n      <td>-0.4</td>\n      <td>0.1</td>\n      <td>0.5</td>\n      <td>-0.45</td>\n      <td>-0.5</td>\n      <td>-0.266667</td>\n      <td>-0.066667</td>\n      <td>0.0</td>\n      <td>0.7</td>\n      <td>0.8</td>\n    </tr>\n  </tbody>\n</table>\n<p>5 rows × 921 columns</p>\n</div>"
     },
     "metadata": {},
     "execution_count": 104
    }
   ],
   "source": [
    "final_movie.head()"
   ]
  },
  {
   "cell_type": "code",
   "execution_count": 105,
   "metadata": {},
   "outputs": [
    {
     "output_type": "execute_result",
     "data": {
      "text/plain": "rest_id              74366         74385         74420         74438   \\\nusername                                                                \nuser_0100_abc -1.776357e-16 -1.776357e-16 -1.776357e-16 -1.776357e-16   \nuser_0101_abc  0.000000e+00  0.000000e+00  0.000000e+00  0.000000e+00   \nuser_0102_abc -8.881784e-17 -8.881784e-17 -8.881784e-17 -8.881784e-17   \nuser_0103_abc  8.881784e-17  8.881784e-17  8.881784e-17  8.881784e-17   \nuser_0104_abc  8.881784e-17  8.881784e-17  8.881784e-17  8.881784e-17   \n\nrest_id              74477         74495         74516         74575   \\\nusername                                                                \nuser_0100_abc -1.776357e-16 -1.776357e-16 -1.776357e-16 -1.776357e-16   \nuser_0101_abc  0.000000e+00  0.000000e+00  0.000000e+00  0.000000e+00   \nuser_0102_abc -8.881784e-17 -8.881784e-17 -8.881784e-17 -8.881784e-17   \nuser_0103_abc  8.881784e-17  8.881784e-17  8.881784e-17  8.881784e-17   \nuser_0104_abc  8.881784e-17  8.881784e-17  8.881784e-17  8.881784e-17   \n\nrest_id              74594         74630   ...        201888        201905  \\\nusername                                   ...                               \nuser_0100_abc -1.776357e-16 -1.776357e-16  ... -1.776357e-16 -1.776357e-16   \nuser_0101_abc  0.000000e+00  0.000000e+00  ...  0.000000e+00  0.000000e+00   \nuser_0102_abc -8.881784e-17 -8.881784e-17  ... -8.881784e-17 -8.881784e-17   \nuser_0103_abc  8.881784e-17  8.881784e-17  ...  8.881784e-17  8.881784e-17   \nuser_0104_abc  8.881784e-17  8.881784e-17  ... -4.000000e-01  8.881784e-17   \n\nrest_id              201913        201968        202006        202210  \\\nusername                                                                \nuser_0100_abc -1.776357e-16 -1.776357e-16 -1.776357e-16 -1.776357e-16   \nuser_0101_abc  0.000000e+00  0.000000e+00  0.000000e+00  0.000000e+00   \nuser_0102_abc -8.881784e-17 -8.881784e-17 -8.881784e-17 -8.881784e-17   \nuser_0103_abc  8.881784e-17  8.881784e-17  8.881784e-17  8.881784e-17   \nuser_0104_abc  8.881784e-17  8.881784e-17  8.881784e-17  8.881784e-17   \n\nrest_id              202669        203161        203592        203652  \nusername                                                               \nuser_0100_abc -1.776357e-16 -1.776357e-16 -1.776357e-16 -1.776357e-16  \nuser_0101_abc  0.000000e+00  0.000000e+00  0.000000e+00  0.000000e+00  \nuser_0102_abc -8.881784e-17 -8.881784e-17 -8.881784e-17 -8.881784e-17  \nuser_0103_abc  8.881784e-17  8.881784e-17  8.881784e-17  8.881784e-17  \nuser_0104_abc  8.881784e-17  8.881784e-17  8.881784e-17  8.881784e-17  \n\n[5 rows x 921 columns]",
      "text/html": "<div>\n<style scoped>\n    .dataframe tbody tr th:only-of-type {\n        vertical-align: middle;\n    }\n\n    .dataframe tbody tr th {\n        vertical-align: top;\n    }\n\n    .dataframe thead th {\n        text-align: right;\n    }\n</style>\n<table border=\"1\" class=\"dataframe\">\n  <thead>\n    <tr style=\"text-align: right;\">\n      <th>rest_id</th>\n      <th>74366</th>\n      <th>74385</th>\n      <th>74420</th>\n      <th>74438</th>\n      <th>74477</th>\n      <th>74495</th>\n      <th>74516</th>\n      <th>74575</th>\n      <th>74594</th>\n      <th>74630</th>\n      <th>...</th>\n      <th>201888</th>\n      <th>201905</th>\n      <th>201913</th>\n      <th>201968</th>\n      <th>202006</th>\n      <th>202210</th>\n      <th>202669</th>\n      <th>203161</th>\n      <th>203592</th>\n      <th>203652</th>\n    </tr>\n    <tr>\n      <th>username</th>\n      <th></th>\n      <th></th>\n      <th></th>\n      <th></th>\n      <th></th>\n      <th></th>\n      <th></th>\n      <th></th>\n      <th></th>\n      <th></th>\n      <th></th>\n      <th></th>\n      <th></th>\n      <th></th>\n      <th></th>\n      <th></th>\n      <th></th>\n      <th></th>\n      <th></th>\n      <th></th>\n      <th></th>\n    </tr>\n  </thead>\n  <tbody>\n    <tr>\n      <th>user_0100_abc</th>\n      <td>-1.776357e-16</td>\n      <td>-1.776357e-16</td>\n      <td>-1.776357e-16</td>\n      <td>-1.776357e-16</td>\n      <td>-1.776357e-16</td>\n      <td>-1.776357e-16</td>\n      <td>-1.776357e-16</td>\n      <td>-1.776357e-16</td>\n      <td>-1.776357e-16</td>\n      <td>-1.776357e-16</td>\n      <td>...</td>\n      <td>-1.776357e-16</td>\n      <td>-1.776357e-16</td>\n      <td>-1.776357e-16</td>\n      <td>-1.776357e-16</td>\n      <td>-1.776357e-16</td>\n      <td>-1.776357e-16</td>\n      <td>-1.776357e-16</td>\n      <td>-1.776357e-16</td>\n      <td>-1.776357e-16</td>\n      <td>-1.776357e-16</td>\n    </tr>\n    <tr>\n      <th>user_0101_abc</th>\n      <td>0.000000e+00</td>\n      <td>0.000000e+00</td>\n      <td>0.000000e+00</td>\n      <td>0.000000e+00</td>\n      <td>0.000000e+00</td>\n      <td>0.000000e+00</td>\n      <td>0.000000e+00</td>\n      <td>0.000000e+00</td>\n      <td>0.000000e+00</td>\n      <td>0.000000e+00</td>\n      <td>...</td>\n      <td>0.000000e+00</td>\n      <td>0.000000e+00</td>\n      <td>0.000000e+00</td>\n      <td>0.000000e+00</td>\n      <td>0.000000e+00</td>\n      <td>0.000000e+00</td>\n      <td>0.000000e+00</td>\n      <td>0.000000e+00</td>\n      <td>0.000000e+00</td>\n      <td>0.000000e+00</td>\n    </tr>\n    <tr>\n      <th>user_0102_abc</th>\n      <td>-8.881784e-17</td>\n      <td>-8.881784e-17</td>\n      <td>-8.881784e-17</td>\n      <td>-8.881784e-17</td>\n      <td>-8.881784e-17</td>\n      <td>-8.881784e-17</td>\n      <td>-8.881784e-17</td>\n      <td>-8.881784e-17</td>\n      <td>-8.881784e-17</td>\n      <td>-8.881784e-17</td>\n      <td>...</td>\n      <td>-8.881784e-17</td>\n      <td>-8.881784e-17</td>\n      <td>-8.881784e-17</td>\n      <td>-8.881784e-17</td>\n      <td>-8.881784e-17</td>\n      <td>-8.881784e-17</td>\n      <td>-8.881784e-17</td>\n      <td>-8.881784e-17</td>\n      <td>-8.881784e-17</td>\n      <td>-8.881784e-17</td>\n    </tr>\n    <tr>\n      <th>user_0103_abc</th>\n      <td>8.881784e-17</td>\n      <td>8.881784e-17</td>\n      <td>8.881784e-17</td>\n      <td>8.881784e-17</td>\n      <td>8.881784e-17</td>\n      <td>8.881784e-17</td>\n      <td>8.881784e-17</td>\n      <td>8.881784e-17</td>\n      <td>8.881784e-17</td>\n      <td>8.881784e-17</td>\n      <td>...</td>\n      <td>8.881784e-17</td>\n      <td>8.881784e-17</td>\n      <td>8.881784e-17</td>\n      <td>8.881784e-17</td>\n      <td>8.881784e-17</td>\n      <td>8.881784e-17</td>\n      <td>8.881784e-17</td>\n      <td>8.881784e-17</td>\n      <td>8.881784e-17</td>\n      <td>8.881784e-17</td>\n    </tr>\n    <tr>\n      <th>user_0104_abc</th>\n      <td>8.881784e-17</td>\n      <td>8.881784e-17</td>\n      <td>8.881784e-17</td>\n      <td>8.881784e-17</td>\n      <td>8.881784e-17</td>\n      <td>8.881784e-17</td>\n      <td>8.881784e-17</td>\n      <td>8.881784e-17</td>\n      <td>8.881784e-17</td>\n      <td>8.881784e-17</td>\n      <td>...</td>\n      <td>-4.000000e-01</td>\n      <td>8.881784e-17</td>\n      <td>8.881784e-17</td>\n      <td>8.881784e-17</td>\n      <td>8.881784e-17</td>\n      <td>8.881784e-17</td>\n      <td>8.881784e-17</td>\n      <td>8.881784e-17</td>\n      <td>8.881784e-17</td>\n      <td>8.881784e-17</td>\n    </tr>\n  </tbody>\n</table>\n<p>5 rows × 921 columns</p>\n</div>"
     },
     "metadata": {},
     "execution_count": 105
    }
   ],
   "source": [
    "final_user.head()"
   ]
  },
  {
   "cell_type": "code",
   "execution_count": 106,
   "metadata": {},
   "outputs": [
    {
     "output_type": "execute_result",
     "data": {
      "text/plain": "username       user_0100_abc  user_0101_abc  user_0102_abc  user_0103_abc  \\\nusername                                                                    \nuser_0100_abc   0.000000e+00   3.984396e-34   1.598000e-30   3.888889e-02   \nuser_0101_abc   3.984396e-34   0.000000e+00  -8.095256e-34   8.095256e-34   \nuser_0102_abc   1.598000e-30  -8.095256e-34   0.000000e+00  -2.429446e-31   \nuser_0103_abc   3.888889e-02   8.095256e-34  -2.429446e-31   0.000000e+00   \nuser_0104_abc  -1.644369e-30  -3.807409e-34  -2.817070e-31   4.612037e-31   \n\nusername       user_0104_abc  user_0105_abc  user_0106_abc  user_0107_abc  \\\nusername                                                                    \nuser_0100_abc  -1.644369e-30   3.833062e-30  -1.612296e-15   2.897988e-30   \nuser_0101_abc  -3.807409e-34   8.140431e-34  -5.662559e-19  -1.816572e-35   \nuser_0102_abc  -2.817070e-31   2.035074e-30  -1.296396e-15   1.982518e-30   \nuser_0103_abc   4.612037e-31   6.882472e-02   5.981042e-16  -1.480621e-30   \nuser_0104_abc   0.000000e+00  -7.548595e-31   9.545467e-16  -1.265455e-30   \n\nusername       user_0108_abc  user_0109_abc  ...  user_091_abc  user_092_abc  \\\nusername                                     ...                               \nuser_0100_abc  -4.148855e-30  -4.894909e-30  ... -3.449393e-30 -3.888889e-02   \nuser_0101_abc  -8.140431e-34   2.361342e-33  ...  2.543580e-33 -8.095256e-34   \nuser_0102_abc  -1.079813e-30  -1.505860e-30  ... -1.699287e-30  3.887037e-31   \nuser_0103_abc   1.233006e-30   1.557185e-30  ...  1.460124e-30 -8.439936e-31   \nuser_0104_abc   1.318772e-30   6.351025e-31  ...  7.083927e-31 -8.186563e-31   \n\nusername       user_093_abc  user_094_abc  user_095_abc  user_096_abc  \\\nusername                                                                \nuser_0100_abc -4.333244e-30  6.865122e-34  1.739075e-30 -1.761380e-30   \nuser_0101_abc  2.361342e-33  0.000000e+00  3.253671e-34  0.000000e+00   \nuser_0102_abc -1.530512e-30 -5.590170e-02  9.924974e-31 -9.308865e-31   \nuser_0103_abc  1.015129e-01 -4.659378e-34 -6.382628e-31  9.281834e-31   \nuser_0104_abc  1.867698e-30 -5.279642e-34 -2.920349e-31  8.669214e-02   \n\nusername       user_097_abc  user_098_abc  user_099_abc   user_09_abc  \nusername                                                               \nuser_0100_abc  5.161880e-30 -5.371480e-30  3.846692e-30  2.039142e-30  \nuser_0101_abc  0.000000e+00  0.000000e+00  0.000000e+00  0.000000e+00  \nuser_0102_abc  3.877744e-30 -1.691705e-30  1.446502e-30  1.261995e-30  \nuser_0103_abc -3.596507e-30  1.894981e-30 -1.345437e-30 -7.658759e-31  \nuser_0104_abc -1.130535e-30  1.155102e-30 -7.973880e-31 -6.389312e-31  \n\n[5 rows x 150 columns]",
      "text/html": "<div>\n<style scoped>\n    .dataframe tbody tr th:only-of-type {\n        vertical-align: middle;\n    }\n\n    .dataframe tbody tr th {\n        vertical-align: top;\n    }\n\n    .dataframe thead th {\n        text-align: right;\n    }\n</style>\n<table border=\"1\" class=\"dataframe\">\n  <thead>\n    <tr style=\"text-align: right;\">\n      <th>username</th>\n      <th>user_0100_abc</th>\n      <th>user_0101_abc</th>\n      <th>user_0102_abc</th>\n      <th>user_0103_abc</th>\n      <th>user_0104_abc</th>\n      <th>user_0105_abc</th>\n      <th>user_0106_abc</th>\n      <th>user_0107_abc</th>\n      <th>user_0108_abc</th>\n      <th>user_0109_abc</th>\n      <th>...</th>\n      <th>user_091_abc</th>\n      <th>user_092_abc</th>\n      <th>user_093_abc</th>\n      <th>user_094_abc</th>\n      <th>user_095_abc</th>\n      <th>user_096_abc</th>\n      <th>user_097_abc</th>\n      <th>user_098_abc</th>\n      <th>user_099_abc</th>\n      <th>user_09_abc</th>\n    </tr>\n    <tr>\n      <th>username</th>\n      <th></th>\n      <th></th>\n      <th></th>\n      <th></th>\n      <th></th>\n      <th></th>\n      <th></th>\n      <th></th>\n      <th></th>\n      <th></th>\n      <th></th>\n      <th></th>\n      <th></th>\n      <th></th>\n      <th></th>\n      <th></th>\n      <th></th>\n      <th></th>\n      <th></th>\n      <th></th>\n      <th></th>\n    </tr>\n  </thead>\n  <tbody>\n    <tr>\n      <th>user_0100_abc</th>\n      <td>0.000000e+00</td>\n      <td>3.984396e-34</td>\n      <td>1.598000e-30</td>\n      <td>3.888889e-02</td>\n      <td>-1.644369e-30</td>\n      <td>3.833062e-30</td>\n      <td>-1.612296e-15</td>\n      <td>2.897988e-30</td>\n      <td>-4.148855e-30</td>\n      <td>-4.894909e-30</td>\n      <td>...</td>\n      <td>-3.449393e-30</td>\n      <td>-3.888889e-02</td>\n      <td>-4.333244e-30</td>\n      <td>6.865122e-34</td>\n      <td>1.739075e-30</td>\n      <td>-1.761380e-30</td>\n      <td>5.161880e-30</td>\n      <td>-5.371480e-30</td>\n      <td>3.846692e-30</td>\n      <td>2.039142e-30</td>\n    </tr>\n    <tr>\n      <th>user_0101_abc</th>\n      <td>3.984396e-34</td>\n      <td>0.000000e+00</td>\n      <td>-8.095256e-34</td>\n      <td>8.095256e-34</td>\n      <td>-3.807409e-34</td>\n      <td>8.140431e-34</td>\n      <td>-5.662559e-19</td>\n      <td>-1.816572e-35</td>\n      <td>-8.140431e-34</td>\n      <td>2.361342e-33</td>\n      <td>...</td>\n      <td>2.543580e-33</td>\n      <td>-8.095256e-34</td>\n      <td>2.361342e-33</td>\n      <td>0.000000e+00</td>\n      <td>3.253671e-34</td>\n      <td>0.000000e+00</td>\n      <td>0.000000e+00</td>\n      <td>0.000000e+00</td>\n      <td>0.000000e+00</td>\n      <td>0.000000e+00</td>\n    </tr>\n    <tr>\n      <th>user_0102_abc</th>\n      <td>1.598000e-30</td>\n      <td>-8.095256e-34</td>\n      <td>0.000000e+00</td>\n      <td>-2.429446e-31</td>\n      <td>-2.817070e-31</td>\n      <td>2.035074e-30</td>\n      <td>-1.296396e-15</td>\n      <td>1.982518e-30</td>\n      <td>-1.079813e-30</td>\n      <td>-1.505860e-30</td>\n      <td>...</td>\n      <td>-1.699287e-30</td>\n      <td>3.887037e-31</td>\n      <td>-1.530512e-30</td>\n      <td>-5.590170e-02</td>\n      <td>9.924974e-31</td>\n      <td>-9.308865e-31</td>\n      <td>3.877744e-30</td>\n      <td>-1.691705e-30</td>\n      <td>1.446502e-30</td>\n      <td>1.261995e-30</td>\n    </tr>\n    <tr>\n      <th>user_0103_abc</th>\n      <td>3.888889e-02</td>\n      <td>8.095256e-34</td>\n      <td>-2.429446e-31</td>\n      <td>0.000000e+00</td>\n      <td>4.612037e-31</td>\n      <td>6.882472e-02</td>\n      <td>5.981042e-16</td>\n      <td>-1.480621e-30</td>\n      <td>1.233006e-30</td>\n      <td>1.557185e-30</td>\n      <td>...</td>\n      <td>1.460124e-30</td>\n      <td>-8.439936e-31</td>\n      <td>1.015129e-01</td>\n      <td>-4.659378e-34</td>\n      <td>-6.382628e-31</td>\n      <td>9.281834e-31</td>\n      <td>-3.596507e-30</td>\n      <td>1.894981e-30</td>\n      <td>-1.345437e-30</td>\n      <td>-7.658759e-31</td>\n    </tr>\n    <tr>\n      <th>user_0104_abc</th>\n      <td>-1.644369e-30</td>\n      <td>-3.807409e-34</td>\n      <td>-2.817070e-31</td>\n      <td>4.612037e-31</td>\n      <td>0.000000e+00</td>\n      <td>-7.548595e-31</td>\n      <td>9.545467e-16</td>\n      <td>-1.265455e-30</td>\n      <td>1.318772e-30</td>\n      <td>6.351025e-31</td>\n      <td>...</td>\n      <td>7.083927e-31</td>\n      <td>-8.186563e-31</td>\n      <td>1.867698e-30</td>\n      <td>-5.279642e-34</td>\n      <td>-2.920349e-31</td>\n      <td>8.669214e-02</td>\n      <td>-1.130535e-30</td>\n      <td>1.155102e-30</td>\n      <td>-7.973880e-31</td>\n      <td>-6.389312e-31</td>\n    </tr>\n  </tbody>\n</table>\n<p>5 rows × 150 columns</p>\n</div>"
     },
     "metadata": {},
     "execution_count": 106
    }
   ],
   "source": [
    "b = cosine_similarity(final_user)\n",
    "np.fill_diagonal(b, 0 )\n",
    "similarity_with_user = pd.DataFrame(b,index=final_user.index)\n",
    "similarity_with_user.columns=final_user.index\n",
    "similarity_with_user.head()"
   ]
  },
  {
   "cell_type": "code",
   "execution_count": 107,
   "metadata": {
    "collapsed": true,
    "jupyter": {
     "outputs_hidden": true
    }
   },
   "outputs": [
    {
     "output_type": "execute_result",
     "data": {
      "text/plain": "username       user_0100_abc  user_0101_abc  user_0102_abc  user_0103_abc  \\\nusername                                                                    \nuser_0100_abc       0.000000       0.995481       0.995689       0.995509   \nuser_0101_abc       0.995481       0.000000       0.997458       0.997327   \nuser_0102_abc       0.995689       0.997458       0.000000       0.997529   \nuser_0103_abc       0.995509       0.997327       0.997529       0.000000   \nuser_0104_abc       0.994744       0.996510       0.996709       0.996579   \n\nusername       user_0104_abc  user_0105_abc  user_0106_abc  user_0107_abc  \\\nusername                                                                    \nuser_0100_abc       0.994744       0.993499       0.993841       0.996135   \nuser_0101_abc       0.996510       0.995266       0.995606       0.997904   \nuser_0102_abc       0.996709       0.995471       0.995806       0.998103   \nuser_0103_abc       0.996579       0.995358       0.995677       0.997974   \nuser_0104_abc       0.000000       0.994525       0.994857       0.997152   \n\nusername       user_0108_abc  user_0109_abc  ...  user_091_abc  user_092_abc  \\\nusername                                     ...                               \nuser_0100_abc       0.996143       0.993616  ...      0.994008      0.991905   \nuser_0101_abc       0.997912       0.995380  ...      0.995775      0.994320   \nuser_0102_abc       0.998113       0.995580  ...      0.995977      0.994523   \nuser_0103_abc       0.997983       0.995450  ...      0.995847      0.994393   \nuser_0104_abc       0.997163       0.994631  ...      0.995030      0.993577   \n\nusername       user_093_abc  user_094_abc  user_095_abc  user_096_abc  \\\nusername                                                                \nuser_0100_abc      0.994800      0.993746      0.993365      0.995092   \nuser_0101_abc      0.996569      0.995514      0.995132      0.996860   \nuser_0102_abc      0.996773      0.994838      0.995337      0.997063   \nuser_0103_abc      0.996549      0.995589      0.995207      0.996933   \nuser_0104_abc      0.995825      0.994773      0.994391      0.995981   \n\nusername       user_097_abc  user_098_abc  user_099_abc  user_09_abc  \nusername                                                              \nuser_0100_abc      0.993095      0.994241      0.992112     0.994474  \nuser_0101_abc      0.994855      0.996006      0.993873     0.996241  \nuser_0102_abc      0.995049      0.996206      0.994070     0.996443  \nuser_0103_abc      0.994920      0.996076      0.993941     0.996313  \nuser_0104_abc      0.994097      0.995257      0.993122     0.995495  \n\n[5 rows x 150 columns]",
      "text/html": "<div>\n<style scoped>\n    .dataframe tbody tr th:only-of-type {\n        vertical-align: middle;\n    }\n\n    .dataframe tbody tr th {\n        vertical-align: top;\n    }\n\n    .dataframe thead th {\n        text-align: right;\n    }\n</style>\n<table border=\"1\" class=\"dataframe\">\n  <thead>\n    <tr style=\"text-align: right;\">\n      <th>username</th>\n      <th>user_0100_abc</th>\n      <th>user_0101_abc</th>\n      <th>user_0102_abc</th>\n      <th>user_0103_abc</th>\n      <th>user_0104_abc</th>\n      <th>user_0105_abc</th>\n      <th>user_0106_abc</th>\n      <th>user_0107_abc</th>\n      <th>user_0108_abc</th>\n      <th>user_0109_abc</th>\n      <th>...</th>\n      <th>user_091_abc</th>\n      <th>user_092_abc</th>\n      <th>user_093_abc</th>\n      <th>user_094_abc</th>\n      <th>user_095_abc</th>\n      <th>user_096_abc</th>\n      <th>user_097_abc</th>\n      <th>user_098_abc</th>\n      <th>user_099_abc</th>\n      <th>user_09_abc</th>\n    </tr>\n    <tr>\n      <th>username</th>\n      <th></th>\n      <th></th>\n      <th></th>\n      <th></th>\n      <th></th>\n      <th></th>\n      <th></th>\n      <th></th>\n      <th></th>\n      <th></th>\n      <th></th>\n      <th></th>\n      <th></th>\n      <th></th>\n      <th></th>\n      <th></th>\n      <th></th>\n      <th></th>\n      <th></th>\n      <th></th>\n      <th></th>\n    </tr>\n  </thead>\n  <tbody>\n    <tr>\n      <th>user_0100_abc</th>\n      <td>0.000000</td>\n      <td>0.995481</td>\n      <td>0.995689</td>\n      <td>0.995509</td>\n      <td>0.994744</td>\n      <td>0.993499</td>\n      <td>0.993841</td>\n      <td>0.996135</td>\n      <td>0.996143</td>\n      <td>0.993616</td>\n      <td>...</td>\n      <td>0.994008</td>\n      <td>0.991905</td>\n      <td>0.994800</td>\n      <td>0.993746</td>\n      <td>0.993365</td>\n      <td>0.995092</td>\n      <td>0.993095</td>\n      <td>0.994241</td>\n      <td>0.992112</td>\n      <td>0.994474</td>\n    </tr>\n    <tr>\n      <th>user_0101_abc</th>\n      <td>0.995481</td>\n      <td>0.000000</td>\n      <td>0.997458</td>\n      <td>0.997327</td>\n      <td>0.996510</td>\n      <td>0.995266</td>\n      <td>0.995606</td>\n      <td>0.997904</td>\n      <td>0.997912</td>\n      <td>0.995380</td>\n      <td>...</td>\n      <td>0.995775</td>\n      <td>0.994320</td>\n      <td>0.996569</td>\n      <td>0.995514</td>\n      <td>0.995132</td>\n      <td>0.996860</td>\n      <td>0.994855</td>\n      <td>0.996006</td>\n      <td>0.993873</td>\n      <td>0.996241</td>\n    </tr>\n    <tr>\n      <th>user_0102_abc</th>\n      <td>0.995689</td>\n      <td>0.997458</td>\n      <td>0.000000</td>\n      <td>0.997529</td>\n      <td>0.996709</td>\n      <td>0.995471</td>\n      <td>0.995806</td>\n      <td>0.998103</td>\n      <td>0.998113</td>\n      <td>0.995580</td>\n      <td>...</td>\n      <td>0.995977</td>\n      <td>0.994523</td>\n      <td>0.996773</td>\n      <td>0.994838</td>\n      <td>0.995337</td>\n      <td>0.997063</td>\n      <td>0.995049</td>\n      <td>0.996206</td>\n      <td>0.994070</td>\n      <td>0.996443</td>\n    </tr>\n    <tr>\n      <th>user_0103_abc</th>\n      <td>0.995509</td>\n      <td>0.997327</td>\n      <td>0.997529</td>\n      <td>0.000000</td>\n      <td>0.996579</td>\n      <td>0.995358</td>\n      <td>0.995677</td>\n      <td>0.997974</td>\n      <td>0.997983</td>\n      <td>0.995450</td>\n      <td>...</td>\n      <td>0.995847</td>\n      <td>0.994393</td>\n      <td>0.996549</td>\n      <td>0.995589</td>\n      <td>0.995207</td>\n      <td>0.996933</td>\n      <td>0.994920</td>\n      <td>0.996076</td>\n      <td>0.993941</td>\n      <td>0.996313</td>\n    </tr>\n    <tr>\n      <th>user_0104_abc</th>\n      <td>0.994744</td>\n      <td>0.996510</td>\n      <td>0.996709</td>\n      <td>0.996579</td>\n      <td>0.000000</td>\n      <td>0.994525</td>\n      <td>0.994857</td>\n      <td>0.997152</td>\n      <td>0.997163</td>\n      <td>0.994631</td>\n      <td>...</td>\n      <td>0.995030</td>\n      <td>0.993577</td>\n      <td>0.995825</td>\n      <td>0.994773</td>\n      <td>0.994391</td>\n      <td>0.995981</td>\n      <td>0.994097</td>\n      <td>0.995257</td>\n      <td>0.993122</td>\n      <td>0.995495</td>\n    </tr>\n  </tbody>\n</table>\n<p>5 rows × 150 columns</p>\n</div>"
     },
     "metadata": {},
     "execution_count": 107
    }
   ],
   "source": [
    "# user similarity on replacing NAN by item(movie) avg\n",
    "cosine = cosine_similarity(final_movie)\n",
    "np.fill_diagonal(cosine, 0 )\n",
    "similarity_with_movie = pd.DataFrame(cosine,index=final_movie.index)\n",
    "similarity_with_movie.columns=final_user.index\n",
    "similarity_with_movie.head()"
   ]
  },
  {
   "cell_type": "code",
   "execution_count": 108,
   "metadata": {},
   "outputs": [],
   "source": [
    "def find_n_neighbours(df,n):\n",
    "    order = np.argsort(df.values, axis=1)[:, :n]\n",
    "    df = df.apply(lambda x: pd.Series(x.sort_values(ascending=False)\n",
    "           .iloc[:n].index, \n",
    "          index=['top{}'.format(i) for i in range(1, n+1)]), axis=1)\n",
    "    return df"
   ]
  },
  {
   "cell_type": "code",
   "execution_count": 109,
   "metadata": {},
   "outputs": [
    {
     "output_type": "execute_result",
     "data": {
      "text/plain": "                        top1          top2           top3           top4  \\\nusername                                                                   \nuser_0100_abc   user_045_abc  user_062_abc   user_058_abc   user_064_abc   \nuser_0101_abc  user_0150_abc  user_045_abc  user_0130_abc   user_068_abc   \nuser_0102_abc  user_0144_abc   user_07_abc   user_028_abc  user_0116_abc   \nuser_0103_abc   user_077_abc  user_059_abc   user_055_abc   user_072_abc   \nuser_0104_abc  user_0145_abc  user_096_abc   user_021_abc   user_076_abc   \n\n                        top5           top6           top7           top8  \\\nusername                                                                    \nuser_0100_abc   user_035_abc   user_044_abc  user_0103_abc  user_0147_abc   \nuser_0101_abc  user_0147_abc  user_0119_abc   user_091_abc   user_079_abc   \nuser_0102_abc   user_056_abc   user_085_abc    user_05_abc   user_068_abc   \nuser_0103_abc   user_093_abc   user_041_abc  user_0105_abc  user_0141_abc   \nuser_0104_abc  user_0106_abc  user_0118_abc  user_0129_abc   user_093_abc   \n\n                        top9          top10  ...          top21  \\\nusername                                     ...                  \nuser_0100_abc  user_0123_abc   user_065_abc  ...   user_025_abc   \nuser_0101_abc   user_047_abc   user_010_abc  ...   user_044_abc   \nuser_0102_abc  user_0147_abc  user_0130_abc  ...  user_0134_abc   \nuser_0103_abc    user_04_abc   user_035_abc  ...   user_010_abc   \nuser_0104_abc    user_07_abc   user_079_abc  ...  user_0143_abc   \n\n                       top22          top23          top24          top25  \\\nusername                                                                    \nuser_0100_abc    user_04_abc   user_024_abc  user_0115_abc  user_0114_abc   \nuser_0101_abc   user_018_abc  user_0134_abc   user_050_abc  user_0127_abc   \nuser_0102_abc  user_0123_abc  user_0138_abc   user_099_abc   user_037_abc   \nuser_0103_abc   user_033_abc    user_07_abc   user_040_abc  user_0131_abc   \nuser_0104_abc   user_010_abc   user_077_abc   user_031_abc   user_018_abc   \n\n                       top26          top27          top28         top29  \\\nusername                                                                   \nuser_0100_abc  user_0146_abc  user_0116_abc   user_067_abc  user_085_abc   \nuser_0101_abc  user_0131_abc  user_0116_abc  user_0105_abc  user_061_abc   \nuser_0102_abc   user_027_abc   user_058_abc  user_0121_abc  user_022_abc   \nuser_0103_abc  user_0119_abc    user_08_abc  user_0109_abc  user_091_abc   \nuser_0104_abc  user_0133_abc   user_070_abc   user_040_abc  user_091_abc   \n\n                       top30  \nusername                      \nuser_0100_abc   user_099_abc  \nuser_0101_abc  user_0146_abc  \nuser_0102_abc  user_0114_abc  \nuser_0103_abc   user_076_abc  \nuser_0104_abc  user_0139_abc  \n\n[5 rows x 30 columns]",
      "text/html": "<div>\n<style scoped>\n    .dataframe tbody tr th:only-of-type {\n        vertical-align: middle;\n    }\n\n    .dataframe tbody tr th {\n        vertical-align: top;\n    }\n\n    .dataframe thead th {\n        text-align: right;\n    }\n</style>\n<table border=\"1\" class=\"dataframe\">\n  <thead>\n    <tr style=\"text-align: right;\">\n      <th></th>\n      <th>top1</th>\n      <th>top2</th>\n      <th>top3</th>\n      <th>top4</th>\n      <th>top5</th>\n      <th>top6</th>\n      <th>top7</th>\n      <th>top8</th>\n      <th>top9</th>\n      <th>top10</th>\n      <th>...</th>\n      <th>top21</th>\n      <th>top22</th>\n      <th>top23</th>\n      <th>top24</th>\n      <th>top25</th>\n      <th>top26</th>\n      <th>top27</th>\n      <th>top28</th>\n      <th>top29</th>\n      <th>top30</th>\n    </tr>\n    <tr>\n      <th>username</th>\n      <th></th>\n      <th></th>\n      <th></th>\n      <th></th>\n      <th></th>\n      <th></th>\n      <th></th>\n      <th></th>\n      <th></th>\n      <th></th>\n      <th></th>\n      <th></th>\n      <th></th>\n      <th></th>\n      <th></th>\n      <th></th>\n      <th></th>\n      <th></th>\n      <th></th>\n      <th></th>\n      <th></th>\n    </tr>\n  </thead>\n  <tbody>\n    <tr>\n      <th>user_0100_abc</th>\n      <td>user_045_abc</td>\n      <td>user_062_abc</td>\n      <td>user_058_abc</td>\n      <td>user_064_abc</td>\n      <td>user_035_abc</td>\n      <td>user_044_abc</td>\n      <td>user_0103_abc</td>\n      <td>user_0147_abc</td>\n      <td>user_0123_abc</td>\n      <td>user_065_abc</td>\n      <td>...</td>\n      <td>user_025_abc</td>\n      <td>user_04_abc</td>\n      <td>user_024_abc</td>\n      <td>user_0115_abc</td>\n      <td>user_0114_abc</td>\n      <td>user_0146_abc</td>\n      <td>user_0116_abc</td>\n      <td>user_067_abc</td>\n      <td>user_085_abc</td>\n      <td>user_099_abc</td>\n    </tr>\n    <tr>\n      <th>user_0101_abc</th>\n      <td>user_0150_abc</td>\n      <td>user_045_abc</td>\n      <td>user_0130_abc</td>\n      <td>user_068_abc</td>\n      <td>user_0147_abc</td>\n      <td>user_0119_abc</td>\n      <td>user_091_abc</td>\n      <td>user_079_abc</td>\n      <td>user_047_abc</td>\n      <td>user_010_abc</td>\n      <td>...</td>\n      <td>user_044_abc</td>\n      <td>user_018_abc</td>\n      <td>user_0134_abc</td>\n      <td>user_050_abc</td>\n      <td>user_0127_abc</td>\n      <td>user_0131_abc</td>\n      <td>user_0116_abc</td>\n      <td>user_0105_abc</td>\n      <td>user_061_abc</td>\n      <td>user_0146_abc</td>\n    </tr>\n    <tr>\n      <th>user_0102_abc</th>\n      <td>user_0144_abc</td>\n      <td>user_07_abc</td>\n      <td>user_028_abc</td>\n      <td>user_0116_abc</td>\n      <td>user_056_abc</td>\n      <td>user_085_abc</td>\n      <td>user_05_abc</td>\n      <td>user_068_abc</td>\n      <td>user_0147_abc</td>\n      <td>user_0130_abc</td>\n      <td>...</td>\n      <td>user_0134_abc</td>\n      <td>user_0123_abc</td>\n      <td>user_0138_abc</td>\n      <td>user_099_abc</td>\n      <td>user_037_abc</td>\n      <td>user_027_abc</td>\n      <td>user_058_abc</td>\n      <td>user_0121_abc</td>\n      <td>user_022_abc</td>\n      <td>user_0114_abc</td>\n    </tr>\n    <tr>\n      <th>user_0103_abc</th>\n      <td>user_077_abc</td>\n      <td>user_059_abc</td>\n      <td>user_055_abc</td>\n      <td>user_072_abc</td>\n      <td>user_093_abc</td>\n      <td>user_041_abc</td>\n      <td>user_0105_abc</td>\n      <td>user_0141_abc</td>\n      <td>user_04_abc</td>\n      <td>user_035_abc</td>\n      <td>...</td>\n      <td>user_010_abc</td>\n      <td>user_033_abc</td>\n      <td>user_07_abc</td>\n      <td>user_040_abc</td>\n      <td>user_0131_abc</td>\n      <td>user_0119_abc</td>\n      <td>user_08_abc</td>\n      <td>user_0109_abc</td>\n      <td>user_091_abc</td>\n      <td>user_076_abc</td>\n    </tr>\n    <tr>\n      <th>user_0104_abc</th>\n      <td>user_0145_abc</td>\n      <td>user_096_abc</td>\n      <td>user_021_abc</td>\n      <td>user_076_abc</td>\n      <td>user_0106_abc</td>\n      <td>user_0118_abc</td>\n      <td>user_0129_abc</td>\n      <td>user_093_abc</td>\n      <td>user_07_abc</td>\n      <td>user_079_abc</td>\n      <td>...</td>\n      <td>user_0143_abc</td>\n      <td>user_010_abc</td>\n      <td>user_077_abc</td>\n      <td>user_031_abc</td>\n      <td>user_018_abc</td>\n      <td>user_0133_abc</td>\n      <td>user_070_abc</td>\n      <td>user_040_abc</td>\n      <td>user_091_abc</td>\n      <td>user_0139_abc</td>\n    </tr>\n  </tbody>\n</table>\n<p>5 rows × 30 columns</p>\n</div>"
     },
     "metadata": {},
     "execution_count": 109
    }
   ],
   "source": [
    "# top 30 neighbours for each user\n",
    "sim_user_30_u = find_n_neighbours(similarity_with_user,30)\n",
    "sim_user_30_u.head()"
   ]
  },
  {
   "cell_type": "code",
   "execution_count": 110,
   "metadata": {
    "collapsed": true,
    "jupyter": {
     "outputs_hidden": true
    }
   },
   "outputs": [
    {
     "output_type": "execute_result",
     "data": {
      "text/plain": "                        top1           top2           top3           top4  \\\nusername                                                                    \nuser_0100_abc   user_058_abc  user_0111_abc   user_037_abc  user_0124_abc   \nuser_0101_abc  user_0111_abc  user_0129_abc   user_037_abc  user_0124_abc   \nuser_0102_abc  user_0111_abc  user_0129_abc   user_037_abc  user_0124_abc   \nuser_0103_abc   user_059_abc  user_0111_abc  user_0129_abc   user_037_abc   \nuser_0104_abc  user_0111_abc  user_0129_abc   user_037_abc  user_0124_abc   \n\n                        top5           top6           top7           top8  \\\nusername                                                                    \nuser_0100_abc  user_0126_abc  user_0129_abc  user_0116_abc   user_057_abc   \nuser_0101_abc  user_0126_abc  user_0116_abc   user_058_abc   user_057_abc   \nuser_0102_abc  user_0126_abc   user_058_abc   user_057_abc  user_0113_abc   \nuser_0103_abc  user_0124_abc  user_0126_abc  user_0116_abc   user_058_abc   \nuser_0104_abc  user_0126_abc  user_0116_abc   user_058_abc   user_057_abc   \n\n                        top9          top10  ...          top21         top22  \\\nusername                                     ...                                \nuser_0100_abc  user_0113_abc   user_017_abc  ...    user_04_abc  user_086_abc   \nuser_0101_abc  user_0113_abc   user_017_abc  ...   user_065_abc  user_086_abc   \nuser_0102_abc  user_0116_abc   user_017_abc  ...    user_04_abc  user_065_abc   \nuser_0103_abc   user_057_abc  user_0113_abc  ...  user_0150_abc  user_034_abc   \nuser_0104_abc  user_0113_abc   user_017_abc  ...    user_04_abc  user_065_abc   \n\n                      top23          top24          top25          top26  \\\nusername                                                                   \nuser_0100_abc  user_059_abc  user_0112_abc  user_0123_abc   user_065_abc   \nuser_0101_abc  user_059_abc  user_0112_abc  user_0123_abc   user_088_abc   \nuser_0102_abc  user_075_abc   user_059_abc   user_086_abc  user_0112_abc   \nuser_0103_abc  user_065_abc   user_075_abc   user_086_abc  user_0112_abc   \nuser_0104_abc  user_075_abc   user_059_abc   user_086_abc  user_0112_abc   \n\n                       top27          top28          top29          top30  \nusername                                                                   \nuser_0100_abc   user_088_abc   user_036_abc  user_0102_abc   user_075_abc  \nuser_0101_abc   user_036_abc  user_0102_abc  user_0150_abc   user_062_abc  \nuser_0102_abc  user_0123_abc   user_088_abc   user_036_abc   user_062_abc  \nuser_0103_abc  user_0123_abc   user_088_abc   user_036_abc  user_0102_abc  \nuser_0104_abc  user_0123_abc   user_088_abc   user_036_abc  user_0102_abc  \n\n[5 rows x 30 columns]",
      "text/html": "<div>\n<style scoped>\n    .dataframe tbody tr th:only-of-type {\n        vertical-align: middle;\n    }\n\n    .dataframe tbody tr th {\n        vertical-align: top;\n    }\n\n    .dataframe thead th {\n        text-align: right;\n    }\n</style>\n<table border=\"1\" class=\"dataframe\">\n  <thead>\n    <tr style=\"text-align: right;\">\n      <th></th>\n      <th>top1</th>\n      <th>top2</th>\n      <th>top3</th>\n      <th>top4</th>\n      <th>top5</th>\n      <th>top6</th>\n      <th>top7</th>\n      <th>top8</th>\n      <th>top9</th>\n      <th>top10</th>\n      <th>...</th>\n      <th>top21</th>\n      <th>top22</th>\n      <th>top23</th>\n      <th>top24</th>\n      <th>top25</th>\n      <th>top26</th>\n      <th>top27</th>\n      <th>top28</th>\n      <th>top29</th>\n      <th>top30</th>\n    </tr>\n    <tr>\n      <th>username</th>\n      <th></th>\n      <th></th>\n      <th></th>\n      <th></th>\n      <th></th>\n      <th></th>\n      <th></th>\n      <th></th>\n      <th></th>\n      <th></th>\n      <th></th>\n      <th></th>\n      <th></th>\n      <th></th>\n      <th></th>\n      <th></th>\n      <th></th>\n      <th></th>\n      <th></th>\n      <th></th>\n      <th></th>\n    </tr>\n  </thead>\n  <tbody>\n    <tr>\n      <th>user_0100_abc</th>\n      <td>user_058_abc</td>\n      <td>user_0111_abc</td>\n      <td>user_037_abc</td>\n      <td>user_0124_abc</td>\n      <td>user_0126_abc</td>\n      <td>user_0129_abc</td>\n      <td>user_0116_abc</td>\n      <td>user_057_abc</td>\n      <td>user_0113_abc</td>\n      <td>user_017_abc</td>\n      <td>...</td>\n      <td>user_04_abc</td>\n      <td>user_086_abc</td>\n      <td>user_059_abc</td>\n      <td>user_0112_abc</td>\n      <td>user_0123_abc</td>\n      <td>user_065_abc</td>\n      <td>user_088_abc</td>\n      <td>user_036_abc</td>\n      <td>user_0102_abc</td>\n      <td>user_075_abc</td>\n    </tr>\n    <tr>\n      <th>user_0101_abc</th>\n      <td>user_0111_abc</td>\n      <td>user_0129_abc</td>\n      <td>user_037_abc</td>\n      <td>user_0124_abc</td>\n      <td>user_0126_abc</td>\n      <td>user_0116_abc</td>\n      <td>user_058_abc</td>\n      <td>user_057_abc</td>\n      <td>user_0113_abc</td>\n      <td>user_017_abc</td>\n      <td>...</td>\n      <td>user_065_abc</td>\n      <td>user_086_abc</td>\n      <td>user_059_abc</td>\n      <td>user_0112_abc</td>\n      <td>user_0123_abc</td>\n      <td>user_088_abc</td>\n      <td>user_036_abc</td>\n      <td>user_0102_abc</td>\n      <td>user_0150_abc</td>\n      <td>user_062_abc</td>\n    </tr>\n    <tr>\n      <th>user_0102_abc</th>\n      <td>user_0111_abc</td>\n      <td>user_0129_abc</td>\n      <td>user_037_abc</td>\n      <td>user_0124_abc</td>\n      <td>user_0126_abc</td>\n      <td>user_058_abc</td>\n      <td>user_057_abc</td>\n      <td>user_0113_abc</td>\n      <td>user_0116_abc</td>\n      <td>user_017_abc</td>\n      <td>...</td>\n      <td>user_04_abc</td>\n      <td>user_065_abc</td>\n      <td>user_075_abc</td>\n      <td>user_059_abc</td>\n      <td>user_086_abc</td>\n      <td>user_0112_abc</td>\n      <td>user_0123_abc</td>\n      <td>user_088_abc</td>\n      <td>user_036_abc</td>\n      <td>user_062_abc</td>\n    </tr>\n    <tr>\n      <th>user_0103_abc</th>\n      <td>user_059_abc</td>\n      <td>user_0111_abc</td>\n      <td>user_0129_abc</td>\n      <td>user_037_abc</td>\n      <td>user_0124_abc</td>\n      <td>user_0126_abc</td>\n      <td>user_0116_abc</td>\n      <td>user_058_abc</td>\n      <td>user_057_abc</td>\n      <td>user_0113_abc</td>\n      <td>...</td>\n      <td>user_0150_abc</td>\n      <td>user_034_abc</td>\n      <td>user_065_abc</td>\n      <td>user_075_abc</td>\n      <td>user_086_abc</td>\n      <td>user_0112_abc</td>\n      <td>user_0123_abc</td>\n      <td>user_088_abc</td>\n      <td>user_036_abc</td>\n      <td>user_0102_abc</td>\n    </tr>\n    <tr>\n      <th>user_0104_abc</th>\n      <td>user_0111_abc</td>\n      <td>user_0129_abc</td>\n      <td>user_037_abc</td>\n      <td>user_0124_abc</td>\n      <td>user_0126_abc</td>\n      <td>user_0116_abc</td>\n      <td>user_058_abc</td>\n      <td>user_057_abc</td>\n      <td>user_0113_abc</td>\n      <td>user_017_abc</td>\n      <td>...</td>\n      <td>user_04_abc</td>\n      <td>user_065_abc</td>\n      <td>user_075_abc</td>\n      <td>user_059_abc</td>\n      <td>user_086_abc</td>\n      <td>user_0112_abc</td>\n      <td>user_0123_abc</td>\n      <td>user_088_abc</td>\n      <td>user_036_abc</td>\n      <td>user_0102_abc</td>\n    </tr>\n  </tbody>\n</table>\n<p>5 rows × 30 columns</p>\n</div>"
     },
     "metadata": {},
     "execution_count": 110
    }
   ],
   "source": [
    "# top 30 neighbours for each user\n",
    "sim_user_30_m = find_n_neighbours(similarity_with_movie,30)\n",
    "sim_user_30_m.head()"
   ]
  },
  {
   "cell_type": "code",
   "execution_count": 111,
   "metadata": {},
   "outputs": [],
   "source": [
    "def get_user_similar_movies( user1, user2 ):\n",
    "    common_movies = Rating_avg[Rating_avg.username == user1].merge(\n",
    "    Rating_avg[Rating_avg.username == user2],\n",
    "    on = \"rest_id\",\n",
    "    how = \"inner\" )\n",
    "    common_movies.info()\n",
    "    return common_movies.merge( hotel, on = 'rest_id' )"
   ]
  },
  {
   "cell_type": "code",
   "execution_count": 112,
   "metadata": {},
   "outputs": [],
   "source": [
    "def User_item_score(user,item):\n",
    "    a = sim_user_30_m[sim_user_30_m.index==user].values\n",
    "    b = a.squeeze().tolist()\n",
    "    c = final_movie.loc[:,item]\n",
    "    d = c[c.index.isin(b)]\n",
    "    f = d[d.notnull()]\n",
    "    avg_user = Mean.loc[Mean['username'] == user,'rating'].values[0]\n",
    "    index = f.index.values.squeeze().tolist()\n",
    "    corr = similarity_with_movie.loc[user,index]\n",
    "    fin = pd.concat([f, corr], axis=1)\n",
    "    fin.columns = ['adg_score','correlation']\n",
    "    fin['score']=fin.apply(lambda x:x['adg_score'] * x['correlation'],axis=1)\n",
    "    nume = fin['score'].sum()\n",
    "    deno = fin['correlation'].sum()\n",
    "    final_score = avg_user + (nume/deno)\n",
    "    return final_score"
   ]
  },
  {
   "cell_type": "code",
   "execution_count": 113,
   "metadata": {},
   "outputs": [
    {
     "output_type": "stream",
     "name": "stdout",
     "text": "score (u,i) is 3.8483332705375664\n"
    }
   ],
   "source": [
    "score = User_item_score('user_018_abc',74385)\n",
    "print(\"score (u,i) is\",score)"
   ]
  },
  {
   "cell_type": "code",
   "execution_count": 114,
   "metadata": {},
   "outputs": [],
   "source": [
    "Rating_avg = Rating_avg.astype({\"rest_id\": str})\n",
    "Movie_user = Rating_avg.groupby(by = 'username')['rest_id'].apply(lambda x:','.join(x))"
   ]
  },
  {
   "cell_type": "code",
   "execution_count": null,
   "metadata": {},
   "outputs": [],
   "source": []
  },
  {
   "cell_type": "code",
   "execution_count": 125,
   "metadata": {},
   "outputs": [],
   "source": [
    "def User_item_score1(user):\n",
    "    Movie_seen_by_user = check.columns[check[check.index==user].notna().any()].tolist()\n",
    "    a = sim_user_30_m[sim_user_30_m.index==user].values\n",
    "    b = a.squeeze().tolist()\n",
    "    d = Movie_user[Movie_user.index.isin(b)]\n",
    "    l = ','.join(d.values)\n",
    "    Movie_seen_by_similar_users = l.split(',')\n",
    "    Movies_under_consideration = list(set(Movie_seen_by_similar_users)-set(list(map(str, Movie_seen_by_user))))\n",
    "    Movies_under_consideration = list(map(int, Movies_under_consideration))\n",
    "    score = []\n",
    "    for item in Movies_under_consideration:\n",
    "        c = final_movie.loc[:,item]\n",
    "        d = c[c.index.isin(b)]\n",
    "        f = d[d.notnull()]\n",
    "        avg_user = Mean.loc[Mean['username'] == user,'rating'].values[0]\n",
    "        index = f.index.values.squeeze().tolist()\n",
    "        corr = similarity_with_movie.loc[user,index]\n",
    "        fin = pd.concat([f, corr], axis=1)\n",
    "        fin.columns = ['adg_score','correlation']\n",
    "        fin['score']=fin.apply(lambda x:x['adg_score'] * x['correlation'],axis=1)\n",
    "        nume = fin['score'].sum()\n",
    "        deno = fin['correlation'].sum()\n",
    "        final_score = avg_user + (nume/deno)\n",
    "        score.append(final_score)\n",
    "    data = pd.DataFrame({'REST_ID':Movies_under_consideration,'score':score})\n",
    "    top_5_recommendation = data.sort_values(by='score',ascending=False).head(5)\n",
    "    \n",
    "    top_5_recommendation.columns=['rest_id','score']\n",
    "    Movie_Name = top_5_recommendation.merge(hotel, how='inner', on='rest_id')\n",
    "    Movie_Names = Movie_Name.name.values.tolist()\n",
    "    return Movie_Names"
   ]
  },
  {
   "cell_type": "code",
   "execution_count": 126,
   "metadata": {},
   "outputs": [
    {
     "output_type": "stream",
     "name": "stdout",
     "text": "\nThe Recommendations for User Id : user_018_abc\n   \nAl Baik Corner\nSunny Veg Corner\nCurry Tari\nGrandson of Tunday Kababi\nKebab & Kurry\n"
    }
   ],
   "source": [
    "user = \"user_018_abc\"\n",
    "predicted_movies = User_item_score1(user)\n",
    "print(\" \")\n",
    "print(\"The Recommendations for User Id :\", user)\n",
    "print(\"   \")\n",
    "for i in predicted_movies:\n",
    "    print(i)"
   ]
  },
  {
   "cell_type": "code",
   "execution_count": null,
   "metadata": {},
   "outputs": [],
   "source": []
  },
  {
   "cell_type": "code",
   "execution_count": null,
   "metadata": {},
   "outputs": [],
   "source": []
  },
  {
   "cell_type": "code",
   "execution_count": null,
   "metadata": {},
   "outputs": [],
   "source": []
  }
 ],
 "metadata": {
  "kernelspec": {
   "display_name": "Python 3",
   "language": "python",
   "name": "python3"
  },
  "language_info": {
   "codemirror_mode": {
    "name": "ipython",
    "version": 3
   },
   "file_extension": ".py",
   "mimetype": "text/x-python",
   "name": "python",
   "nbconvert_exporter": "python",
   "pygments_lexer": "ipython3",
   "version": "3.7.6-final"
  }
 },
 "nbformat": 4,
 "nbformat_minor": 4
}